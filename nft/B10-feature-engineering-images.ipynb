{
 "cells": [
  {
   "cell_type": "code",
   "execution_count": 12,
   "id": "7db78d5a",
   "metadata": {},
   "outputs": [],
   "source": [
    "import imageio\n",
    "import numpy as np"
   ]
  },
  {
   "cell_type": "code",
   "execution_count": 13,
   "id": "3cd2e193",
   "metadata": {},
   "outputs": [],
   "source": [
    "import pandas as pd\n",
    "import numpy as np\n",
    "\n",
    "# Read data\n",
    "\n",
    "XYtr = pd.read_csv('data/XYtr.csv')"
   ]
  },
  {
   "cell_type": "code",
   "execution_count": 14,
   "id": "6c604d27",
   "metadata": {},
   "outputs": [],
   "source": [
    "Xte = pd.read_csv('data/Xte.csv')"
   ]
  },
  {
   "cell_type": "code",
   "execution_count": 28,
   "id": "82c51f5a",
   "metadata": {},
   "outputs": [],
   "source": [
    "fp = open('data/Xtr_fi.csv', 'w')\n",
    "fp.write('id,fi1,fi2,fi3,fi4,fi5,fi6,fi7\\n')\n",
    "for i in range(10):\n",
    "    id = XYtr.loc[i,'id']\n",
    "    f = XYtr.loc[i,'id'] + XYtr.loc[i, 'ext']\n",
    "    try:\n",
    "        pic = imageio.imread('data/images/images/' + f)\n",
    "        fi1 = pic.shape[0]\n",
    "        fi2 = pic.shape[1]\n",
    "        fi3 = np.mean(pic[:,:,:])\n",
    "        fi4 = pic.min()\n",
    "        fi5 = np.mean(pic[:,:,0])\n",
    "        fi6 = np.mean(pic[:,:,1])\n",
    "        fi7 = np.mean(pic[:,:,2])\n",
    "    \n",
    "    except:\n",
    "        fi1 = np.nan\n",
    "        fi2 = np.nan\n",
    "        fi3 = np.nan\n",
    "        fi4 = np.nan\n",
    "        fi5 = np.nan\n",
    "        fi6 = np.nan\n",
    "        fi7 = np.nan\n",
    "        pass\n",
    "    \n",
    "    fp.write('%s,%f,%f,%f,%f,%f,%f,%f\\n' % (id, fi1,fi2,fi3,fi4,fi5,fi6,fi7))\n",
    "\n",
    "fp.close()    "
   ]
  },
  {
   "cell_type": "code",
   "execution_count": null,
   "id": "dcaab923",
   "metadata": {},
   "outputs": [],
   "source": []
  },
  {
   "cell_type": "code",
   "execution_count": 29,
   "id": "56140b6d",
   "metadata": {},
   "outputs": [
    {
     "data": {
      "text/plain": [
       "nan"
      ]
     },
     "execution_count": 29,
     "metadata": {},
     "output_type": "execute_result"
    }
   ],
   "source": [
    "np.nan"
   ]
  },
  {
   "cell_type": "code",
   "execution_count": 30,
   "id": "9ee1d614",
   "metadata": {},
   "outputs": [
    {
     "ename": "NameError",
     "evalue": "name 'nan' is not defined",
     "output_type": "error",
     "traceback": [
      "\u001b[0;31m---------------------------------------------------------------------------\u001b[0m",
      "\u001b[0;31mNameError\u001b[0m                                 Traceback (most recent call last)",
      "\u001b[0;32m/var/folders/xw/_98frbp1009f62s1m8wwy4740000gn/T/ipykernel_10167/4207681163.py\u001b[0m in \u001b[0;36m<module>\u001b[0;34m\u001b[0m\n\u001b[0;32m----> 1\u001b[0;31m \u001b[0mnan\u001b[0m\u001b[0;34m\u001b[0m\u001b[0;34m\u001b[0m\u001b[0m\n\u001b[0m",
      "\u001b[0;31mNameError\u001b[0m: name 'nan' is not defined"
     ]
    }
   ],
   "source": [
    "nan"
   ]
  },
  {
   "cell_type": "code",
   "execution_count": 31,
   "id": "17571e29",
   "metadata": {},
   "outputs": [
    {
     "ename": "NameError",
     "evalue": "name 'NAN' is not defined",
     "output_type": "error",
     "traceback": [
      "\u001b[0;31m---------------------------------------------------------------------------\u001b[0m",
      "\u001b[0;31mNameError\u001b[0m                                 Traceback (most recent call last)",
      "\u001b[0;32m/var/folders/xw/_98frbp1009f62s1m8wwy4740000gn/T/ipykernel_10167/1689238546.py\u001b[0m in \u001b[0;36m<module>\u001b[0;34m\u001b[0m\n\u001b[0;32m----> 1\u001b[0;31m \u001b[0mNAN\u001b[0m\u001b[0;34m\u001b[0m\u001b[0;34m\u001b[0m\u001b[0m\n\u001b[0m",
      "\u001b[0;31mNameError\u001b[0m: name 'NAN' is not defined"
     ]
    }
   ],
   "source": [
    "NAN"
   ]
  },
  {
   "cell_type": "code",
   "execution_count": 32,
   "id": "17446c3d",
   "metadata": {},
   "outputs": [
    {
     "ename": "NameError",
     "evalue": "name 'NaN' is not defined",
     "output_type": "error",
     "traceback": [
      "\u001b[0;31m---------------------------------------------------------------------------\u001b[0m",
      "\u001b[0;31mNameError\u001b[0m                                 Traceback (most recent call last)",
      "\u001b[0;32m/var/folders/xw/_98frbp1009f62s1m8wwy4740000gn/T/ipykernel_10167/3998928113.py\u001b[0m in \u001b[0;36m<module>\u001b[0;34m\u001b[0m\n\u001b[0;32m----> 1\u001b[0;31m \u001b[0mNaN\u001b[0m\u001b[0;34m\u001b[0m\u001b[0;34m\u001b[0m\u001b[0m\n\u001b[0m",
      "\u001b[0;31mNameError\u001b[0m: name 'NaN' is not defined"
     ]
    }
   ],
   "source": [
    "NaN"
   ]
  },
  {
   "cell_type": "code",
   "execution_count": null,
   "id": "c2ba1a3d",
   "metadata": {},
   "outputs": [],
   "source": []
  },
  {
   "cell_type": "code",
   "execution_count": null,
   "id": "687c7239",
   "metadata": {},
   "outputs": [],
   "source": []
  }
 ],
 "metadata": {
  "kernelspec": {
   "display_name": "Python 3 (ipykernel)",
   "language": "python",
   "name": "python3"
  },
  "language_info": {
   "codemirror_mode": {
    "name": "ipython",
    "version": 3
   },
   "file_extension": ".py",
   "mimetype": "text/x-python",
   "name": "python",
   "nbconvert_exporter": "python",
   "pygments_lexer": "ipython3",
   "version": "3.8.10"
  }
 },
 "nbformat": 4,
 "nbformat_minor": 5
}
