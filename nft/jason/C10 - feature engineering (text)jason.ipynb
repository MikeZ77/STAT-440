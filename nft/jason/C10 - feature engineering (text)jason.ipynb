{
 "cells": [
  {
   "cell_type": "code",
   "execution_count": 23,
   "id": "e0806e88",
   "metadata": {},
   "outputs": [],
   "source": [
    "import gensim\n",
    "import gensim.corpora as corpora\n",
    "from gensim.utils import simple_preprocess\n",
    "from gensim.models import CoherenceModel"
   ]
  },
  {
   "cell_type": "code",
   "execution_count": 24,
   "id": "ee0d273c",
   "metadata": {},
   "outputs": [],
   "source": [
    "# Plotting tools\n",
    "import pyLDAvis\n",
    "#import pyLDAvis.gensim_models  # don't skip this\n",
    "import matplotlib.pyplot as plt\n",
    "%matplotlib inline"
   ]
  },
  {
   "cell_type": "code",
   "execution_count": 25,
   "id": "09539b93",
   "metadata": {},
   "outputs": [],
   "source": [
    "import pandas as pd\n",
    "import numpy as np\n",
    "from sklearn.feature_extraction.text import CountVectorizer, TfidfVectorizer\n",
    "from sklearn.decomposition import LatentDirichletAllocation, TruncatedSVD"
   ]
  },
  {
   "cell_type": "code",
   "execution_count": 36,
   "id": "ebbe102b",
   "metadata": {},
   "outputs": [],
   "source": [
    "# Load CSV to Dataframe\n",
    "XYtr = pd.read_csv('data/XYtr.csv')\n",
    "Xte = pd.read_csv('data/Xte.csv')"
   ]
  },
  {
   "cell_type": "code",
   "execution_count": 37,
   "id": "664ae9ca",
   "metadata": {},
   "outputs": [],
   "source": [
    "# description: use the token None to mean no description\n",
    "XYtr['description'] = XYtr['description'].fillna('None')\n",
    "Xte['description'] = Xte['description'].fillna('None')"
   ]
  },
  {
   "cell_type": "code",
   "execution_count": 38,
   "id": "bb64fcd5",
   "metadata": {},
   "outputs": [
    {
     "name": "stdout",
     "output_type": "stream",
     "text": [
      "train description missing values:  0\n",
      "test description missing values:  0\n"
     ]
    }
   ],
   "source": [
    "print('train description missing values: ', XYtr['description'].isnull().sum())\n",
    "print('test description missing values: ', Xte['description'].isnull().sum())"
   ]
  },
  {
   "cell_type": "markdown",
   "id": "0e5179e1",
   "metadata": {},
   "source": [
    "### Create a corpus"
   ]
  },
  {
   "cell_type": "code",
   "execution_count": 18,
   "id": "a7022d12",
   "metadata": {},
   "outputs": [],
   "source": [
    "# Create corpus using training and test data\n",
    "corpus = list(description_train)+list(description_test)\n",
    "vectorizer = CountVectorizer()\n",
    "corpus = vectorizer.fit_transform(corpus)\n",
    "features = vectorizer.get_feature_names_out()"
   ]
  },
  {
   "cell_type": "code",
   "execution_count": 82,
   "id": "aa518b72",
   "metadata": {},
   "outputs": [
    {
     "data": {
      "text/plain": [
       "13828"
      ]
     },
     "execution_count": 82,
     "metadata": {},
     "output_type": "execute_result"
    }
   ],
   "source": [
    "# Length of the list (documents in this case)\n",
    "# https://stackoverflow.com/questions/12282232/how-do-i-count-unique-values-inside-a-list\n",
    "len(corpus)"
   ]
  },
  {
   "cell_type": "code",
   "execution_count": null,
   "id": "e62625ae",
   "metadata": {},
   "outputs": [],
   "source": [
    "# verifying the dimension of creating a corpus\n",
    "corpus_copy = XYtr['description'][0]\n",
    "corpus_copy\n",
    "len(corpus_copy.split())\n",
    "# https://stackoverflow.com/questions/49806790/iterable-over-raw-text-documents-expected-string-object-received\n",
    "corpus_copy=[corpus_copy]\n",
    "vectorizer = CountVectorizer()\n",
    "corpus = vectorizer.fit_transform(corpus_copy)"
   ]
  },
  {
   "cell_type": "code",
   "execution_count": 122,
   "id": "f6ab9c92",
   "metadata": {},
   "outputs": [],
   "source": [
    "# Create corpus using training and test data\n",
    "K = 10\n",
    "corpus = list(XYtr['description'])+list(Xte['description'])"
   ]
  },
  {
   "cell_type": "code",
   "execution_count": 123,
   "id": "e6ee0b49",
   "metadata": {},
   "outputs": [],
   "source": [
    "# https://www.geeksforgeeks.org/using-countvectorizer-to-extracting-features-from-text/\n",
    "# CountVectorizer creates a matrix in which each unique word is represented by a column of the matrix, \n",
    "# and each text sample from the document is a row in the matrix. \n",
    "# The value of each cell is nothing but the count of the word in that particular text sample.\n",
    "\n",
    "# Create a Vectorizer Object\n",
    "# remove tokens that appear in 10% of the documents\n",
    "# remove unique tokens that appear in, at most, 2 documents\n",
    "vectorizer = CountVectorizer(max_df=0.1, min_df=2)"
   ]
  },
  {
   "cell_type": "code",
   "execution_count": 124,
   "id": "b2125286",
   "metadata": {},
   "outputs": [],
   "source": [
    "# Encode the documents i.e., encoded vectors\n",
    "corpus = vectorizer.fit_transform(corpus)"
   ]
  },
  {
   "cell_type": "code",
   "execution_count": 126,
   "id": "0645e88c",
   "metadata": {},
   "outputs": [
    {
     "data": {
      "text/plain": [
       "10566"
      ]
     },
     "execution_count": 126,
     "metadata": {},
     "output_type": "execute_result"
    }
   ],
   "source": [
    "len(vectorizer.get_feature_names_out())"
   ]
  },
  {
   "cell_type": "code",
   "execution_count": 127,
   "id": "1cd0d5ff",
   "metadata": {},
   "outputs": [
    {
     "data": {
      "text/plain": [
       "(13828, 10566)"
      ]
     },
     "execution_count": 127,
     "metadata": {},
     "output_type": "execute_result"
    }
   ],
   "source": [
    "# a sparse matrix of documents (row) vs number of unique words\n",
    "corpus.shape"
   ]
  },
  {
   "cell_type": "code",
   "execution_count": 13,
   "id": "01c97a05",
   "metadata": {},
   "outputs": [
    {
     "data": {
      "text/plain": [
       "LatentDirichletAllocation()"
      ]
     },
     "execution_count": 13,
     "metadata": {},
     "output_type": "execute_result"
    }
   ],
   "source": [
    "# build lda model\n",
    "lda = LatentDirichletAllocation(n_components = K)\n",
    "lda.fit(corpus)"
   ]
  },
  {
   "cell_type": "code",
   "execution_count": 14,
   "id": "1532c3c9",
   "metadata": {},
   "outputs": [],
   "source": [
    "topics = lda.transform(corpus)"
   ]
  },
  {
   "cell_type": "code",
   "execution_count": 15,
   "id": "3c278f64",
   "metadata": {},
   "outputs": [
    {
     "data": {
      "text/plain": [
       "array([[0.00416699, 0.00416852, 0.31898932, ..., 0.15739918, 0.07343788,\n",
       "        0.00416713],\n",
       "       [0.01428634, 0.01428764, 0.01428686, ..., 0.01428603, 0.18196175,\n",
       "        0.01428695],\n",
       "       [0.0035718 , 0.9678538 , 0.00357164, ..., 0.00357155, 0.00357161,\n",
       "        0.00357162],\n",
       "       ...,\n",
       "       [0.00303074, 0.00303087, 0.00303063, ..., 0.00303038, 0.00303093,\n",
       "        0.0030311 ],\n",
       "       [0.0032263 , 0.00322613, 0.880355  , ..., 0.0938335 , 0.00322687,\n",
       "        0.00322614],\n",
       "       [0.0035718 , 0.9678538 , 0.00357164, ..., 0.00357155, 0.00357161,\n",
       "        0.00357162]])"
      ]
     },
     "execution_count": 15,
     "metadata": {},
     "output_type": "execute_result"
    }
   ],
   "source": [
    "topics"
   ]
  },
  {
   "cell_type": "code",
   "execution_count": 16,
   "id": "14096a53",
   "metadata": {},
   "outputs": [
    {
     "data": {
      "text/plain": [
       "(13828, 10)"
      ]
     },
     "execution_count": 16,
     "metadata": {},
     "output_type": "execute_result"
    }
   ],
   "source": [
    "topics.shape"
   ]
  },
  {
   "cell_type": "code",
   "execution_count": 17,
   "id": "fce93bf4",
   "metadata": {},
   "outputs": [
    {
     "data": {
      "text/plain": [
       "(6914, 10)"
      ]
     },
     "execution_count": 17,
     "metadata": {},
     "output_type": "execute_result"
    }
   ],
   "source": [
    "XYtr.shape"
   ]
  },
  {
   "cell_type": "code",
   "execution_count": 28,
   "id": "1ac2d76a",
   "metadata": {},
   "outputs": [],
   "source": [
    "test = pd.DataFrame.from_records(topics)"
   ]
  },
  {
   "cell_type": "code",
   "execution_count": 29,
   "id": "d99b2924",
   "metadata": {},
   "outputs": [
    {
     "data": {
      "text/html": [
       "<div>\n",
       "<style scoped>\n",
       "    .dataframe tbody tr th:only-of-type {\n",
       "        vertical-align: middle;\n",
       "    }\n",
       "\n",
       "    .dataframe tbody tr th {\n",
       "        vertical-align: top;\n",
       "    }\n",
       "\n",
       "    .dataframe thead th {\n",
       "        text-align: right;\n",
       "    }\n",
       "</style>\n",
       "<table border=\"1\" class=\"dataframe\">\n",
       "  <thead>\n",
       "    <tr style=\"text-align: right;\">\n",
       "      <th></th>\n",
       "      <th>0</th>\n",
       "      <th>1</th>\n",
       "      <th>2</th>\n",
       "      <th>3</th>\n",
       "      <th>4</th>\n",
       "      <th>5</th>\n",
       "      <th>6</th>\n",
       "      <th>7</th>\n",
       "      <th>8</th>\n",
       "      <th>9</th>\n",
       "    </tr>\n",
       "  </thead>\n",
       "  <tbody>\n",
       "    <tr>\n",
       "      <th>0</th>\n",
       "      <td>0.532121</td>\n",
       "      <td>0.004167</td>\n",
       "      <td>0.004168</td>\n",
       "      <td>0.076116</td>\n",
       "      <td>0.004168</td>\n",
       "      <td>0.184820</td>\n",
       "      <td>0.004167</td>\n",
       "      <td>0.004167</td>\n",
       "      <td>0.004168</td>\n",
       "      <td>0.181938</td>\n",
       "    </tr>\n",
       "    <tr>\n",
       "      <th>1</th>\n",
       "      <td>0.188687</td>\n",
       "      <td>0.014287</td>\n",
       "      <td>0.014286</td>\n",
       "      <td>0.014287</td>\n",
       "      <td>0.014286</td>\n",
       "      <td>0.014286</td>\n",
       "      <td>0.014286</td>\n",
       "      <td>0.014287</td>\n",
       "      <td>0.014286</td>\n",
       "      <td>0.697021</td>\n",
       "    </tr>\n",
       "    <tr>\n",
       "      <th>2</th>\n",
       "      <td>0.003572</td>\n",
       "      <td>0.003573</td>\n",
       "      <td>0.003572</td>\n",
       "      <td>0.003572</td>\n",
       "      <td>0.003572</td>\n",
       "      <td>0.003572</td>\n",
       "      <td>0.003572</td>\n",
       "      <td>0.967855</td>\n",
       "      <td>0.003572</td>\n",
       "      <td>0.003572</td>\n",
       "    </tr>\n",
       "  </tbody>\n",
       "</table>\n",
       "</div>"
      ],
      "text/plain": [
       "          0         1         2         3         4         5         6  \\\n",
       "0  0.532121  0.004167  0.004168  0.076116  0.004168  0.184820  0.004167   \n",
       "1  0.188687  0.014287  0.014286  0.014287  0.014286  0.014286  0.014286   \n",
       "2  0.003572  0.003573  0.003572  0.003572  0.003572  0.003572  0.003572   \n",
       "\n",
       "          7         8         9  \n",
       "0  0.004167  0.004168  0.181938  \n",
       "1  0.014287  0.014286  0.697021  \n",
       "2  0.967855  0.003572  0.003572  "
      ]
     },
     "execution_count": 29,
     "metadata": {},
     "output_type": "execute_result"
    }
   ],
   "source": [
    "test.head(3)"
   ]
  },
  {
   "cell_type": "code",
   "execution_count": null,
   "id": "ef00e0e1",
   "metadata": {},
   "outputs": [],
   "source": [
    "N = XYtr.shape[0]"
   ]
  },
  {
   "cell_type": "code",
   "execution_count": null,
   "id": "5e66dc86",
   "metadata": {},
   "outputs": [],
   "source": []
  },
  {
   "cell_type": "code",
   "execution_count": null,
   "id": "45ec74bd",
   "metadata": {},
   "outputs": [],
   "source": []
  },
  {
   "cell_type": "code",
   "execution_count": null,
   "id": "5e79f222",
   "metadata": {},
   "outputs": [],
   "source": []
  },
  {
   "cell_type": "code",
   "execution_count": null,
   "id": "032b1f3d",
   "metadata": {},
   "outputs": [],
   "source": []
  }
 ],
 "metadata": {
  "kernelspec": {
   "display_name": "Python 3 (ipykernel)",
   "language": "python",
   "name": "python3"
  },
  "language_info": {
   "codemirror_mode": {
    "name": "ipython",
    "version": 3
   },
   "file_extension": ".py",
   "mimetype": "text/x-python",
   "name": "python",
   "nbconvert_exporter": "python",
   "pygments_lexer": "ipython3",
   "version": "3.9.5"
  }
 },
 "nbformat": 4,
 "nbformat_minor": 5
}
