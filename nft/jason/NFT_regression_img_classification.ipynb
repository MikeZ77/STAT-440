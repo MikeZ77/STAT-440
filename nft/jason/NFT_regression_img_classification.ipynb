{
 "cells": [
  {
   "cell_type": "code",
   "execution_count": 1,
   "id": "220b173d",
   "metadata": {},
   "outputs": [],
   "source": [
    "import pandas as pd\n",
    "import numpy as np\n",
    "import matplotlib.pyplot as plt\n",
    "%matplotlib inline\n",
    "import seaborn as sns\n",
    "from sklearn.feature_extraction.text import CountVectorizer, TfidfVectorizer\n",
    "from sklearn.decomposition import LatentDirichletAllocation, TruncatedSVD\n",
    "from pprint import pprint"
   ]
  },
  {
   "cell_type": "markdown",
   "id": "152150d0",
   "metadata": {},
   "source": [
    "# Base Processing"
   ]
  },
  {
   "cell_type": "markdown",
   "id": "0b1d9438",
   "metadata": {},
   "source": [
    "### Read in training & test data"
   ]
  },
  {
   "cell_type": "code",
   "execution_count": 2,
   "id": "51b50add",
   "metadata": {},
   "outputs": [
    {
     "name": "stdout",
     "output_type": "stream",
     "text": [
      "<class 'pandas.core.frame.DataFrame'>\n",
      "RangeIndex: 6914 entries, 0 to 6913\n",
      "Data columns (total 10 columns):\n",
      " #   Column       Non-Null Count  Dtype  \n",
      "---  ------       --------------  -----  \n",
      " 0   id           6914 non-null   object \n",
      " 1   X.sales      6914 non-null   int64  \n",
      " 2   cdate        6914 non-null   object \n",
      " 3   description  6512 non-null   object \n",
      " 4   version      6746 non-null   object \n",
      " 5   symbol       5555 non-null   object \n",
      " 6   ext          6914 non-null   object \n",
      " 7   fee1         6696 non-null   float64\n",
      " 8   fee2         6705 non-null   float64\n",
      " 9   total        6914 non-null   float64\n",
      "dtypes: float64(3), int64(1), object(6)\n",
      "memory usage: 540.3+ KB\n",
      "None\n",
      "\n",
      "<class 'pandas.core.frame.DataFrame'>\n",
      "RangeIndex: 6914 entries, 0 to 6913\n",
      "Data columns (total 9 columns):\n",
      " #   Column       Non-Null Count  Dtype  \n",
      "---  ------       --------------  -----  \n",
      " 0   id           6914 non-null   object \n",
      " 1   X.sales      6914 non-null   int64  \n",
      " 2   cdate        6914 non-null   object \n",
      " 3   description  6537 non-null   object \n",
      " 4   version      6760 non-null   object \n",
      " 5   symbol       5532 non-null   object \n",
      " 6   ext          6914 non-null   object \n",
      " 7   fee1         6630 non-null   float64\n",
      " 8   fee2         6638 non-null   float64\n",
      "dtypes: float64(2), int64(1), object(6)\n",
      "memory usage: 486.3+ KB\n",
      "None\n"
     ]
    }
   ],
   "source": [
    "# Load CSV to Dataframe\n",
    "PATH = 'data/'\n",
    "FILE_train = 'XYtr.csv'\n",
    "FILE_test = 'Xte.csv'\n",
    "IMG = 'image_class.csv'\n",
    "\n",
    "raw_train = pd.read_csv(PATH + FILE_train)\n",
    "raw_test = pd.read_csv(PATH + FILE_test)\n",
    "img_file = pd.read_csv(PATH + IMG)\n",
    "\n",
    "# Description, version, symbol, fee1, and fee2 have missing values (NaN)\n",
    "print(raw_train.info())\n",
    "print()\n",
    "print(raw_test.info())"
   ]
  },
  {
   "cell_type": "code",
   "execution_count": 3,
   "id": "d7b19d32",
   "metadata": {},
   "outputs": [],
   "source": [
    "raw_train = raw_train.merge(img_file, on = 'id', how = 'left')\n",
    "raw_test = raw_test.merge(img_file, on = 'id', how = 'left')"
   ]
  },
  {
   "cell_type": "code",
   "execution_count": 4,
   "id": "6f6c00ef",
   "metadata": {},
   "outputs": [
    {
     "data": {
      "text/plain": [
       "<seaborn.axisgrid.FacetGrid at 0x7f2cef3ce460>"
      ]
     },
     "execution_count": 4,
     "metadata": {},
     "output_type": "execute_result"
    },
    {
     "data": {
      "image/png": "[encoded data removed]",
      "text/plain": [
       "<Figure size 360x360 with 1 Axes>"
      ]
     },
     "metadata": {
      "needs_background": "light"
     },
     "output_type": "display_data"
    }
   ],
   "source": [
    "sns.displot(raw_train, x=\"total\", kind=\"kde\")"
   ]
  },
  {
   "cell_type": "markdown",
   "id": "116a8809",
   "metadata": {},
   "source": [
    "### size of the dataframe"
   ]
  },
  {
   "cell_type": "code",
   "execution_count": 5,
   "id": "94119985",
   "metadata": {},
   "outputs": [
    {
     "name": "stdout",
     "output_type": "stream",
     "text": [
      "raw_train shape:  (6914, 12)\n",
      "raw_test shape:  (6914, 11)\n"
     ]
    }
   ],
   "source": [
    "print('raw_train shape: ', raw_train.shape)\n",
    "print('raw_test shape: ', raw_test.shape)"
   ]
  },
  {
   "cell_type": "markdown",
   "id": "1b4b28ea",
   "metadata": {},
   "source": [
    "### description"
   ]
  },
  {
   "cell_type": "code",
   "execution_count": 6,
   "id": "97dcb4f5",
   "metadata": {},
   "outputs": [
    {
     "name": "stdout",
     "output_type": "stream",
     "text": [
      "raw_train description missing values:  402\n",
      "raw_test description missing values:  377\n"
     ]
    }
   ],
   "source": [
    "print('raw_train description missing values: ', raw_train['description'].isnull().sum())\n",
    "print('raw_test description missing values: ', raw_test['description'].isnull().sum())"
   ]
  },
  {
   "cell_type": "markdown",
   "id": "815f30bc",
   "metadata": {},
   "source": [
    "### version"
   ]
  },
  {
   "cell_type": "code",
   "execution_count": 7,
   "id": "06e94f6f",
   "metadata": {},
   "outputs": [
    {
     "name": "stdout",
     "output_type": "stream",
     "text": [
      "raw_train version:  ['3' 'None' 'unsupported' '4' nan '1' '2']\n",
      "raw_test version:  ['3' '4' 'None' nan 'unsupported' '1' '2']\n"
     ]
    }
   ],
   "source": [
    "print('raw_train version: ', raw_train['version'].unique())\n",
    "print('raw_test version: ', raw_test['version'].unique())"
   ]
  },
  {
   "cell_type": "code",
   "execution_count": 8,
   "id": "3be90418",
   "metadata": {},
   "outputs": [
    {
     "name": "stdout",
     "output_type": "stream",
     "text": [
      "raw_train version missing values:  168\n",
      "raw_test version missing values:  154\n"
     ]
    }
   ],
   "source": [
    "print('raw_train version missing values: ', raw_train['version'].isnull().sum())\n",
    "print('raw_test version missing values: ', raw_test['version'].isnull().sum())"
   ]
  },
  {
   "cell_type": "markdown",
   "id": "18f83f6f",
   "metadata": {},
   "source": [
    "### symbol"
   ]
  },
  {
   "cell_type": "code",
   "execution_count": 9,
   "id": "54f9f965",
   "metadata": {},
   "outputs": [
    {
     "name": "stdout",
     "output_type": "stream",
     "text": [
      "raw_train symbol:  417\n",
      "raw_test symbol:  415\n"
     ]
    }
   ],
   "source": [
    "# https://stackoverflow.com/questions/45759966/counting-unique-values-in-a-column-in-pandas-dataframe-like-in-qlik/45760042\n",
    "print('raw_train symbol: ', raw_train['symbol'].nunique())\n",
    "print('raw_test symbol: ', raw_test['symbol'].nunique())"
   ]
  },
  {
   "cell_type": "code",
   "execution_count": 10,
   "id": "80ef3671",
   "metadata": {},
   "outputs": [
    {
     "name": "stdout",
     "output_type": "stream",
     "text": [
      "raw_train symbol missing values:  1359\n",
      "raw_test symbol missing values:  1382\n"
     ]
    }
   ],
   "source": [
    "print('raw_train symbol missing values: ', raw_train['symbol'].isnull().sum())\n",
    "print('raw_test symbol missing values: ', raw_test['symbol'].isnull().sum())"
   ]
  },
  {
   "cell_type": "markdown",
   "id": "94edac07",
   "metadata": {},
   "source": [
    "### ext"
   ]
  },
  {
   "cell_type": "code",
   "execution_count": 11,
   "id": "2daa8759",
   "metadata": {},
   "outputs": [
    {
     "name": "stdout",
     "output_type": "stream",
     "text": [
      "raw_train ext:  ['.png' '.jpg' '.gif']\n",
      "raw_test ext:  ['.png' '.gif' '.jpg']\n"
     ]
    }
   ],
   "source": [
    "print('raw_train ext: ', raw_train['ext'].unique())\n",
    "print('raw_test ext: ', raw_test['ext'].unique())"
   ]
  },
  {
   "cell_type": "markdown",
   "id": "8bb84d40",
   "metadata": {},
   "source": [
    "### fee1"
   ]
  },
  {
   "cell_type": "code",
   "execution_count": 12,
   "id": "2a2c59e1",
   "metadata": {},
   "outputs": [
    {
     "name": "stdout",
     "output_type": "stream",
     "text": [
      "raw_train fee1 missing values:  218\n",
      "raw_test fee1 missing values:  284\n"
     ]
    }
   ],
   "source": [
    "print('raw_train fee1 missing values: ', raw_train['fee1'].isnull().sum())\n",
    "print('raw_test fee1 missing values: ', raw_test['fee1'].isnull().sum())"
   ]
  },
  {
   "cell_type": "markdown",
   "id": "14d5bfdd",
   "metadata": {},
   "source": [
    "### fee2"
   ]
  },
  {
   "cell_type": "code",
   "execution_count": 13,
   "id": "8ec3e444",
   "metadata": {},
   "outputs": [
    {
     "name": "stdout",
     "output_type": "stream",
     "text": [
      "raw_train fee2 missing values:  209\n",
      "raw_test fee2 missing values:  276\n"
     ]
    }
   ],
   "source": [
    "print('raw_train fee2 missing values: ', raw_train['fee2'].isnull().sum())\n",
    "print('raw_test fee2 missing values: ', raw_test['fee2'].isnull().sum())"
   ]
  },
  {
   "cell_type": "code",
   "execution_count": 14,
   "id": "0518aa62",
   "metadata": {},
   "outputs": [],
   "source": [
    "train_clean = raw_train.copy()\n",
    "test_clean = raw_test.copy()"
   ]
  },
  {
   "cell_type": "markdown",
   "id": "da8a0be8",
   "metadata": {},
   "source": [
    "### Data Cleaning for training"
   ]
  },
  {
   "cell_type": "code",
   "execution_count": 15,
   "id": "1920f532",
   "metadata": {},
   "outputs": [
    {
     "name": "stdout",
     "output_type": "stream",
     "text": [
      "<class 'pandas.core.frame.DataFrame'>\n",
      "RangeIndex: 6842 entries, 0 to 6841\n",
      "Data columns (total 12 columns):\n",
      " #   Column       Non-Null Count  Dtype  \n",
      "---  ------       --------------  -----  \n",
      " 0   id           6842 non-null   object \n",
      " 1   X.sales      6842 non-null   int64  \n",
      " 2   cdate        6842 non-null   object \n",
      " 3   description  6842 non-null   object \n",
      " 4   version      6842 non-null   object \n",
      " 5   symbol       6842 non-null   object \n",
      " 6   ext          6842 non-null   object \n",
      " 7   fee1         6842 non-null   float64\n",
      " 8   fee2         6842 non-null   float64\n",
      " 9   total        6842 non-null   float64\n",
      " 10  image_class  6842 non-null   object \n",
      " 11  score        4352 non-null   float64\n",
      "dtypes: float64(4), int64(1), object(7)\n",
      "memory usage: 641.6+ KB\n",
      "None\n"
     ]
    }
   ],
   "source": [
    "# description: use the token None to mean no description\n",
    "train_clean['description'] = train_clean['description'].fillna('None')\n",
    "\n",
    "# version: Has 'None' category. Set nan to 'None'. \n",
    "#print(train_train['version'].unique())\n",
    "train_clean['version'] = train_clean['version'].fillna('None')\n",
    "\n",
    "# symbol: 5 digit symbols. Set to 00000 to represent None.\n",
    "# print(df_train['symbol'].unique())\n",
    "train_clean['symbol'] = train_clean['symbol'].fillna('00000')\n",
    "\n",
    "# image class\n",
    "train_clean['image_class'] = train_clean['image_class'].fillna('None')\n",
    "\n",
    "# fee1: Small number misssin. Fill with the mean.\n",
    "#df_train['fee1'] = df_train['fee1'].fillna((df_train['fee1'].mean()))\n",
    "# https://www.w3resource.com/python-exercises/pandas/missing-values/python-pandas-missing-values-exercise-14.php\n",
    "train_clean['fee1'].fillna(train_clean['fee1'].median(), inplace=True)\n",
    "                                           \n",
    "# fee2: Small number misssin. Fill with the mean.\n",
    "#df_train['fee2'] = df_train['fee2'].fillna((df_train['fee2'].mean()))\n",
    "train_clean['fee2'].fillna(train_clean['fee2'].median(), inplace=True)\n",
    "\n",
    "# removing outliers\n",
    "train_clean = train_clean[np.abs(train_clean['total']-train_clean['total'].mean()) <= (4*train_clean['total'].std())]\n",
    "\n",
    "# https://stackoverflow.com/questions/20490274/how-to-reset-index-in-a-pandas-dataframe\n",
    "train_clean.reset_index(drop=True, inplace=True)\n",
    "\n",
    "print(train_clean.info())"
   ]
  },
  {
   "cell_type": "markdown",
   "id": "41b0b1b6",
   "metadata": {},
   "source": [
    "### Data Cleaning for test"
   ]
  },
  {
   "cell_type": "code",
   "execution_count": 16,
   "id": "91c3a6bd",
   "metadata": {},
   "outputs": [
    {
     "name": "stdout",
     "output_type": "stream",
     "text": [
      "<class 'pandas.core.frame.DataFrame'>\n",
      "Int64Index: 6914 entries, 0 to 6913\n",
      "Data columns (total 11 columns):\n",
      " #   Column       Non-Null Count  Dtype  \n",
      "---  ------       --------------  -----  \n",
      " 0   id           6914 non-null   object \n",
      " 1   X.sales      6914 non-null   int64  \n",
      " 2   cdate        6914 non-null   object \n",
      " 3   description  6914 non-null   object \n",
      " 4   version      6914 non-null   object \n",
      " 5   symbol       6914 non-null   object \n",
      " 6   ext          6914 non-null   object \n",
      " 7   fee1         6914 non-null   float64\n",
      " 8   fee2         6914 non-null   float64\n",
      " 9   image_class  6914 non-null   object \n",
      " 10  score        4462 non-null   float64\n",
      "dtypes: float64(3), int64(1), object(7)\n",
      "memory usage: 648.2+ KB\n",
      "None\n"
     ]
    }
   ],
   "source": [
    "# description: use the token None to mean no description\n",
    "test_clean['description'] = test_clean['description'].fillna('None')\n",
    "\n",
    "# version: Has 'None' category. Set nan to 'None'. \n",
    "test_clean['version'] = test_clean['version'].fillna('None')\n",
    "\n",
    "# symbol: 5 digit symbols. Set to 00000 to represent None.\n",
    "test_clean['symbol'] = test_clean['symbol'].fillna('00000')\n",
    "\n",
    "# image class\n",
    "test_clean['image_class'] = test_clean['image_class'].fillna('None')\n",
    "\n",
    "# fee1: Small number misssin. Fill with the mean.\n",
    "test_clean['fee1'].fillna(test_clean['fee1'].median(), inplace=True)\n",
    "                                           \n",
    "# fee2: Small number misssin. Fill with the mean.\n",
    "test_clean['fee2'].fillna(test_clean['fee2'].median(), inplace=True)\n",
    "\n",
    "print(test_clean.info())"
   ]
  },
  {
   "cell_type": "markdown",
   "id": "50fb0bce",
   "metadata": {},
   "source": [
    "### Data preprocessing for training & test"
   ]
  },
  {
   "cell_type": "code",
   "execution_count": 17,
   "id": "64e9b53d",
   "metadata": {},
   "outputs": [],
   "source": [
    "train_processed = train_clean.copy()\n",
    "test_processed = test_clean.copy()"
   ]
  },
  {
   "cell_type": "code",
   "execution_count": 18,
   "id": "4744a669",
   "metadata": {},
   "outputs": [],
   "source": [
    "# cdate: change dates to float\n",
    "tr_date = train_processed['cdate']\n",
    "train_processed['cdate'] = pd.to_datetime(tr_date).values.astype(np.float64)/8.64e+13\n",
    "\n",
    "te_date = test_processed['cdate']\n",
    "test_processed['cdate'] = pd.to_datetime(te_date).values.astype(np.float64)/8.64e+13"
   ]
  },
  {
   "cell_type": "code",
   "execution_count": 19,
   "id": "22ae985d",
   "metadata": {},
   "outputs": [],
   "source": [
    "# X.sales: change from int to float\n",
    "train_processed['X.sales'] = train_processed['X.sales'].astype(np.float64)\n",
    "test_processed['X.sales'] = test_processed['X.sales'].astype(np.float64)"
   ]
  },
  {
   "cell_type": "code",
   "execution_count": 20,
   "id": "53c92919",
   "metadata": {},
   "outputs": [],
   "source": [
    "# obtain unique values from each dataset\n",
    "train_symbols = set(train_processed['symbol'].unique())\n",
    "test_symbols = set(test_processed['symbol'].unique())\n",
    "\n",
    "# union all the values\n",
    "# https://stackoverflow.com/questions/52976664/python-differences-between-two-lists\n",
    "# # https://www.programiz.com/python-programming/methods/set/union\n",
    "all_symbols = train_symbols.union(test_symbols)\n",
    "\n",
    "# https://www.geeksforgeeks.org/python-intersection-two-lists/\n",
    "# symbols that appear in both datasets\n",
    "intersect_symbols = list(train_symbols & test_symbols)\n",
    "\n",
    "# values not included in train set\n",
    "train_required_symbols = list(all_symbols - train_symbols)\n",
    "\n",
    "# values not included in test set\n",
    "test_required_symbols = list(all_symbols - test_symbols)"
   ]
  },
  {
   "cell_type": "code",
   "execution_count": 21,
   "id": "70e46eeb",
   "metadata": {},
   "outputs": [],
   "source": [
    "# https://stackoverflow.com/questions/55839568/python-add-same-prefix-to-all-elements-in-list\n",
    "drop_sym = list(all_symbols - set(intersect_symbols))\n",
    "drop_sym = ['symbol_' + x for x in drop_sym]"
   ]
  },
  {
   "cell_type": "code",
   "execution_count": 22,
   "id": "0197e2f0",
   "metadata": {},
   "outputs": [],
   "source": [
    "# one-hot encoding on version, symbol and ext\n",
    "train_processed = pd.get_dummies(train_processed, columns = ['version', 'ext', 'symbol'], drop_first = False, prefix = ['version', 'ext', 'symbol'])\n",
    "test_processed = pd.get_dummies(test_processed, columns = ['version', 'ext', 'symbol'], drop_first = False, prefix = ['version', 'ext', 'symbol'])"
   ]
  },
  {
   "cell_type": "code",
   "execution_count": 23,
   "id": "aa528fdb",
   "metadata": {},
   "outputs": [
    {
     "name": "stderr",
     "output_type": "stream",
     "text": [
      "/home/pop21/Documents/STAT-440/nft/jason/venv/lib/python3.9/site-packages/IPython/core/interactiveshell.py:3364: PerformanceWarning: DataFrame is highly fragmented.  This is usually the result of calling `frame.insert` many times, which has poor performance.  Consider joining all columns at once using pd.concat(axis=1) instead.  To get a de-fragmented frame, use `newframe = frame.copy()`\n",
      "  if (await self.run_code(code, result,  async_=asy)):\n"
     ]
    }
   ],
   "source": [
    "# https://stackoverflow.com/questions/18674064/how-do-i-insert-a-column-at-a-specific-column-index-in-pandas\n",
    "for train_syms in train_required_symbols:\n",
    "    train_processed.insert(train_processed.shape[1], str('symbol_') + train_syms, 0)"
   ]
  },
  {
   "cell_type": "code",
   "execution_count": 24,
   "id": "cd2bbd3c",
   "metadata": {},
   "outputs": [],
   "source": [
    "for test_syms in test_required_symbols:\n",
    "    test_processed.insert(test_processed.shape[1], str('symbol_') + test_syms, 0)"
   ]
  },
  {
   "cell_type": "code",
   "execution_count": 25,
   "id": "00f7982a",
   "metadata": {},
   "outputs": [],
   "source": [
    "# obtain unique values from each dataset\n",
    "train_img_class = set(train_processed['image_class'].unique())\n",
    "test_img_class = set(test_processed['image_class'].unique())\n",
    "\n",
    "# union all the values\n",
    "# https://stackoverflow.com/questions/52976664/python-differences-between-two-lists\n",
    "# # https://www.programiz.com/python-programming/methods/set/union\n",
    "all_img_class = train_img_class.union(test_img_class)\n",
    "\n",
    "# https://www.geeksforgeeks.org/python-intersection-two-lists/\n",
    "# symbols that appear in both datasets\n",
    "intersect_img_class = list(train_img_class & test_img_class)\n",
    "\n",
    "# values not included in train set\n",
    "train_required_img_class = list(all_img_class - train_img_class)\n",
    "\n",
    "# values not included in test set\n",
    "test_required_img_class = list(all_img_class - test_img_class)"
   ]
  },
  {
   "cell_type": "code",
   "execution_count": 26,
   "id": "497381b7",
   "metadata": {},
   "outputs": [],
   "source": [
    "drop_img = list(all_img_class - set(intersect_img_class))\n",
    "drop_img = ['image_class_' + x for x in drop_img]"
   ]
  },
  {
   "cell_type": "code",
   "execution_count": 27,
   "id": "efa345ca",
   "metadata": {},
   "outputs": [],
   "source": [
    "# one-hot encoding on version, symbol and ext\n",
    "train_processed = pd.get_dummies(train_processed, columns = ['image_class'], drop_first = False, prefix = ['image_class'])\n",
    "test_processed = pd.get_dummies(test_processed, columns = ['image_class'], drop_first = False, prefix = ['image_class'])"
   ]
  },
  {
   "cell_type": "code",
   "execution_count": 28,
   "id": "8af99b7a",
   "metadata": {},
   "outputs": [],
   "source": [
    "for train_imgs in train_required_img_class:\n",
    "    train_processed.insert(train_processed.shape[1], str('image_class_') + train_imgs, 0)\n",
    "\n",
    "for test_imgs in test_required_img_class:\n",
    "    test_processed.insert(test_processed.shape[1], str('image_class_') + test_imgs, 0)"
   ]
  },
  {
   "cell_type": "code",
   "execution_count": 29,
   "id": "2aee7ff2",
   "metadata": {},
   "outputs": [],
   "source": [
    "train_base = train_processed.copy()\n",
    "test_base = test_processed.copy()"
   ]
  },
  {
   "cell_type": "code",
   "execution_count": 30,
   "id": "23a03db8",
   "metadata": {},
   "outputs": [
    {
     "name": "stdout",
     "output_type": "stream",
     "text": [
      "(6842, 720)\n",
      "(6914, 719)\n"
     ]
    }
   ],
   "source": [
    "train_base = train_base.drop(drop_img, axis = 1)\n",
    "test_base = test_base.drop(drop_img, axis = 1)\n",
    "\n",
    "print(train_base.shape)\n",
    "print(test_base.shape)"
   ]
  },
  {
   "cell_type": "markdown",
   "id": "60745ea1",
   "metadata": {},
   "source": [
    "# Text Feature Extraction"
   ]
  },
  {
   "cell_type": "code",
   "execution_count": 31,
   "id": "bd6fb211",
   "metadata": {},
   "outputs": [
    {
     "name": "stdout",
     "output_type": "stream",
     "text": [
      "train description missing values:  0\n",
      "test description missing values:  0\n"
     ]
    }
   ],
   "source": [
    "# Check for missing values before processing\n",
    "print('train description missing values: ', train_base['description'].isnull().sum())\n",
    "print('test description missing values: ', test_base['description'].isnull().sum())"
   ]
  },
  {
   "cell_type": "markdown",
   "id": "ea42391f",
   "metadata": {},
   "source": [
    "### Create a corpus using training and test data"
   ]
  },
  {
   "cell_type": "code",
   "execution_count": 32,
   "id": "bbcc8ce2",
   "metadata": {},
   "outputs": [],
   "source": [
    "# Create corpus using training and test data\n",
    "corpus = list(train_base['description'])+list(test_base['description'])"
   ]
  },
  {
   "cell_type": "markdown",
   "id": "7ba74f2b",
   "metadata": {},
   "source": [
    "### Create a Document-Word matrix"
   ]
  },
  {
   "cell_type": "code",
   "execution_count": 33,
   "id": "537baa99",
   "metadata": {},
   "outputs": [],
   "source": [
    "# Create a Vectorizer Object\n",
    "# remove tokens that appear in 10% of the documents\n",
    "# remove unique tokens that appear in, at most, 2 documents\n",
    "vectorizer = CountVectorizer(max_df=0.1, min_df=2)"
   ]
  },
  {
   "cell_type": "code",
   "execution_count": 34,
   "id": "57752513",
   "metadata": {},
   "outputs": [],
   "source": [
    "# Encode the documents in a count matrix\n",
    "corpus_vectorized = vectorizer.fit_transform(corpus)"
   ]
  },
  {
   "cell_type": "code",
   "execution_count": 35,
   "id": "a5a7d1cb",
   "metadata": {},
   "outputs": [
    {
     "name": "stdout",
     "output_type": "stream",
     "text": [
      "feature name:  ['002n7' '00b0d' '00jhg' ... 'zztgg' 'zzvdf' 'zzw3j']\n",
      "feature size:  10518\n",
      "matrix dimension:  (13756, 10518)\n"
     ]
    }
   ],
   "source": [
    "# Feature names and size\n",
    "print('feature name: ', vectorizer.get_feature_names_out())\n",
    "print('feature size: ', len(vectorizer.get_feature_names_out()))\n",
    "\n",
    "# dimension of a sparse matrix of documents (row) vs number of unique words\n",
    "print('matrix dimension: ', corpus_vectorized.shape)"
   ]
  },
  {
   "cell_type": "code",
   "execution_count": 36,
   "id": "e489f74d",
   "metadata": {},
   "outputs": [
    {
     "data": {
      "text/html": [
       "<div>\n",
       "<style scoped>\n",
       "    .dataframe tbody tr th:only-of-type {\n",
       "        vertical-align: middle;\n",
       "    }\n",
       "\n",
       "    .dataframe tbody tr th {\n",
       "        vertical-align: top;\n",
       "    }\n",
       "\n",
       "    .dataframe thead th {\n",
       "        text-align: right;\n",
       "    }\n",
       "</style>\n",
       "<table border=\"1\" class=\"dataframe\">\n",
       "  <thead>\n",
       "    <tr style=\"text-align: right;\">\n",
       "      <th></th>\n",
       "      <th>002n7</th>\n",
       "      <th>00b0d</th>\n",
       "      <th>00jhg</th>\n",
       "      <th>00ud9</th>\n",
       "      <th>00xck</th>\n",
       "      <th>01abs</th>\n",
       "      <th>01fnu</th>\n",
       "      <th>01jsj</th>\n",
       "      <th>01k0e</th>\n",
       "      <th>01nrz</th>\n",
       "      <th>...</th>\n",
       "      <th>zzhb3</th>\n",
       "      <th>zzht0</th>\n",
       "      <th>zzlz3</th>\n",
       "      <th>zznp1</th>\n",
       "      <th>zzns7</th>\n",
       "      <th>zzpvk</th>\n",
       "      <th>zzr1c</th>\n",
       "      <th>zztgg</th>\n",
       "      <th>zzvdf</th>\n",
       "      <th>zzw3j</th>\n",
       "    </tr>\n",
       "  </thead>\n",
       "  <tbody>\n",
       "    <tr>\n",
       "      <th>0</th>\n",
       "      <td>0</td>\n",
       "      <td>0</td>\n",
       "      <td>0</td>\n",
       "      <td>0</td>\n",
       "      <td>0</td>\n",
       "      <td>0</td>\n",
       "      <td>0</td>\n",
       "      <td>0</td>\n",
       "      <td>0</td>\n",
       "      <td>0</td>\n",
       "      <td>...</td>\n",
       "      <td>0</td>\n",
       "      <td>0</td>\n",
       "      <td>0</td>\n",
       "      <td>0</td>\n",
       "      <td>0</td>\n",
       "      <td>0</td>\n",
       "      <td>0</td>\n",
       "      <td>0</td>\n",
       "      <td>0</td>\n",
       "      <td>0</td>\n",
       "    </tr>\n",
       "    <tr>\n",
       "      <th>1</th>\n",
       "      <td>0</td>\n",
       "      <td>0</td>\n",
       "      <td>0</td>\n",
       "      <td>0</td>\n",
       "      <td>0</td>\n",
       "      <td>0</td>\n",
       "      <td>0</td>\n",
       "      <td>0</td>\n",
       "      <td>0</td>\n",
       "      <td>0</td>\n",
       "      <td>...</td>\n",
       "      <td>0</td>\n",
       "      <td>0</td>\n",
       "      <td>0</td>\n",
       "      <td>0</td>\n",
       "      <td>0</td>\n",
       "      <td>0</td>\n",
       "      <td>0</td>\n",
       "      <td>0</td>\n",
       "      <td>0</td>\n",
       "      <td>0</td>\n",
       "    </tr>\n",
       "    <tr>\n",
       "      <th>2</th>\n",
       "      <td>0</td>\n",
       "      <td>0</td>\n",
       "      <td>0</td>\n",
       "      <td>0</td>\n",
       "      <td>0</td>\n",
       "      <td>0</td>\n",
       "      <td>0</td>\n",
       "      <td>0</td>\n",
       "      <td>0</td>\n",
       "      <td>0</td>\n",
       "      <td>...</td>\n",
       "      <td>0</td>\n",
       "      <td>0</td>\n",
       "      <td>0</td>\n",
       "      <td>0</td>\n",
       "      <td>0</td>\n",
       "      <td>0</td>\n",
       "      <td>0</td>\n",
       "      <td>0</td>\n",
       "      <td>0</td>\n",
       "      <td>0</td>\n",
       "    </tr>\n",
       "    <tr>\n",
       "      <th>3</th>\n",
       "      <td>0</td>\n",
       "      <td>0</td>\n",
       "      <td>0</td>\n",
       "      <td>0</td>\n",
       "      <td>0</td>\n",
       "      <td>0</td>\n",
       "      <td>0</td>\n",
       "      <td>0</td>\n",
       "      <td>0</td>\n",
       "      <td>0</td>\n",
       "      <td>...</td>\n",
       "      <td>0</td>\n",
       "      <td>0</td>\n",
       "      <td>0</td>\n",
       "      <td>0</td>\n",
       "      <td>0</td>\n",
       "      <td>0</td>\n",
       "      <td>0</td>\n",
       "      <td>0</td>\n",
       "      <td>0</td>\n",
       "      <td>0</td>\n",
       "    </tr>\n",
       "    <tr>\n",
       "      <th>4</th>\n",
       "      <td>0</td>\n",
       "      <td>0</td>\n",
       "      <td>0</td>\n",
       "      <td>0</td>\n",
       "      <td>0</td>\n",
       "      <td>0</td>\n",
       "      <td>0</td>\n",
       "      <td>0</td>\n",
       "      <td>0</td>\n",
       "      <td>0</td>\n",
       "      <td>...</td>\n",
       "      <td>0</td>\n",
       "      <td>0</td>\n",
       "      <td>0</td>\n",
       "      <td>0</td>\n",
       "      <td>0</td>\n",
       "      <td>0</td>\n",
       "      <td>0</td>\n",
       "      <td>0</td>\n",
       "      <td>0</td>\n",
       "      <td>0</td>\n",
       "    </tr>\n",
       "    <tr>\n",
       "      <th>...</th>\n",
       "      <td>...</td>\n",
       "      <td>...</td>\n",
       "      <td>...</td>\n",
       "      <td>...</td>\n",
       "      <td>...</td>\n",
       "      <td>...</td>\n",
       "      <td>...</td>\n",
       "      <td>...</td>\n",
       "      <td>...</td>\n",
       "      <td>...</td>\n",
       "      <td>...</td>\n",
       "      <td>...</td>\n",
       "      <td>...</td>\n",
       "      <td>...</td>\n",
       "      <td>...</td>\n",
       "      <td>...</td>\n",
       "      <td>...</td>\n",
       "      <td>...</td>\n",
       "      <td>...</td>\n",
       "      <td>...</td>\n",
       "      <td>...</td>\n",
       "    </tr>\n",
       "    <tr>\n",
       "      <th>13751</th>\n",
       "      <td>0</td>\n",
       "      <td>0</td>\n",
       "      <td>0</td>\n",
       "      <td>0</td>\n",
       "      <td>0</td>\n",
       "      <td>0</td>\n",
       "      <td>0</td>\n",
       "      <td>0</td>\n",
       "      <td>0</td>\n",
       "      <td>0</td>\n",
       "      <td>...</td>\n",
       "      <td>0</td>\n",
       "      <td>0</td>\n",
       "      <td>0</td>\n",
       "      <td>0</td>\n",
       "      <td>0</td>\n",
       "      <td>0</td>\n",
       "      <td>0</td>\n",
       "      <td>0</td>\n",
       "      <td>0</td>\n",
       "      <td>0</td>\n",
       "    </tr>\n",
       "    <tr>\n",
       "      <th>13752</th>\n",
       "      <td>0</td>\n",
       "      <td>0</td>\n",
       "      <td>0</td>\n",
       "      <td>0</td>\n",
       "      <td>0</td>\n",
       "      <td>0</td>\n",
       "      <td>0</td>\n",
       "      <td>0</td>\n",
       "      <td>0</td>\n",
       "      <td>0</td>\n",
       "      <td>...</td>\n",
       "      <td>0</td>\n",
       "      <td>0</td>\n",
       "      <td>0</td>\n",
       "      <td>0</td>\n",
       "      <td>0</td>\n",
       "      <td>0</td>\n",
       "      <td>0</td>\n",
       "      <td>0</td>\n",
       "      <td>0</td>\n",
       "      <td>0</td>\n",
       "    </tr>\n",
       "    <tr>\n",
       "      <th>13753</th>\n",
       "      <td>0</td>\n",
       "      <td>0</td>\n",
       "      <td>0</td>\n",
       "      <td>0</td>\n",
       "      <td>0</td>\n",
       "      <td>0</td>\n",
       "      <td>0</td>\n",
       "      <td>0</td>\n",
       "      <td>0</td>\n",
       "      <td>0</td>\n",
       "      <td>...</td>\n",
       "      <td>0</td>\n",
       "      <td>0</td>\n",
       "      <td>0</td>\n",
       "      <td>0</td>\n",
       "      <td>0</td>\n",
       "      <td>0</td>\n",
       "      <td>0</td>\n",
       "      <td>0</td>\n",
       "      <td>0</td>\n",
       "      <td>0</td>\n",
       "    </tr>\n",
       "    <tr>\n",
       "      <th>13754</th>\n",
       "      <td>0</td>\n",
       "      <td>0</td>\n",
       "      <td>0</td>\n",
       "      <td>0</td>\n",
       "      <td>0</td>\n",
       "      <td>0</td>\n",
       "      <td>0</td>\n",
       "      <td>0</td>\n",
       "      <td>0</td>\n",
       "      <td>0</td>\n",
       "      <td>...</td>\n",
       "      <td>0</td>\n",
       "      <td>0</td>\n",
       "      <td>0</td>\n",
       "      <td>0</td>\n",
       "      <td>0</td>\n",
       "      <td>0</td>\n",
       "      <td>0</td>\n",
       "      <td>0</td>\n",
       "      <td>0</td>\n",
       "      <td>0</td>\n",
       "    </tr>\n",
       "    <tr>\n",
       "      <th>13755</th>\n",
       "      <td>0</td>\n",
       "      <td>0</td>\n",
       "      <td>0</td>\n",
       "      <td>0</td>\n",
       "      <td>0</td>\n",
       "      <td>0</td>\n",
       "      <td>0</td>\n",
       "      <td>0</td>\n",
       "      <td>0</td>\n",
       "      <td>0</td>\n",
       "      <td>...</td>\n",
       "      <td>0</td>\n",
       "      <td>0</td>\n",
       "      <td>0</td>\n",
       "      <td>0</td>\n",
       "      <td>0</td>\n",
       "      <td>0</td>\n",
       "      <td>0</td>\n",
       "      <td>0</td>\n",
       "      <td>0</td>\n",
       "      <td>0</td>\n",
       "    </tr>\n",
       "  </tbody>\n",
       "</table>\n",
       "<p>13756 rows × 10518 columns</p>\n",
       "</div>"
      ],
      "text/plain": [
       "       002n7  00b0d  00jhg  00ud9  00xck  01abs  01fnu  01jsj  01k0e  01nrz  \\\n",
       "0          0      0      0      0      0      0      0      0      0      0   \n",
       "1          0      0      0      0      0      0      0      0      0      0   \n",
       "2          0      0      0      0      0      0      0      0      0      0   \n",
       "3          0      0      0      0      0      0      0      0      0      0   \n",
       "4          0      0      0      0      0      0      0      0      0      0   \n",
       "...      ...    ...    ...    ...    ...    ...    ...    ...    ...    ...   \n",
       "13751      0      0      0      0      0      0      0      0      0      0   \n",
       "13752      0      0      0      0      0      0      0      0      0      0   \n",
       "13753      0      0      0      0      0      0      0      0      0      0   \n",
       "13754      0      0      0      0      0      0      0      0      0      0   \n",
       "13755      0      0      0      0      0      0      0      0      0      0   \n",
       "\n",
       "       ...  zzhb3  zzht0  zzlz3  zznp1  zzns7  zzpvk  zzr1c  zztgg  zzvdf  \\\n",
       "0      ...      0      0      0      0      0      0      0      0      0   \n",
       "1      ...      0      0      0      0      0      0      0      0      0   \n",
       "2      ...      0      0      0      0      0      0      0      0      0   \n",
       "3      ...      0      0      0      0      0      0      0      0      0   \n",
       "4      ...      0      0      0      0      0      0      0      0      0   \n",
       "...    ...    ...    ...    ...    ...    ...    ...    ...    ...    ...   \n",
       "13751  ...      0      0      0      0      0      0      0      0      0   \n",
       "13752  ...      0      0      0      0      0      0      0      0      0   \n",
       "13753  ...      0      0      0      0      0      0      0      0      0   \n",
       "13754  ...      0      0      0      0      0      0      0      0      0   \n",
       "13755  ...      0      0      0      0      0      0      0      0      0   \n",
       "\n",
       "       zzw3j  \n",
       "0          0  \n",
       "1          0  \n",
       "2          0  \n",
       "3          0  \n",
       "4          0  \n",
       "...      ...  \n",
       "13751      0  \n",
       "13752      0  \n",
       "13753      0  \n",
       "13754      0  \n",
       "13755      0  \n",
       "\n",
       "[13756 rows x 10518 columns]"
      ]
     },
     "execution_count": 36,
     "metadata": {},
     "output_type": "execute_result"
    }
   ],
   "source": [
    "# A sparse matrix of documents (row) vs number of unique words\n",
    "count_array = corpus_vectorized.toarray()\n",
    "corpus_df = pd.DataFrame(data=count_array,columns = vectorizer.get_feature_names_out())\n",
    "corpus_df"
   ]
  },
  {
   "cell_type": "markdown",
   "id": "cc21fb91",
   "metadata": {},
   "source": [
    "### Build a LDA model for topic modeling"
   ]
  },
  {
   "cell_type": "code",
   "execution_count": 37,
   "id": "893696de",
   "metadata": {},
   "outputs": [],
   "source": [
    "lda_model = LatentDirichletAllocation(n_components = 100,\n",
    "                                     learning_method = 'online',\n",
    "                                      learning_decay = 0.9,\n",
    "                                      random_state=100, \n",
    "                                      batch_size=128)\n",
    "\n",
    "lda_output = lda_model.fit_transform(corpus_vectorized)"
   ]
  },
  {
   "cell_type": "code",
   "execution_count": 38,
   "id": "733d9dae",
   "metadata": {
    "scrolled": true
   },
   "outputs": [
    {
     "name": "stdout",
     "output_type": "stream",
     "text": [
      "(13756, 100)\n",
      "LatentDirichletAllocation(learning_decay=0.9, learning_method='online',\n",
      "                          n_components=100, random_state=100)\n"
     ]
    }
   ],
   "source": [
    "print(lda_output.shape)\n",
    "print(lda_model)"
   ]
  },
  {
   "cell_type": "markdown",
   "id": "e3807c0a",
   "metadata": {},
   "source": [
    "### Separate the dataframe back to train and test"
   ]
  },
  {
   "cell_type": "code",
   "execution_count": 39,
   "id": "a9862492",
   "metadata": {},
   "outputs": [],
   "source": [
    "topicnames = [\"Topic\" + str(i) for i in range(lda_model.n_components)]\n",
    "train_document_topic = pd.DataFrame(np.round(lda_output[0:6842,], 8), columns = topicnames)\n",
    "test_document_topic = pd.DataFrame(np.round(lda_output[6842:13756,], 8), columns = topicnames)"
   ]
  },
  {
   "cell_type": "code",
   "execution_count": 40,
   "id": "d666fd9f",
   "metadata": {},
   "outputs": [
    {
     "data": {
      "text/html": [
       "<div>\n",
       "<style scoped>\n",
       "    .dataframe tbody tr th:only-of-type {\n",
       "        vertical-align: middle;\n",
       "    }\n",
       "\n",
       "    .dataframe tbody tr th {\n",
       "        vertical-align: top;\n",
       "    }\n",
       "\n",
       "    .dataframe thead th {\n",
       "        text-align: right;\n",
       "    }\n",
       "</style>\n",
       "<table border=\"1\" class=\"dataframe\">\n",
       "  <thead>\n",
       "    <tr style=\"text-align: right;\">\n",
       "      <th></th>\n",
       "      <th>Topic0</th>\n",
       "      <th>Topic1</th>\n",
       "      <th>Topic2</th>\n",
       "      <th>Topic3</th>\n",
       "      <th>Topic4</th>\n",
       "      <th>Topic5</th>\n",
       "      <th>Topic6</th>\n",
       "      <th>Topic7</th>\n",
       "      <th>Topic8</th>\n",
       "      <th>Topic9</th>\n",
       "      <th>...</th>\n",
       "      <th>Topic90</th>\n",
       "      <th>Topic91</th>\n",
       "      <th>Topic92</th>\n",
       "      <th>Topic93</th>\n",
       "      <th>Topic94</th>\n",
       "      <th>Topic95</th>\n",
       "      <th>Topic96</th>\n",
       "      <th>Topic97</th>\n",
       "      <th>Topic98</th>\n",
       "      <th>Topic99</th>\n",
       "    </tr>\n",
       "  </thead>\n",
       "  <tbody>\n",
       "    <tr>\n",
       "      <th>0</th>\n",
       "      <td>0.000556</td>\n",
       "      <td>0.000556</td>\n",
       "      <td>0.000556</td>\n",
       "      <td>0.000556</td>\n",
       "      <td>0.000556</td>\n",
       "      <td>0.000556</td>\n",
       "      <td>0.000556</td>\n",
       "      <td>0.000556</td>\n",
       "      <td>0.000556</td>\n",
       "      <td>0.000556</td>\n",
       "      <td>...</td>\n",
       "      <td>0.000556</td>\n",
       "      <td>0.000556</td>\n",
       "      <td>0.000556</td>\n",
       "      <td>0.000556</td>\n",
       "      <td>0.000556</td>\n",
       "      <td>0.000556</td>\n",
       "      <td>0.000556</td>\n",
       "      <td>0.000556</td>\n",
       "      <td>0.000556</td>\n",
       "      <td>0.000556</td>\n",
       "    </tr>\n",
       "    <tr>\n",
       "      <th>1</th>\n",
       "      <td>0.001667</td>\n",
       "      <td>0.001667</td>\n",
       "      <td>0.001667</td>\n",
       "      <td>0.001667</td>\n",
       "      <td>0.001667</td>\n",
       "      <td>0.001667</td>\n",
       "      <td>0.001667</td>\n",
       "      <td>0.001667</td>\n",
       "      <td>0.001667</td>\n",
       "      <td>0.001667</td>\n",
       "      <td>...</td>\n",
       "      <td>0.001667</td>\n",
       "      <td>0.001667</td>\n",
       "      <td>0.001667</td>\n",
       "      <td>0.001667</td>\n",
       "      <td>0.001667</td>\n",
       "      <td>0.001667</td>\n",
       "      <td>0.001667</td>\n",
       "      <td>0.001667</td>\n",
       "      <td>0.001667</td>\n",
       "      <td>0.001667</td>\n",
       "    </tr>\n",
       "    <tr>\n",
       "      <th>2</th>\n",
       "      <td>0.003333</td>\n",
       "      <td>0.003333</td>\n",
       "      <td>0.003333</td>\n",
       "      <td>0.003333</td>\n",
       "      <td>0.003333</td>\n",
       "      <td>0.003333</td>\n",
       "      <td>0.003333</td>\n",
       "      <td>0.003333</td>\n",
       "      <td>0.003333</td>\n",
       "      <td>0.003333</td>\n",
       "      <td>...</td>\n",
       "      <td>0.003333</td>\n",
       "      <td>0.003333</td>\n",
       "      <td>0.003333</td>\n",
       "      <td>0.003333</td>\n",
       "      <td>0.003333</td>\n",
       "      <td>0.003333</td>\n",
       "      <td>0.003333</td>\n",
       "      <td>0.003333</td>\n",
       "      <td>0.003333</td>\n",
       "      <td>0.003333</td>\n",
       "    </tr>\n",
       "    <tr>\n",
       "      <th>3</th>\n",
       "      <td>0.000417</td>\n",
       "      <td>0.000417</td>\n",
       "      <td>0.000417</td>\n",
       "      <td>0.000417</td>\n",
       "      <td>0.000417</td>\n",
       "      <td>0.000417</td>\n",
       "      <td>0.000417</td>\n",
       "      <td>0.000417</td>\n",
       "      <td>0.000417</td>\n",
       "      <td>0.000417</td>\n",
       "      <td>...</td>\n",
       "      <td>0.000417</td>\n",
       "      <td>0.703022</td>\n",
       "      <td>0.000417</td>\n",
       "      <td>0.000417</td>\n",
       "      <td>0.000417</td>\n",
       "      <td>0.000417</td>\n",
       "      <td>0.000417</td>\n",
       "      <td>0.000417</td>\n",
       "      <td>0.000417</td>\n",
       "      <td>0.000417</td>\n",
       "    </tr>\n",
       "    <tr>\n",
       "      <th>4</th>\n",
       "      <td>0.005000</td>\n",
       "      <td>0.005000</td>\n",
       "      <td>0.005000</td>\n",
       "      <td>0.005000</td>\n",
       "      <td>0.005000</td>\n",
       "      <td>0.005000</td>\n",
       "      <td>0.005000</td>\n",
       "      <td>0.005000</td>\n",
       "      <td>0.005000</td>\n",
       "      <td>0.005000</td>\n",
       "      <td>...</td>\n",
       "      <td>0.005000</td>\n",
       "      <td>0.005000</td>\n",
       "      <td>0.005000</td>\n",
       "      <td>0.005000</td>\n",
       "      <td>0.005000</td>\n",
       "      <td>0.005000</td>\n",
       "      <td>0.005000</td>\n",
       "      <td>0.005000</td>\n",
       "      <td>0.005000</td>\n",
       "      <td>0.005000</td>\n",
       "    </tr>\n",
       "    <tr>\n",
       "      <th>...</th>\n",
       "      <td>...</td>\n",
       "      <td>...</td>\n",
       "      <td>...</td>\n",
       "      <td>...</td>\n",
       "      <td>...</td>\n",
       "      <td>...</td>\n",
       "      <td>...</td>\n",
       "      <td>...</td>\n",
       "      <td>...</td>\n",
       "      <td>...</td>\n",
       "      <td>...</td>\n",
       "      <td>...</td>\n",
       "      <td>...</td>\n",
       "      <td>...</td>\n",
       "      <td>...</td>\n",
       "      <td>...</td>\n",
       "      <td>...</td>\n",
       "      <td>...</td>\n",
       "      <td>...</td>\n",
       "      <td>...</td>\n",
       "      <td>...</td>\n",
       "    </tr>\n",
       "    <tr>\n",
       "      <th>6837</th>\n",
       "      <td>0.000196</td>\n",
       "      <td>0.000196</td>\n",
       "      <td>0.000196</td>\n",
       "      <td>0.064985</td>\n",
       "      <td>0.000196</td>\n",
       "      <td>0.000196</td>\n",
       "      <td>0.000196</td>\n",
       "      <td>0.000196</td>\n",
       "      <td>0.000196</td>\n",
       "      <td>0.000196</td>\n",
       "      <td>...</td>\n",
       "      <td>0.000196</td>\n",
       "      <td>0.000196</td>\n",
       "      <td>0.000196</td>\n",
       "      <td>0.000196</td>\n",
       "      <td>0.000196</td>\n",
       "      <td>0.000196</td>\n",
       "      <td>0.000196</td>\n",
       "      <td>0.000196</td>\n",
       "      <td>0.000196</td>\n",
       "      <td>0.000196</td>\n",
       "    </tr>\n",
       "    <tr>\n",
       "      <th>6838</th>\n",
       "      <td>0.003333</td>\n",
       "      <td>0.003333</td>\n",
       "      <td>0.003333</td>\n",
       "      <td>0.003333</td>\n",
       "      <td>0.003333</td>\n",
       "      <td>0.003333</td>\n",
       "      <td>0.003333</td>\n",
       "      <td>0.003333</td>\n",
       "      <td>0.003333</td>\n",
       "      <td>0.003333</td>\n",
       "      <td>...</td>\n",
       "      <td>0.003333</td>\n",
       "      <td>0.003333</td>\n",
       "      <td>0.003333</td>\n",
       "      <td>0.003333</td>\n",
       "      <td>0.003333</td>\n",
       "      <td>0.003333</td>\n",
       "      <td>0.003333</td>\n",
       "      <td>0.003333</td>\n",
       "      <td>0.003333</td>\n",
       "      <td>0.003333</td>\n",
       "    </tr>\n",
       "    <tr>\n",
       "      <th>6839</th>\n",
       "      <td>0.000313</td>\n",
       "      <td>0.000313</td>\n",
       "      <td>0.000313</td>\n",
       "      <td>0.000313</td>\n",
       "      <td>0.000313</td>\n",
       "      <td>0.000313</td>\n",
       "      <td>0.000313</td>\n",
       "      <td>0.000313</td>\n",
       "      <td>0.000313</td>\n",
       "      <td>0.000313</td>\n",
       "      <td>...</td>\n",
       "      <td>0.000313</td>\n",
       "      <td>0.000313</td>\n",
       "      <td>0.000313</td>\n",
       "      <td>0.000313</td>\n",
       "      <td>0.000313</td>\n",
       "      <td>0.000313</td>\n",
       "      <td>0.000313</td>\n",
       "      <td>0.000313</td>\n",
       "      <td>0.000313</td>\n",
       "      <td>0.000313</td>\n",
       "    </tr>\n",
       "    <tr>\n",
       "      <th>6840</th>\n",
       "      <td>0.001000</td>\n",
       "      <td>0.001000</td>\n",
       "      <td>0.001000</td>\n",
       "      <td>0.001000</td>\n",
       "      <td>0.001000</td>\n",
       "      <td>0.001000</td>\n",
       "      <td>0.001000</td>\n",
       "      <td>0.001000</td>\n",
       "      <td>0.001000</td>\n",
       "      <td>0.001000</td>\n",
       "      <td>...</td>\n",
       "      <td>0.001000</td>\n",
       "      <td>0.001000</td>\n",
       "      <td>0.001000</td>\n",
       "      <td>0.001000</td>\n",
       "      <td>0.001000</td>\n",
       "      <td>0.001000</td>\n",
       "      <td>0.001000</td>\n",
       "      <td>0.001000</td>\n",
       "      <td>0.001000</td>\n",
       "      <td>0.001000</td>\n",
       "    </tr>\n",
       "    <tr>\n",
       "      <th>6841</th>\n",
       "      <td>0.005000</td>\n",
       "      <td>0.005000</td>\n",
       "      <td>0.005000</td>\n",
       "      <td>0.005000</td>\n",
       "      <td>0.005000</td>\n",
       "      <td>0.005000</td>\n",
       "      <td>0.005000</td>\n",
       "      <td>0.005000</td>\n",
       "      <td>0.005000</td>\n",
       "      <td>0.005000</td>\n",
       "      <td>...</td>\n",
       "      <td>0.005000</td>\n",
       "      <td>0.005000</td>\n",
       "      <td>0.005000</td>\n",
       "      <td>0.005000</td>\n",
       "      <td>0.005000</td>\n",
       "      <td>0.005000</td>\n",
       "      <td>0.005000</td>\n",
       "      <td>0.005000</td>\n",
       "      <td>0.005000</td>\n",
       "      <td>0.005000</td>\n",
       "    </tr>\n",
       "  </tbody>\n",
       "</table>\n",
       "<p>6842 rows × 100 columns</p>\n",
       "</div>"
      ],
      "text/plain": [
       "        Topic0    Topic1    Topic2    Topic3    Topic4    Topic5    Topic6  \\\n",
       "0     0.000556  0.000556  0.000556  0.000556  0.000556  0.000556  0.000556   \n",
       "1     0.001667  0.001667  0.001667  0.001667  0.001667  0.001667  0.001667   \n",
       "2     0.003333  0.003333  0.003333  0.003333  0.003333  0.003333  0.003333   \n",
       "3     0.000417  0.000417  0.000417  0.000417  0.000417  0.000417  0.000417   \n",
       "4     0.005000  0.005000  0.005000  0.005000  0.005000  0.005000  0.005000   \n",
       "...        ...       ...       ...       ...       ...       ...       ...   \n",
       "6837  0.000196  0.000196  0.000196  0.064985  0.000196  0.000196  0.000196   \n",
       "6838  0.003333  0.003333  0.003333  0.003333  0.003333  0.003333  0.003333   \n",
       "6839  0.000313  0.000313  0.000313  0.000313  0.000313  0.000313  0.000313   \n",
       "6840  0.001000  0.001000  0.001000  0.001000  0.001000  0.001000  0.001000   \n",
       "6841  0.005000  0.005000  0.005000  0.005000  0.005000  0.005000  0.005000   \n",
       "\n",
       "        Topic7    Topic8    Topic9  ...   Topic90   Topic91   Topic92  \\\n",
       "0     0.000556  0.000556  0.000556  ...  0.000556  0.000556  0.000556   \n",
       "1     0.001667  0.001667  0.001667  ...  0.001667  0.001667  0.001667   \n",
       "2     0.003333  0.003333  0.003333  ...  0.003333  0.003333  0.003333   \n",
       "3     0.000417  0.000417  0.000417  ...  0.000417  0.703022  0.000417   \n",
       "4     0.005000  0.005000  0.005000  ...  0.005000  0.005000  0.005000   \n",
       "...        ...       ...       ...  ...       ...       ...       ...   \n",
       "6837  0.000196  0.000196  0.000196  ...  0.000196  0.000196  0.000196   \n",
       "6838  0.003333  0.003333  0.003333  ...  0.003333  0.003333  0.003333   \n",
       "6839  0.000313  0.000313  0.000313  ...  0.000313  0.000313  0.000313   \n",
       "6840  0.001000  0.001000  0.001000  ...  0.001000  0.001000  0.001000   \n",
       "6841  0.005000  0.005000  0.005000  ...  0.005000  0.005000  0.005000   \n",
       "\n",
       "       Topic93   Topic94   Topic95   Topic96   Topic97   Topic98   Topic99  \n",
       "0     0.000556  0.000556  0.000556  0.000556  0.000556  0.000556  0.000556  \n",
       "1     0.001667  0.001667  0.001667  0.001667  0.001667  0.001667  0.001667  \n",
       "2     0.003333  0.003333  0.003333  0.003333  0.003333  0.003333  0.003333  \n",
       "3     0.000417  0.000417  0.000417  0.000417  0.000417  0.000417  0.000417  \n",
       "4     0.005000  0.005000  0.005000  0.005000  0.005000  0.005000  0.005000  \n",
       "...        ...       ...       ...       ...       ...       ...       ...  \n",
       "6837  0.000196  0.000196  0.000196  0.000196  0.000196  0.000196  0.000196  \n",
       "6838  0.003333  0.003333  0.003333  0.003333  0.003333  0.003333  0.003333  \n",
       "6839  0.000313  0.000313  0.000313  0.000313  0.000313  0.000313  0.000313  \n",
       "6840  0.001000  0.001000  0.001000  0.001000  0.001000  0.001000  0.001000  \n",
       "6841  0.005000  0.005000  0.005000  0.005000  0.005000  0.005000  0.005000  \n",
       "\n",
       "[6842 rows x 100 columns]"
      ]
     },
     "execution_count": 40,
     "metadata": {},
     "output_type": "execute_result"
    }
   ],
   "source": [
    "train_document_topic"
   ]
  },
  {
   "cell_type": "code",
   "execution_count": 41,
   "id": "89115073",
   "metadata": {},
   "outputs": [
    {
     "data": {
      "text/html": [
       "<div>\n",
       "<style scoped>\n",
       "    .dataframe tbody tr th:only-of-type {\n",
       "        vertical-align: middle;\n",
       "    }\n",
       "\n",
       "    .dataframe tbody tr th {\n",
       "        vertical-align: top;\n",
       "    }\n",
       "\n",
       "    .dataframe thead th {\n",
       "        text-align: right;\n",
       "    }\n",
       "</style>\n",
       "<table border=\"1\" class=\"dataframe\">\n",
       "  <thead>\n",
       "    <tr style=\"text-align: right;\">\n",
       "      <th></th>\n",
       "      <th>Topic0</th>\n",
       "      <th>Topic1</th>\n",
       "      <th>Topic2</th>\n",
       "      <th>Topic3</th>\n",
       "      <th>Topic4</th>\n",
       "      <th>Topic5</th>\n",
       "      <th>Topic6</th>\n",
       "      <th>Topic7</th>\n",
       "      <th>Topic8</th>\n",
       "      <th>Topic9</th>\n",
       "      <th>...</th>\n",
       "      <th>Topic90</th>\n",
       "      <th>Topic91</th>\n",
       "      <th>Topic92</th>\n",
       "      <th>Topic93</th>\n",
       "      <th>Topic94</th>\n",
       "      <th>Topic95</th>\n",
       "      <th>Topic96</th>\n",
       "      <th>Topic97</th>\n",
       "      <th>Topic98</th>\n",
       "      <th>Topic99</th>\n",
       "    </tr>\n",
       "  </thead>\n",
       "  <tbody>\n",
       "    <tr>\n",
       "      <th>0</th>\n",
       "      <td>0.000909</td>\n",
       "      <td>0.000909</td>\n",
       "      <td>0.000909</td>\n",
       "      <td>0.000909</td>\n",
       "      <td>0.000909</td>\n",
       "      <td>0.000909</td>\n",
       "      <td>0.000909</td>\n",
       "      <td>0.000909</td>\n",
       "      <td>0.000909</td>\n",
       "      <td>0.000909</td>\n",
       "      <td>...</td>\n",
       "      <td>0.000909</td>\n",
       "      <td>0.000909</td>\n",
       "      <td>0.000909</td>\n",
       "      <td>0.000909</td>\n",
       "      <td>0.000909</td>\n",
       "      <td>0.000909</td>\n",
       "      <td>0.000909</td>\n",
       "      <td>0.000909</td>\n",
       "      <td>0.000909</td>\n",
       "      <td>0.000909</td>\n",
       "    </tr>\n",
       "    <tr>\n",
       "      <th>1</th>\n",
       "      <td>0.005000</td>\n",
       "      <td>0.005000</td>\n",
       "      <td>0.005000</td>\n",
       "      <td>0.005000</td>\n",
       "      <td>0.005000</td>\n",
       "      <td>0.005000</td>\n",
       "      <td>0.005000</td>\n",
       "      <td>0.005000</td>\n",
       "      <td>0.005000</td>\n",
       "      <td>0.005000</td>\n",
       "      <td>...</td>\n",
       "      <td>0.005000</td>\n",
       "      <td>0.005000</td>\n",
       "      <td>0.005000</td>\n",
       "      <td>0.005000</td>\n",
       "      <td>0.005000</td>\n",
       "      <td>0.005000</td>\n",
       "      <td>0.005000</td>\n",
       "      <td>0.005000</td>\n",
       "      <td>0.005000</td>\n",
       "      <td>0.005000</td>\n",
       "    </tr>\n",
       "    <tr>\n",
       "      <th>2</th>\n",
       "      <td>0.000769</td>\n",
       "      <td>0.197144</td>\n",
       "      <td>0.000769</td>\n",
       "      <td>0.137724</td>\n",
       "      <td>0.085244</td>\n",
       "      <td>0.000769</td>\n",
       "      <td>0.000769</td>\n",
       "      <td>0.000769</td>\n",
       "      <td>0.077692</td>\n",
       "      <td>0.000769</td>\n",
       "      <td>...</td>\n",
       "      <td>0.000769</td>\n",
       "      <td>0.000769</td>\n",
       "      <td>0.000769</td>\n",
       "      <td>0.000769</td>\n",
       "      <td>0.000769</td>\n",
       "      <td>0.000769</td>\n",
       "      <td>0.000769</td>\n",
       "      <td>0.000769</td>\n",
       "      <td>0.000769</td>\n",
       "      <td>0.000769</td>\n",
       "    </tr>\n",
       "    <tr>\n",
       "      <th>3</th>\n",
       "      <td>0.000323</td>\n",
       "      <td>0.000323</td>\n",
       "      <td>0.000323</td>\n",
       "      <td>0.000323</td>\n",
       "      <td>0.000323</td>\n",
       "      <td>0.000323</td>\n",
       "      <td>0.000323</td>\n",
       "      <td>0.000323</td>\n",
       "      <td>0.033853</td>\n",
       "      <td>0.000323</td>\n",
       "      <td>...</td>\n",
       "      <td>0.000323</td>\n",
       "      <td>0.000323</td>\n",
       "      <td>0.000323</td>\n",
       "      <td>0.000323</td>\n",
       "      <td>0.000323</td>\n",
       "      <td>0.000323</td>\n",
       "      <td>0.000323</td>\n",
       "      <td>0.000323</td>\n",
       "      <td>0.000323</td>\n",
       "      <td>0.000323</td>\n",
       "    </tr>\n",
       "    <tr>\n",
       "      <th>4</th>\n",
       "      <td>0.001250</td>\n",
       "      <td>0.001250</td>\n",
       "      <td>0.001250</td>\n",
       "      <td>0.001250</td>\n",
       "      <td>0.165564</td>\n",
       "      <td>0.001250</td>\n",
       "      <td>0.001250</td>\n",
       "      <td>0.001250</td>\n",
       "      <td>0.001250</td>\n",
       "      <td>0.001250</td>\n",
       "      <td>...</td>\n",
       "      <td>0.001250</td>\n",
       "      <td>0.001250</td>\n",
       "      <td>0.001250</td>\n",
       "      <td>0.001250</td>\n",
       "      <td>0.001250</td>\n",
       "      <td>0.001250</td>\n",
       "      <td>0.001250</td>\n",
       "      <td>0.001250</td>\n",
       "      <td>0.001250</td>\n",
       "      <td>0.001250</td>\n",
       "    </tr>\n",
       "    <tr>\n",
       "      <th>...</th>\n",
       "      <td>...</td>\n",
       "      <td>...</td>\n",
       "      <td>...</td>\n",
       "      <td>...</td>\n",
       "      <td>...</td>\n",
       "      <td>...</td>\n",
       "      <td>...</td>\n",
       "      <td>...</td>\n",
       "      <td>...</td>\n",
       "      <td>...</td>\n",
       "      <td>...</td>\n",
       "      <td>...</td>\n",
       "      <td>...</td>\n",
       "      <td>...</td>\n",
       "      <td>...</td>\n",
       "      <td>...</td>\n",
       "      <td>...</td>\n",
       "      <td>...</td>\n",
       "      <td>...</td>\n",
       "      <td>...</td>\n",
       "      <td>...</td>\n",
       "    </tr>\n",
       "    <tr>\n",
       "      <th>6909</th>\n",
       "      <td>0.000122</td>\n",
       "      <td>0.000122</td>\n",
       "      <td>0.000122</td>\n",
       "      <td>0.000122</td>\n",
       "      <td>0.000122</td>\n",
       "      <td>0.000122</td>\n",
       "      <td>0.000122</td>\n",
       "      <td>0.000122</td>\n",
       "      <td>0.000122</td>\n",
       "      <td>0.000122</td>\n",
       "      <td>...</td>\n",
       "      <td>0.000122</td>\n",
       "      <td>0.000122</td>\n",
       "      <td>0.000122</td>\n",
       "      <td>0.000122</td>\n",
       "      <td>0.000122</td>\n",
       "      <td>0.000122</td>\n",
       "      <td>0.000122</td>\n",
       "      <td>0.000122</td>\n",
       "      <td>0.000122</td>\n",
       "      <td>0.000122</td>\n",
       "    </tr>\n",
       "    <tr>\n",
       "      <th>6910</th>\n",
       "      <td>0.000256</td>\n",
       "      <td>0.000256</td>\n",
       "      <td>0.000256</td>\n",
       "      <td>0.000256</td>\n",
       "      <td>0.000256</td>\n",
       "      <td>0.000256</td>\n",
       "      <td>0.000256</td>\n",
       "      <td>0.000256</td>\n",
       "      <td>0.028135</td>\n",
       "      <td>0.000256</td>\n",
       "      <td>...</td>\n",
       "      <td>0.000256</td>\n",
       "      <td>0.000256</td>\n",
       "      <td>0.000256</td>\n",
       "      <td>0.000256</td>\n",
       "      <td>0.000256</td>\n",
       "      <td>0.000256</td>\n",
       "      <td>0.000256</td>\n",
       "      <td>0.000256</td>\n",
       "      <td>0.000256</td>\n",
       "      <td>0.000256</td>\n",
       "    </tr>\n",
       "    <tr>\n",
       "      <th>6911</th>\n",
       "      <td>0.002500</td>\n",
       "      <td>0.002500</td>\n",
       "      <td>0.002500</td>\n",
       "      <td>0.002500</td>\n",
       "      <td>0.002500</td>\n",
       "      <td>0.002500</td>\n",
       "      <td>0.002500</td>\n",
       "      <td>0.002500</td>\n",
       "      <td>0.002500</td>\n",
       "      <td>0.002500</td>\n",
       "      <td>...</td>\n",
       "      <td>0.002500</td>\n",
       "      <td>0.002500</td>\n",
       "      <td>0.002500</td>\n",
       "      <td>0.002500</td>\n",
       "      <td>0.002500</td>\n",
       "      <td>0.002500</td>\n",
       "      <td>0.002500</td>\n",
       "      <td>0.002500</td>\n",
       "      <td>0.002500</td>\n",
       "      <td>0.002500</td>\n",
       "    </tr>\n",
       "    <tr>\n",
       "      <th>6912</th>\n",
       "      <td>0.000476</td>\n",
       "      <td>0.000476</td>\n",
       "      <td>0.000476</td>\n",
       "      <td>0.000476</td>\n",
       "      <td>0.000476</td>\n",
       "      <td>0.000476</td>\n",
       "      <td>0.000476</td>\n",
       "      <td>0.000476</td>\n",
       "      <td>0.000476</td>\n",
       "      <td>0.000476</td>\n",
       "      <td>...</td>\n",
       "      <td>0.000476</td>\n",
       "      <td>0.000476</td>\n",
       "      <td>0.000476</td>\n",
       "      <td>0.000476</td>\n",
       "      <td>0.000476</td>\n",
       "      <td>0.000476</td>\n",
       "      <td>0.000476</td>\n",
       "      <td>0.000476</td>\n",
       "      <td>0.000476</td>\n",
       "      <td>0.000476</td>\n",
       "    </tr>\n",
       "    <tr>\n",
       "      <th>6913</th>\n",
       "      <td>0.003333</td>\n",
       "      <td>0.003333</td>\n",
       "      <td>0.003333</td>\n",
       "      <td>0.003333</td>\n",
       "      <td>0.003333</td>\n",
       "      <td>0.003333</td>\n",
       "      <td>0.003333</td>\n",
       "      <td>0.670000</td>\n",
       "      <td>0.003333</td>\n",
       "      <td>0.003333</td>\n",
       "      <td>...</td>\n",
       "      <td>0.003333</td>\n",
       "      <td>0.003333</td>\n",
       "      <td>0.003333</td>\n",
       "      <td>0.003333</td>\n",
       "      <td>0.003333</td>\n",
       "      <td>0.003333</td>\n",
       "      <td>0.003333</td>\n",
       "      <td>0.003333</td>\n",
       "      <td>0.003333</td>\n",
       "      <td>0.003333</td>\n",
       "    </tr>\n",
       "  </tbody>\n",
       "</table>\n",
       "<p>6914 rows × 100 columns</p>\n",
       "</div>"
      ],
      "text/plain": [
       "        Topic0    Topic1    Topic2    Topic3    Topic4    Topic5    Topic6  \\\n",
       "0     0.000909  0.000909  0.000909  0.000909  0.000909  0.000909  0.000909   \n",
       "1     0.005000  0.005000  0.005000  0.005000  0.005000  0.005000  0.005000   \n",
       "2     0.000769  0.197144  0.000769  0.137724  0.085244  0.000769  0.000769   \n",
       "3     0.000323  0.000323  0.000323  0.000323  0.000323  0.000323  0.000323   \n",
       "4     0.001250  0.001250  0.001250  0.001250  0.165564  0.001250  0.001250   \n",
       "...        ...       ...       ...       ...       ...       ...       ...   \n",
       "6909  0.000122  0.000122  0.000122  0.000122  0.000122  0.000122  0.000122   \n",
       "6910  0.000256  0.000256  0.000256  0.000256  0.000256  0.000256  0.000256   \n",
       "6911  0.002500  0.002500  0.002500  0.002500  0.002500  0.002500  0.002500   \n",
       "6912  0.000476  0.000476  0.000476  0.000476  0.000476  0.000476  0.000476   \n",
       "6913  0.003333  0.003333  0.003333  0.003333  0.003333  0.003333  0.003333   \n",
       "\n",
       "        Topic7    Topic8    Topic9  ...   Topic90   Topic91   Topic92  \\\n",
       "0     0.000909  0.000909  0.000909  ...  0.000909  0.000909  0.000909   \n",
       "1     0.005000  0.005000  0.005000  ...  0.005000  0.005000  0.005000   \n",
       "2     0.000769  0.077692  0.000769  ...  0.000769  0.000769  0.000769   \n",
       "3     0.000323  0.033853  0.000323  ...  0.000323  0.000323  0.000323   \n",
       "4     0.001250  0.001250  0.001250  ...  0.001250  0.001250  0.001250   \n",
       "...        ...       ...       ...  ...       ...       ...       ...   \n",
       "6909  0.000122  0.000122  0.000122  ...  0.000122  0.000122  0.000122   \n",
       "6910  0.000256  0.028135  0.000256  ...  0.000256  0.000256  0.000256   \n",
       "6911  0.002500  0.002500  0.002500  ...  0.002500  0.002500  0.002500   \n",
       "6912  0.000476  0.000476  0.000476  ...  0.000476  0.000476  0.000476   \n",
       "6913  0.670000  0.003333  0.003333  ...  0.003333  0.003333  0.003333   \n",
       "\n",
       "       Topic93   Topic94   Topic95   Topic96   Topic97   Topic98   Topic99  \n",
       "0     0.000909  0.000909  0.000909  0.000909  0.000909  0.000909  0.000909  \n",
       "1     0.005000  0.005000  0.005000  0.005000  0.005000  0.005000  0.005000  \n",
       "2     0.000769  0.000769  0.000769  0.000769  0.000769  0.000769  0.000769  \n",
       "3     0.000323  0.000323  0.000323  0.000323  0.000323  0.000323  0.000323  \n",
       "4     0.001250  0.001250  0.001250  0.001250  0.001250  0.001250  0.001250  \n",
       "...        ...       ...       ...       ...       ...       ...       ...  \n",
       "6909  0.000122  0.000122  0.000122  0.000122  0.000122  0.000122  0.000122  \n",
       "6910  0.000256  0.000256  0.000256  0.000256  0.000256  0.000256  0.000256  \n",
       "6911  0.002500  0.002500  0.002500  0.002500  0.002500  0.002500  0.002500  \n",
       "6912  0.000476  0.000476  0.000476  0.000476  0.000476  0.000476  0.000476  \n",
       "6913  0.003333  0.003333  0.003333  0.003333  0.003333  0.003333  0.003333  \n",
       "\n",
       "[6914 rows x 100 columns]"
      ]
     },
     "execution_count": 41,
     "metadata": {},
     "output_type": "execute_result"
    }
   ],
   "source": [
    "test_document_topic"
   ]
  },
  {
   "cell_type": "code",
   "execution_count": 42,
   "id": "2417b3fb",
   "metadata": {},
   "outputs": [],
   "source": [
    "# TODO: image feature extraction"
   ]
  },
  {
   "cell_type": "markdown",
   "id": "b700a124",
   "metadata": {},
   "source": [
    "# Regression"
   ]
  },
  {
   "cell_type": "code",
   "execution_count": 43,
   "id": "4ab79608",
   "metadata": {},
   "outputs": [],
   "source": [
    "from sklearn.linear_model import LinearRegression, SGDRegressor\n",
    "from sklearn.model_selection import train_test_split, cross_val_score, GridSearchCV\n",
    "from sklearn.metrics import mean_absolute_error\n",
    "from sklearn.preprocessing import StandardScaler\n",
    "import lightgbm as lgb"
   ]
  },
  {
   "cell_type": "markdown",
   "id": "94e40ab5",
   "metadata": {},
   "source": [
    "### Preprocessing - concatenate text features to base dataframe"
   ]
  },
  {
   "cell_type": "code",
   "execution_count": 44,
   "id": "ca99c686",
   "metadata": {},
   "outputs": [
    {
     "data": {
      "text/plain": [
       "(6842, 817)"
      ]
     },
     "execution_count": 44,
     "metadata": {},
     "output_type": "execute_result"
    }
   ],
   "source": [
    "# N.B., require to reset index before concatenate\n",
    "train_concatenated = pd.concat([train_base, train_document_topic], axis = 1)\n",
    "train_concatenated = train_concatenated.drop(['id', 'description', 'score'], axis = 1)\n",
    "train_concatenated.shape"
   ]
  },
  {
   "cell_type": "code",
   "execution_count": 45,
   "id": "36cfc1eb",
   "metadata": {},
   "outputs": [],
   "source": [
    "test_concatenated = pd.concat([test_base, test_document_topic], axis = 1)\n",
    "test_concatenated = test_concatenated.drop(['id', 'description', 'score'], axis = 1)\n",
    "testset = test_concatenated.copy()"
   ]
  },
  {
   "cell_type": "markdown",
   "id": "8c5a3670",
   "metadata": {},
   "source": [
    "### Preprocessing - train-test-split to both train and test dataset"
   ]
  },
  {
   "cell_type": "code",
   "execution_count": 46,
   "id": "aa6cd2e2",
   "metadata": {},
   "outputs": [],
   "source": [
    "y = train_concatenated['total'].copy()\n",
    "X = train_concatenated.drop(['total'], axis = 1).copy()"
   ]
  },
  {
   "cell_type": "code",
   "execution_count": 47,
   "id": "2e379c7c",
   "metadata": {},
   "outputs": [],
   "source": [
    "x_train, x_test, y_train, y_test = train_test_split(X, y, train_size = 0.75, test_size = 0.25, random_state = 42)"
   ]
  },
  {
   "cell_type": "markdown",
   "id": "91bcbd96",
   "metadata": {},
   "source": [
    "# Make a new section for your models"
   ]
  },
  {
   "cell_type": "markdown",
   "id": "5f44311c",
   "metadata": {},
   "source": [
    "### Linear Regressor"
   ]
  },
  {
   "cell_type": "code",
   "execution_count": 48,
   "id": "6efb8a8e",
   "metadata": {},
   "outputs": [],
   "source": [
    "OLS = LinearRegression().fit(x_train, y_train)"
   ]
  },
  {
   "cell_type": "code",
   "execution_count": 49,
   "id": "4b645e3f",
   "metadata": {},
   "outputs": [],
   "source": [
    "OLS_predictions = OLS.predict(x_test)"
   ]
  },
  {
   "cell_type": "code",
   "execution_count": 50,
   "id": "0ac75a15",
   "metadata": {},
   "outputs": [
    {
     "data": {
      "text/plain": [
       "47078503.48601357"
      ]
     },
     "execution_count": 50,
     "metadata": {},
     "output_type": "execute_result"
    }
   ],
   "source": [
    "mean_absolute_error(y_test, OLS_predictions)"
   ]
  },
  {
   "cell_type": "markdown",
   "id": "76a165e7",
   "metadata": {},
   "source": [
    "### SGD Regressor"
   ]
  },
  {
   "cell_type": "code",
   "execution_count": 51,
   "id": "ab2c514b",
   "metadata": {},
   "outputs": [],
   "source": [
    "# always standardize input\n",
    "scaler = StandardScaler()\n",
    "x_train = scaler.fit_transform(x_train)\n",
    "x_test = scaler.transform(x_test)"
   ]
  },
  {
   "cell_type": "code",
   "execution_count": 52,
   "id": "f3c10dc1",
   "metadata": {},
   "outputs": [],
   "source": [
    "SGD = SGDRegressor(loss = 'epsilon_insensitive', alpha = 0.0005, epsilon = 0.005).fit(x_train, y_train)"
   ]
  },
  {
   "cell_type": "code",
   "execution_count": 53,
   "id": "c4f01f39",
   "metadata": {},
   "outputs": [],
   "source": [
    "SGD_predictions = SGD.predict(x_test)"
   ]
  },
  {
   "cell_type": "code",
   "execution_count": 54,
   "id": "9b26891d",
   "metadata": {},
   "outputs": [
    {
     "data": {
      "text/plain": [
       "2.681077286333745"
      ]
     },
     "execution_count": 54,
     "metadata": {},
     "output_type": "execute_result"
    }
   ],
   "source": [
    "mean_absolute_error(y_test, SGD_predictions)"
   ]
  },
  {
   "cell_type": "code",
   "execution_count": 55,
   "id": "b80be4e6",
   "metadata": {},
   "outputs": [
    {
     "name": "stderr",
     "output_type": "stream",
     "text": [
      "/home/pop21/Documents/STAT-440/nft/jason/venv/lib/python3.9/site-packages/sklearn/base.py:488: FutureWarning: The feature names should match those that were passed during fit. Starting version 1.2, an error will be raised.\n",
      "Feature names must be in the same order as they were in fit.\n",
      "\n",
      "  warnings.warn(message, FutureWarning)\n"
     ]
    }
   ],
   "source": [
    "testset = scaler.transform(testset)\n",
    "SGD_mod = SGDRegressor(loss = 'epsilon_insensitive', alpha = 0.0005, epsilon = 0.005).fit(X, y)\n",
    "SGD_predict = SGD.predict(testset)"
   ]
  },
  {
   "cell_type": "markdown",
   "id": "710028b6",
   "metadata": {},
   "source": [
    "### LightGBM Regressor"
   ]
  },
  {
   "cell_type": "code",
   "execution_count": 56,
   "id": "d5193745",
   "metadata": {},
   "outputs": [],
   "source": [
    "lgbm = lgb.LGBMRegressor(objective = \"regression\", n_estimators = 80, num_leaves = 300, metric = \"mae\", learning_rate = 0.4).fit(x_train, y_train)\n",
    "lgbm_predictions = lgbm.predict(x_test)"
   ]
  },
  {
   "cell_type": "code",
   "execution_count": 57,
   "id": "e5f767eb",
   "metadata": {},
   "outputs": [
    {
     "data": {
      "text/plain": [
       "4.303540297480721"
      ]
     },
     "execution_count": 57,
     "metadata": {},
     "output_type": "execute_result"
    }
   ],
   "source": [
    "mean_absolute_error(y_test, lgbm_predictions)"
   ]
  },
  {
   "cell_type": "code",
   "execution_count": 58,
   "id": "0572bca5",
   "metadata": {},
   "outputs": [],
   "source": [
    "#testset = scaler.transform(testset)\n",
    "lgbm_mod = lgb.LGBMRegressor(objective = \"regression\", n_estimators = 80, num_leaves = 300, metric = \"mae\", learning_rate = 0.4).fit(X, y)\n",
    "lgbm_predict = lgbm.predict(testset)"
   ]
  },
  {
   "cell_type": "markdown",
   "id": "dc7884b6",
   "metadata": {},
   "source": [
    "### Predictions"
   ]
  },
  {
   "cell_type": "code",
   "execution_count": 59,
   "id": "05033a3a",
   "metadata": {},
   "outputs": [
    {
     "data": {
      "text/plain": [
       "0.12"
      ]
     },
     "execution_count": 59,
     "metadata": {},
     "output_type": "execute_result"
    }
   ],
   "source": [
    "median = np.median(raw_train['total'])\n",
    "median"
   ]
  },
  {
   "cell_type": "code",
   "execution_count": 60,
   "id": "1c8d4173",
   "metadata": {},
   "outputs": [],
   "source": [
    "# read prediction file\n",
    "pred = pd.read_csv('data/pred.csv')"
   ]
  },
  {
   "cell_type": "code",
   "execution_count": 61,
   "id": "b84ec3c9",
   "metadata": {},
   "outputs": [],
   "source": [
    "# write SGD predictions to file\n",
    "pred_sgd = pred.copy()\n",
    "pred_sgd['total'] = SGD_predict\n",
    "pred_sgd.loc[pred_sgd['total'] < 0, 'total'] = median"
   ]
  },
  {
   "cell_type": "code",
   "execution_count": 62,
   "id": "e9d5168f",
   "metadata": {},
   "outputs": [],
   "source": [
    "pred_sgd.to_csv('pred_sgd.csv', index=False)"
   ]
  },
  {
   "cell_type": "code",
   "execution_count": 63,
   "id": "ebe459fa",
   "metadata": {},
   "outputs": [],
   "source": [
    "# write LightGBM predictions to file\n",
    "pred_lgbm = pred.copy()\n",
    "pred_lgbm['total'] = lgbm_predict\n",
    "pred_lgbm.loc[pred_lgbm['total'] < 0, 'total'] = median"
   ]
  },
  {
   "cell_type": "code",
   "execution_count": 64,
   "id": "88faff19",
   "metadata": {},
   "outputs": [],
   "source": [
    "pred_lgbm.to_csv('pred_lgbm.csv', index=False)"
   ]
  },
  {
   "cell_type": "code",
   "execution_count": null,
   "id": "8b01ece1",
   "metadata": {},
   "outputs": [],
   "source": []
  }
 ],
 "metadata": {
  "kernelspec": {
   "display_name": "Python 3 (ipykernel)",
   "language": "python",
   "name": "python3"
  },
  "language_info": {
   "codemirror_mode": {
    "name": "ipython",
    "version": 3
   },
   "file_extension": ".py",
   "mimetype": "text/x-python",
   "name": "python",
   "nbconvert_exporter": "python",
   "pygments_lexer": "ipython3",
   "version": "3.9.5"
  }
 },
 "nbformat": 4,
 "nbformat_minor": 5
}
