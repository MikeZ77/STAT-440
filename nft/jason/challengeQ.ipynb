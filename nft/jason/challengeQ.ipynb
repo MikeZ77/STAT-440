{
 "cells": [
  {
   "cell_type": "code",
   "execution_count": 1,
   "id": "e0806e88",
   "metadata": {},
   "outputs": [],
   "source": [
    "import pandas as pd\n",
    "import numpy as np\n",
    "import seaborn as sns\n",
    "import matplotlib.pyplot as plt\n",
    "%matplotlib inline"
   ]
  },
  {
   "cell_type": "markdown",
   "id": "da236060",
   "metadata": {},
   "source": [
    "### Read from training & ethereum datasets"
   ]
  },
  {
   "cell_type": "code",
   "execution_count": 2,
   "id": "dad8207c",
   "metadata": {},
   "outputs": [],
   "source": [
    "# source 1: https://ethereumprice.org/history/\n",
    "# source 2: https://www.nasdaq.com/market-activity/cryptocurrency/eth/historical\n",
    "\n",
    "PATH = 'data/'\n",
    "FILE_train = 'XYtr.csv'\n",
    "#FILE_eth = 'HistoricalData_1636140037191.csv'\n",
    "FILE_eth = '2019-01-01_2021-11-04_ethereumprice_org.csv'\n",
    "\n",
    "train = pd.read_csv(PATH + FILE_train, usecols=[2,9])\n",
    "eth = pd.read_csv(PATH + FILE_eth, usecols=[0,1])"
   ]
  },
  {
   "cell_type": "code",
   "execution_count": 3,
   "id": "bd39aed0",
   "metadata": {},
   "outputs": [
    {
     "data": {
      "text/html": [
       "<div>\n",
       "<style scoped>\n",
       "    .dataframe tbody tr th:only-of-type {\n",
       "        vertical-align: middle;\n",
       "    }\n",
       "\n",
       "    .dataframe tbody tr th {\n",
       "        vertical-align: top;\n",
       "    }\n",
       "\n",
       "    .dataframe thead th {\n",
       "        text-align: right;\n",
       "    }\n",
       "</style>\n",
       "<table border=\"1\" class=\"dataframe\">\n",
       "  <thead>\n",
       "    <tr style=\"text-align: right;\">\n",
       "      <th></th>\n",
       "      <th>cdate</th>\n",
       "      <th>total</th>\n",
       "    </tr>\n",
       "  </thead>\n",
       "  <tbody>\n",
       "    <tr>\n",
       "      <th>0</th>\n",
       "      <td>2019-04-26</td>\n",
       "      <td>0.055</td>\n",
       "    </tr>\n",
       "    <tr>\n",
       "      <th>1</th>\n",
       "      <td>2020-10-26</td>\n",
       "      <td>75.000</td>\n",
       "    </tr>\n",
       "    <tr>\n",
       "      <th>2</th>\n",
       "      <td>2019-04-26</td>\n",
       "      <td>0.158</td>\n",
       "    </tr>\n",
       "    <tr>\n",
       "      <th>3</th>\n",
       "      <td>2019-04-26</td>\n",
       "      <td>1.990</td>\n",
       "    </tr>\n",
       "    <tr>\n",
       "      <th>4</th>\n",
       "      <td>2019-04-26</td>\n",
       "      <td>1.000</td>\n",
       "    </tr>\n",
       "    <tr>\n",
       "      <th>...</th>\n",
       "      <td>...</td>\n",
       "      <td>...</td>\n",
       "    </tr>\n",
       "    <tr>\n",
       "      <th>6909</th>\n",
       "      <td>2020-11-27</td>\n",
       "      <td>0.550</td>\n",
       "    </tr>\n",
       "    <tr>\n",
       "      <th>6910</th>\n",
       "      <td>2019-04-26</td>\n",
       "      <td>0.100</td>\n",
       "    </tr>\n",
       "    <tr>\n",
       "      <th>6911</th>\n",
       "      <td>2019-05-08</td>\n",
       "      <td>0.966</td>\n",
       "    </tr>\n",
       "    <tr>\n",
       "      <th>6912</th>\n",
       "      <td>2021-06-12</td>\n",
       "      <td>0.170</td>\n",
       "    </tr>\n",
       "    <tr>\n",
       "      <th>6913</th>\n",
       "      <td>2020-10-09</td>\n",
       "      <td>0.100</td>\n",
       "    </tr>\n",
       "  </tbody>\n",
       "</table>\n",
       "<p>6914 rows × 2 columns</p>\n",
       "</div>"
      ],
      "text/plain": [
       "           cdate   total\n",
       "0     2019-04-26   0.055\n",
       "1     2020-10-26  75.000\n",
       "2     2019-04-26   0.158\n",
       "3     2019-04-26   1.990\n",
       "4     2019-04-26   1.000\n",
       "...          ...     ...\n",
       "6909  2020-11-27   0.550\n",
       "6910  2019-04-26   0.100\n",
       "6911  2019-05-08   0.966\n",
       "6912  2021-06-12   0.170\n",
       "6913  2020-10-09   0.100\n",
       "\n",
       "[6914 rows x 2 columns]"
      ]
     },
     "execution_count": 3,
     "metadata": {},
     "output_type": "execute_result"
    }
   ],
   "source": [
    "train"
   ]
  },
  {
   "cell_type": "code",
   "execution_count": 4,
   "id": "888af298",
   "metadata": {},
   "outputs": [
    {
     "data": {
      "text/html": [
       "<div>\n",
       "<style scoped>\n",
       "    .dataframe tbody tr th:only-of-type {\n",
       "        vertical-align: middle;\n",
       "    }\n",
       "\n",
       "    .dataframe tbody tr th {\n",
       "        vertical-align: top;\n",
       "    }\n",
       "\n",
       "    .dataframe thead th {\n",
       "        text-align: right;\n",
       "    }\n",
       "</style>\n",
       "<table border=\"1\" class=\"dataframe\">\n",
       "  <thead>\n",
       "    <tr style=\"text-align: right;\">\n",
       "      <th></th>\n",
       "      <th>timestamp</th>\n",
       "      <th>open</th>\n",
       "    </tr>\n",
       "  </thead>\n",
       "  <tbody>\n",
       "    <tr>\n",
       "      <th>0</th>\n",
       "      <td>1635984000</td>\n",
       "      <td>4605.600000</td>\n",
       "    </tr>\n",
       "    <tr>\n",
       "      <th>1</th>\n",
       "      <td>1635897600</td>\n",
       "      <td>4598.000000</td>\n",
       "    </tr>\n",
       "    <tr>\n",
       "      <th>2</th>\n",
       "      <td>1635811200</td>\n",
       "      <td>4324.210000</td>\n",
       "    </tr>\n",
       "    <tr>\n",
       "      <th>3</th>\n",
       "      <td>1635811140</td>\n",
       "      <td>4325.548484</td>\n",
       "    </tr>\n",
       "    <tr>\n",
       "      <th>4</th>\n",
       "      <td>1635724800</td>\n",
       "      <td>4295.350000</td>\n",
       "    </tr>\n",
       "    <tr>\n",
       "      <th>...</th>\n",
       "      <td>...</td>\n",
       "      <td>...</td>\n",
       "    </tr>\n",
       "    <tr>\n",
       "      <th>1193</th>\n",
       "      <td>1546646400</td>\n",
       "      <td>156.230000</td>\n",
       "    </tr>\n",
       "    <tr>\n",
       "      <th>1194</th>\n",
       "      <td>1546560000</td>\n",
       "      <td>156.040000</td>\n",
       "    </tr>\n",
       "    <tr>\n",
       "      <th>1195</th>\n",
       "      <td>1546473600</td>\n",
       "      <td>149.440000</td>\n",
       "    </tr>\n",
       "    <tr>\n",
       "      <th>1196</th>\n",
       "      <td>1546387200</td>\n",
       "      <td>156.570000</td>\n",
       "    </tr>\n",
       "    <tr>\n",
       "      <th>1197</th>\n",
       "      <td>1546300800</td>\n",
       "      <td>142.660000</td>\n",
       "    </tr>\n",
       "  </tbody>\n",
       "</table>\n",
       "<p>1198 rows × 2 columns</p>\n",
       "</div>"
      ],
      "text/plain": [
       "       timestamp         open\n",
       "0     1635984000  4605.600000\n",
       "1     1635897600  4598.000000\n",
       "2     1635811200  4324.210000\n",
       "3     1635811140  4325.548484\n",
       "4     1635724800  4295.350000\n",
       "...          ...          ...\n",
       "1193  1546646400   156.230000\n",
       "1194  1546560000   156.040000\n",
       "1195  1546473600   149.440000\n",
       "1196  1546387200   156.570000\n",
       "1197  1546300800   142.660000\n",
       "\n",
       "[1198 rows x 2 columns]"
      ]
     },
     "execution_count": 4,
     "metadata": {},
     "output_type": "execute_result"
    }
   ],
   "source": [
    "eth"
   ]
  },
  {
   "cell_type": "markdown",
   "id": "8e60ea7e",
   "metadata": {},
   "source": [
    "### Format dates for train & ethereum datasets"
   ]
  },
  {
   "cell_type": "code",
   "execution_count": 5,
   "id": "87cbac4d",
   "metadata": {},
   "outputs": [],
   "source": [
    "tr_date = train['cdate']\n",
    "train['cdate'] = pd.to_datetime(tr_date).values.astype(np.float64)/8.64e+13"
   ]
  },
  {
   "cell_type": "code",
   "execution_count": 6,
   "id": "28cfc6f9",
   "metadata": {},
   "outputs": [],
   "source": [
    "# https://datascience.stackexchange.com/questions/14645/convert-a-pandas-column-of-int-to-timestamp-datatype\n",
    "# https://stackoverflow.com/questions/20480897/pandas-add-one-day-to-column\n",
    "eth['timestamp'] = pd.to_datetime(eth['timestamp'], unit='s') - pd.DateOffset(1)\n",
    "# https://stackoverflow.com/questions/29310116/removing-time-from-datetime-variable-in-pandas\n",
    "eth['timestamp'] = pd.to_datetime(eth['timestamp']).dt.date\n",
    "dates = eth['timestamp']\n",
    "eth['timestamp'] = pd.to_datetime(dates).values.astype(np.float64)/8.64e+13\n",
    "eth.rename(columns={'timestamp':'cdate'}, inplace=True)"
   ]
  },
  {
   "cell_type": "code",
   "execution_count": 7,
   "id": "7560ed26",
   "metadata": {},
   "outputs": [
    {
     "name": "stdout",
     "output_type": "stream",
     "text": [
      "<class 'pandas.core.frame.DataFrame'>\n",
      "RangeIndex: 6914 entries, 0 to 6913\n",
      "Data columns (total 2 columns):\n",
      " #   Column  Non-Null Count  Dtype  \n",
      "---  ------  --------------  -----  \n",
      " 0   cdate   6914 non-null   float64\n",
      " 1   total   6914 non-null   float64\n",
      "dtypes: float64(2)\n",
      "memory usage: 108.2 KB\n",
      "None\n",
      "\n",
      "<class 'pandas.core.frame.DataFrame'>\n",
      "RangeIndex: 1198 entries, 0 to 1197\n",
      "Data columns (total 2 columns):\n",
      " #   Column  Non-Null Count  Dtype  \n",
      "---  ------  --------------  -----  \n",
      " 0   cdate   1198 non-null   float64\n",
      " 1   open    1198 non-null   float64\n",
      "dtypes: float64(2)\n",
      "memory usage: 18.8 KB\n",
      "None\n"
     ]
    }
   ],
   "source": [
    "print(train.info())\n",
    "print()\n",
    "print(eth.info())"
   ]
  },
  {
   "cell_type": "code",
   "execution_count": 8,
   "id": "d06e5c3e",
   "metadata": {},
   "outputs": [],
   "source": [
    "# https://stackoverflow.com/questions/60294634/select-first-row-when-there-are-multiple-rows-with-repeated-values-in-a-column\n",
    "eth.drop_duplicates(subset = ['cdate'], keep = 'first', inplace = True) "
   ]
  },
  {
   "cell_type": "markdown",
   "id": "229aab62",
   "metadata": {},
   "source": [
    "### Merge ethereum data to train data by dates"
   ]
  },
  {
   "cell_type": "code",
   "execution_count": 9,
   "id": "37ddd460",
   "metadata": {},
   "outputs": [],
   "source": [
    "# https://towardsdatascience.com/left-join-with-pandas-data-frames-in-python-c29c85089ba4\n",
    "train = train.merge(eth, on = 'cdate', how = 'left')"
   ]
  },
  {
   "cell_type": "code",
   "execution_count": 10,
   "id": "13d79992",
   "metadata": {},
   "outputs": [
    {
     "data": {
      "text/html": [
       "<div>\n",
       "<style scoped>\n",
       "    .dataframe tbody tr th:only-of-type {\n",
       "        vertical-align: middle;\n",
       "    }\n",
       "\n",
       "    .dataframe tbody tr th {\n",
       "        vertical-align: top;\n",
       "    }\n",
       "\n",
       "    .dataframe thead th {\n",
       "        text-align: right;\n",
       "    }\n",
       "</style>\n",
       "<table border=\"1\" class=\"dataframe\">\n",
       "  <thead>\n",
       "    <tr style=\"text-align: right;\">\n",
       "      <th></th>\n",
       "      <th>cdate</th>\n",
       "      <th>total</th>\n",
       "      <th>open</th>\n",
       "    </tr>\n",
       "  </thead>\n",
       "  <tbody>\n",
       "    <tr>\n",
       "      <th>0</th>\n",
       "      <td>18012.0</td>\n",
       "      <td>0.055</td>\n",
       "      <td>157.995247</td>\n",
       "    </tr>\n",
       "    <tr>\n",
       "      <th>1</th>\n",
       "      <td>18561.0</td>\n",
       "      <td>75.000</td>\n",
       "      <td>403.917828</td>\n",
       "    </tr>\n",
       "    <tr>\n",
       "      <th>2</th>\n",
       "      <td>18012.0</td>\n",
       "      <td>0.158</td>\n",
       "      <td>157.995247</td>\n",
       "    </tr>\n",
       "    <tr>\n",
       "      <th>3</th>\n",
       "      <td>18012.0</td>\n",
       "      <td>1.990</td>\n",
       "      <td>157.995247</td>\n",
       "    </tr>\n",
       "    <tr>\n",
       "      <th>4</th>\n",
       "      <td>18012.0</td>\n",
       "      <td>1.000</td>\n",
       "      <td>157.995247</td>\n",
       "    </tr>\n",
       "    <tr>\n",
       "      <th>...</th>\n",
       "      <td>...</td>\n",
       "      <td>...</td>\n",
       "      <td>...</td>\n",
       "    </tr>\n",
       "    <tr>\n",
       "      <th>6909</th>\n",
       "      <td>18593.0</td>\n",
       "      <td>0.550</td>\n",
       "      <td>519.371790</td>\n",
       "    </tr>\n",
       "    <tr>\n",
       "      <th>6910</th>\n",
       "      <td>18012.0</td>\n",
       "      <td>0.100</td>\n",
       "      <td>157.995247</td>\n",
       "    </tr>\n",
       "    <tr>\n",
       "      <th>6911</th>\n",
       "      <td>18024.0</td>\n",
       "      <td>0.966</td>\n",
       "      <td>171.533093</td>\n",
       "    </tr>\n",
       "    <tr>\n",
       "      <th>6912</th>\n",
       "      <td>18790.0</td>\n",
       "      <td>0.170</td>\n",
       "      <td>2509.820000</td>\n",
       "    </tr>\n",
       "    <tr>\n",
       "      <th>6913</th>\n",
       "      <td>18544.0</td>\n",
       "      <td>0.100</td>\n",
       "      <td>365.076671</td>\n",
       "    </tr>\n",
       "  </tbody>\n",
       "</table>\n",
       "<p>6914 rows × 3 columns</p>\n",
       "</div>"
      ],
      "text/plain": [
       "        cdate   total         open\n",
       "0     18012.0   0.055   157.995247\n",
       "1     18561.0  75.000   403.917828\n",
       "2     18012.0   0.158   157.995247\n",
       "3     18012.0   1.990   157.995247\n",
       "4     18012.0   1.000   157.995247\n",
       "...       ...     ...          ...\n",
       "6909  18593.0   0.550   519.371790\n",
       "6910  18012.0   0.100   157.995247\n",
       "6911  18024.0   0.966   171.533093\n",
       "6912  18790.0   0.170  2509.820000\n",
       "6913  18544.0   0.100   365.076671\n",
       "\n",
       "[6914 rows x 3 columns]"
      ]
     },
     "execution_count": 10,
     "metadata": {},
     "output_type": "execute_result"
    }
   ],
   "source": [
    "train"
   ]
  },
  {
   "cell_type": "markdown",
   "id": "a816ccde",
   "metadata": {},
   "source": [
    "### Check feature distributions"
   ]
  },
  {
   "cell_type": "code",
   "execution_count": 11,
   "id": "dc0da6b7",
   "metadata": {},
   "outputs": [
    {
     "data": {
      "text/plain": [
       "<AxesSubplot:xlabel='total', ylabel='Density'>"
      ]
     },
     "execution_count": 11,
     "metadata": {},
     "output_type": "execute_result"
    },
    {
     "data": {
      "image/png": "[encoded data removed]",
      "text/plain": [
       "<Figure size 432x288 with 1 Axes>"
      ]
     },
     "metadata": {
      "needs_background": "light"
     },
     "output_type": "display_data"
    }
   ],
   "source": [
    "# https://rstudio-pubs-static.s3.amazonaws.com/212263_df6931d8662f42efb3b69dd072d6212f.html\n",
    "sns.kdeplot(train['total'])"
   ]
  },
  {
   "cell_type": "code",
   "execution_count": 12,
   "id": "36869e12",
   "metadata": {},
   "outputs": [
    {
     "data": {
      "text/plain": [
       "<AxesSubplot:xlabel='open', ylabel='Density'>"
      ]
     },
     "execution_count": 12,
     "metadata": {},
     "output_type": "execute_result"
    },
    {
     "data": {
      "image/png": "[encoded data removed]",
      "text/plain": [
       "<Figure size 432x288 with 1 Axes>"
      ]
     },
     "metadata": {
      "needs_background": "light"
     },
     "output_type": "display_data"
    }
   ],
   "source": [
    "sns.kdeplot(train['open'])"
   ]
  },
  {
   "cell_type": "markdown",
   "id": "356f1064",
   "metadata": {},
   "source": [
    "#### Handle right-skewed data "
   ]
  },
  {
   "cell_type": "code",
   "execution_count": 13,
   "id": "5b7a230c",
   "metadata": {},
   "outputs": [],
   "source": [
    "# Apply log() and square-root() functions to features\n",
    "train[\"sqrt-total\"] = np.sqrt(train['total'])\n",
    "train[\"log-open\"] = np.log(train['open'])\n",
    "train[\"sqrt-open\"] = np.sqrt(train['open'])"
   ]
  },
  {
   "cell_type": "code",
   "execution_count": 14,
   "id": "029fa2a8",
   "metadata": {},
   "outputs": [
    {
     "data": {
      "text/html": [
       "<div>\n",
       "<style scoped>\n",
       "    .dataframe tbody tr th:only-of-type {\n",
       "        vertical-align: middle;\n",
       "    }\n",
       "\n",
       "    .dataframe tbody tr th {\n",
       "        vertical-align: top;\n",
       "    }\n",
       "\n",
       "    .dataframe thead th {\n",
       "        text-align: right;\n",
       "    }\n",
       "</style>\n",
       "<table border=\"1\" class=\"dataframe\">\n",
       "  <thead>\n",
       "    <tr style=\"text-align: right;\">\n",
       "      <th></th>\n",
       "      <th>cdate</th>\n",
       "      <th>total</th>\n",
       "      <th>open</th>\n",
       "      <th>sqrt-total</th>\n",
       "      <th>log-open</th>\n",
       "      <th>sqrt-open</th>\n",
       "    </tr>\n",
       "  </thead>\n",
       "  <tbody>\n",
       "    <tr>\n",
       "      <th>0</th>\n",
       "      <td>18012.0</td>\n",
       "      <td>0.055</td>\n",
       "      <td>157.995247</td>\n",
       "      <td>0.234521</td>\n",
       "      <td>5.062565</td>\n",
       "      <td>12.569616</td>\n",
       "    </tr>\n",
       "    <tr>\n",
       "      <th>1</th>\n",
       "      <td>18561.0</td>\n",
       "      <td>75.000</td>\n",
       "      <td>403.917828</td>\n",
       "      <td>8.660254</td>\n",
       "      <td>6.001211</td>\n",
       "      <td>20.097707</td>\n",
       "    </tr>\n",
       "    <tr>\n",
       "      <th>2</th>\n",
       "      <td>18012.0</td>\n",
       "      <td>0.158</td>\n",
       "      <td>157.995247</td>\n",
       "      <td>0.397492</td>\n",
       "      <td>5.062565</td>\n",
       "      <td>12.569616</td>\n",
       "    </tr>\n",
       "    <tr>\n",
       "      <th>3</th>\n",
       "      <td>18012.0</td>\n",
       "      <td>1.990</td>\n",
       "      <td>157.995247</td>\n",
       "      <td>1.410674</td>\n",
       "      <td>5.062565</td>\n",
       "      <td>12.569616</td>\n",
       "    </tr>\n",
       "    <tr>\n",
       "      <th>4</th>\n",
       "      <td>18012.0</td>\n",
       "      <td>1.000</td>\n",
       "      <td>157.995247</td>\n",
       "      <td>1.000000</td>\n",
       "      <td>5.062565</td>\n",
       "      <td>12.569616</td>\n",
       "    </tr>\n",
       "    <tr>\n",
       "      <th>...</th>\n",
       "      <td>...</td>\n",
       "      <td>...</td>\n",
       "      <td>...</td>\n",
       "      <td>...</td>\n",
       "      <td>...</td>\n",
       "      <td>...</td>\n",
       "    </tr>\n",
       "    <tr>\n",
       "      <th>6909</th>\n",
       "      <td>18593.0</td>\n",
       "      <td>0.550</td>\n",
       "      <td>519.371790</td>\n",
       "      <td>0.741620</td>\n",
       "      <td>6.252620</td>\n",
       "      <td>22.789730</td>\n",
       "    </tr>\n",
       "    <tr>\n",
       "      <th>6910</th>\n",
       "      <td>18012.0</td>\n",
       "      <td>0.100</td>\n",
       "      <td>157.995247</td>\n",
       "      <td>0.316228</td>\n",
       "      <td>5.062565</td>\n",
       "      <td>12.569616</td>\n",
       "    </tr>\n",
       "    <tr>\n",
       "      <th>6911</th>\n",
       "      <td>18024.0</td>\n",
       "      <td>0.966</td>\n",
       "      <td>171.533093</td>\n",
       "      <td>0.982853</td>\n",
       "      <td>5.144776</td>\n",
       "      <td>13.097064</td>\n",
       "    </tr>\n",
       "    <tr>\n",
       "      <th>6912</th>\n",
       "      <td>18790.0</td>\n",
       "      <td>0.170</td>\n",
       "      <td>2509.820000</td>\n",
       "      <td>0.412311</td>\n",
       "      <td>7.827966</td>\n",
       "      <td>50.098104</td>\n",
       "    </tr>\n",
       "    <tr>\n",
       "      <th>6913</th>\n",
       "      <td>18544.0</td>\n",
       "      <td>0.100</td>\n",
       "      <td>365.076671</td>\n",
       "      <td>0.316228</td>\n",
       "      <td>5.900107</td>\n",
       "      <td>19.106980</td>\n",
       "    </tr>\n",
       "  </tbody>\n",
       "</table>\n",
       "<p>6914 rows × 6 columns</p>\n",
       "</div>"
      ],
      "text/plain": [
       "        cdate   total         open  sqrt-total  log-open  sqrt-open\n",
       "0     18012.0   0.055   157.995247    0.234521  5.062565  12.569616\n",
       "1     18561.0  75.000   403.917828    8.660254  6.001211  20.097707\n",
       "2     18012.0   0.158   157.995247    0.397492  5.062565  12.569616\n",
       "3     18012.0   1.990   157.995247    1.410674  5.062565  12.569616\n",
       "4     18012.0   1.000   157.995247    1.000000  5.062565  12.569616\n",
       "...       ...     ...          ...         ...       ...        ...\n",
       "6909  18593.0   0.550   519.371790    0.741620  6.252620  22.789730\n",
       "6910  18012.0   0.100   157.995247    0.316228  5.062565  12.569616\n",
       "6911  18024.0   0.966   171.533093    0.982853  5.144776  13.097064\n",
       "6912  18790.0   0.170  2509.820000    0.412311  7.827966  50.098104\n",
       "6913  18544.0   0.100   365.076671    0.316228  5.900107  19.106980\n",
       "\n",
       "[6914 rows x 6 columns]"
      ]
     },
     "execution_count": 14,
     "metadata": {},
     "output_type": "execute_result"
    }
   ],
   "source": [
    "train"
   ]
  },
  {
   "cell_type": "markdown",
   "id": "5c989cc4",
   "metadata": {},
   "source": [
    "### Spearman Correlations"
   ]
  },
  {
   "cell_type": "code",
   "execution_count": 15,
   "id": "6d47223d",
   "metadata": {},
   "outputs": [
    {
     "data": {
      "text/plain": [
       "0.006986136472472196"
      ]
     },
     "execution_count": 15,
     "metadata": {},
     "output_type": "execute_result"
    }
   ],
   "source": [
    "train['total'].corr(train['open'], method = \"spearman\")"
   ]
  },
  {
   "cell_type": "code",
   "execution_count": 16,
   "id": "23a76bd5",
   "metadata": {},
   "outputs": [
    {
     "data": {
      "text/plain": [
       "0.006986136472472196"
      ]
     },
     "execution_count": 16,
     "metadata": {},
     "output_type": "execute_result"
    }
   ],
   "source": [
    "train['total'].corr(train['log-open'], method = \"spearman\")"
   ]
  },
  {
   "cell_type": "code",
   "execution_count": 17,
   "id": "8274ea50",
   "metadata": {},
   "outputs": [
    {
     "data": {
      "text/plain": [
       "0.006986136472472196"
      ]
     },
     "execution_count": 17,
     "metadata": {},
     "output_type": "execute_result"
    }
   ],
   "source": [
    "train['total'].corr(train['sqrt-open'], method = \"spearman\")"
   ]
  },
  {
   "cell_type": "code",
   "execution_count": 18,
   "id": "0cb419e1",
   "metadata": {},
   "outputs": [
    {
     "data": {
      "text/plain": [
       "0.006986136472472196"
      ]
     },
     "execution_count": 18,
     "metadata": {},
     "output_type": "execute_result"
    }
   ],
   "source": [
    "train['sqrt-total'].corr(train['open'], method = \"spearman\")"
   ]
  },
  {
   "cell_type": "code",
   "execution_count": 19,
   "id": "d31f83c1",
   "metadata": {},
   "outputs": [
    {
     "data": {
      "text/plain": [
       "0.006986136472472196"
      ]
     },
     "execution_count": 19,
     "metadata": {},
     "output_type": "execute_result"
    }
   ],
   "source": [
    "train['sqrt-total'].corr(train['log-open'], method = \"spearman\")"
   ]
  },
  {
   "cell_type": "code",
   "execution_count": 20,
   "id": "a6201508",
   "metadata": {},
   "outputs": [
    {
     "data": {
      "text/plain": [
       "0.006986136472472196"
      ]
     },
     "execution_count": 20,
     "metadata": {},
     "output_type": "execute_result"
    }
   ],
   "source": [
    "train['sqrt-total'].corr(train['sqrt-open'], method = \"spearman\")"
   ]
  },
  {
   "cell_type": "markdown",
   "id": "6b018301",
   "metadata": {},
   "source": [
    "#### visualizations"
   ]
  },
  {
   "cell_type": "code",
   "execution_count": 21,
   "id": "56fff425",
   "metadata": {},
   "outputs": [
    {
     "data": {
      "image/png": "[encoded data removed]",
      "text/plain": [
       "<Figure size 432x288 with 2 Axes>"
      ]
     },
     "metadata": {
      "needs_background": "light"
     },
     "output_type": "display_data"
    }
   ],
   "source": [
    "# https://stackoverflow.com/questions/62201732/how-to-scatter-plot-or-heatmap-spearmans-correlation-in-python\n",
    "# https://cmdlinetips.com/2019/08/how-to-compute-pearson-and-spearman-correlation-in-python/\n",
    "corr = train[['total', 'open']].corr(method = 'spearman')\n",
    "sns.heatmap(corr, annot = True)\n",
    "plt.show()"
   ]
  },
  {
   "cell_type": "code",
   "execution_count": 22,
   "id": "7210b819",
   "metadata": {},
   "outputs": [
    {
     "data": {
      "text/plain": [
       "<AxesSubplot:xlabel='total', ylabel='open'>"
      ]
     },
     "execution_count": 22,
     "metadata": {},
     "output_type": "execute_result"
    },
    {
     "data": {
      "image/png": "[encoded data removed]",
      "text/plain": [
       "<Figure size 432x288 with 1 Axes>"
      ]
     },
     "metadata": {
      "needs_background": "light"
     },
     "output_type": "display_data"
    }
   ],
   "source": [
    "sns.scatterplot(data=train[['total', 'open']], x=\"total\", y=\"open\")"
   ]
  },
  {
   "cell_type": "markdown",
   "id": "06ed7f41",
   "metadata": {},
   "source": [
    "### Summary - Given the low correlative value (0.007), the price of ethereum at NFT creation date does not affect auction price"
   ]
  }
 ],
 "metadata": {
  "kernelspec": {
   "display_name": "Python 3 (ipykernel)",
   "language": "python",
   "name": "python3"
  },
  "language_info": {
   "codemirror_mode": {
    "name": "ipython",
    "version": 3
   },
   "file_extension": ".py",
   "mimetype": "text/x-python",
   "name": "python",
   "nbconvert_exporter": "python",
   "pygments_lexer": "ipython3",
   "version": "3.9.5"
  }
 },
 "nbformat": 4,
 "nbformat_minor": 5
}
