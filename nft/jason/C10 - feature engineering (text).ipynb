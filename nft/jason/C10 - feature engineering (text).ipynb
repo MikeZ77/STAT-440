{
 "cells": [
  {
   "cell_type": "code",
   "execution_count": 1,
   "id": "e0806e88",
   "metadata": {},
   "outputs": [],
   "source": [
    "import gensim\n",
    "import gensim.corpora as corpora\n",
    "from gensim.utils import simple_preprocess\n",
    "from gensim.models import CoherenceModel"
   ]
  },
  {
   "cell_type": "code",
   "execution_count": 2,
   "id": "ee0d273c",
   "metadata": {},
   "outputs": [],
   "source": [
    "# Plotting tools\n",
    "import pyLDAvis\n",
    "import pyLDAvis.gensim_models  # don't skip this\n",
    "import matplotlib.pyplot as plt\n",
    "%matplotlib inline"
   ]
  },
  {
   "cell_type": "code",
   "execution_count": 3,
   "id": "09539b93",
   "metadata": {},
   "outputs": [],
   "source": [
    "import pandas as pd\n",
    "import numpy as np\n",
    "from sklearn.feature_extraction.text import CountVectorizer\n",
    "from sklearn.decomposition import LatentDirichletAllocation"
   ]
  },
  {
   "cell_type": "code",
   "execution_count": 17,
   "id": "ebbe102b",
   "metadata": {},
   "outputs": [],
   "source": [
    "# Read data\n",
    "XYtr = pd.read_csv('data/XYtr.csv')\n",
    "Xte = pd.read_csv('data/Xte.csv')"
   ]
  },
  {
   "cell_type": "markdown",
   "id": "0e5179e1",
   "metadata": {},
   "source": [
    "### Make corpus and vocab"
   ]
  },
  {
   "cell_type": "code",
   "execution_count": 18,
   "id": "a7022d12",
   "metadata": {},
   "outputs": [],
   "source": [
    "# Make corpus and vocab\n",
    "\n",
    "K = 10\n",
    "XYtr['description'] = XYtr['description'].fillna(\"NAN\")\n",
    "Xte['description'] = Xte['description'].fillna(\"NAN\")"
   ]
  },
  {
   "cell_type": "code",
   "execution_count": 19,
   "id": "f6ab9c92",
   "metadata": {},
   "outputs": [],
   "source": [
    "corpus = list(XYtr['description'])+list(Xte['description'])"
   ]
  },
  {
   "cell_type": "code",
   "execution_count": 20,
   "id": "aa518b72",
   "metadata": {},
   "outputs": [
    {
     "data": {
      "text/plain": [
       "13828"
      ]
     },
     "execution_count": 20,
     "metadata": {},
     "output_type": "execute_result"
    }
   ],
   "source": [
    "# Length of the list (documents in this case)\n",
    "# https://stackoverflow.com/questions/12282232/how-do-i-count-unique-values-inside-a-list\n",
    "len(corpus)"
   ]
  },
  {
   "cell_type": "code",
   "execution_count": null,
   "id": "e62625ae",
   "metadata": {},
   "outputs": [],
   "source": [
    "# verifying the dimension of creating a corpus\n",
    "corpus_copy = XYtr['description'][0]\n",
    "corpus_copy\n",
    "len(corpus_copy.split())\n",
    "# https://stackoverflow.com/questions/49806790/iterable-over-raw-text-documents-expected-string-object-received\n",
    "corpus_copy=[corpus_copy]\n",
    "vectorizer = CountVectorizer()\n",
    "corpus = vectorizer.fit_transform(corpus_copy)"
   ]
  },
  {
   "cell_type": "code",
   "execution_count": 21,
   "id": "e6ee0b49",
   "metadata": {},
   "outputs": [],
   "source": [
    "# https://www.geeksforgeeks.org/using-countvectorizer-to-extracting-features-from-text/\n",
    "# CountVectorizer creates a matrix in which each unique word is represented by a column of the matrix, \n",
    "# and each text sample from the document is a row in the matrix. \n",
    "# The value of each cell is nothing but the count of the word in that particular text sample.\n",
    "# Create a Vectorizer Object\n",
    "vectorizer = CountVectorizer()\n",
    "# Encode the documents\n",
    "corpus = vectorizer.fit_transform(corpus)"
   ]
  },
  {
   "cell_type": "code",
   "execution_count": 33,
   "id": "0645e88c",
   "metadata": {},
   "outputs": [
    {
     "data": {
      "text/plain": [
       "14381"
      ]
     },
     "execution_count": 33,
     "metadata": {},
     "output_type": "execute_result"
    }
   ],
   "source": [
    "len(vectorizer.get_feature_names_out())"
   ]
  },
  {
   "cell_type": "code",
   "execution_count": 22,
   "id": "1cd0d5ff",
   "metadata": {},
   "outputs": [
    {
     "data": {
      "text/plain": [
       "(13828, 14381)"
      ]
     },
     "execution_count": 22,
     "metadata": {},
     "output_type": "execute_result"
    }
   ],
   "source": [
    "# a sparse matrix of documents (row) vs number of unique words\n",
    "corpus.shape"
   ]
  },
  {
   "cell_type": "code",
   "execution_count": 23,
   "id": "01c97a05",
   "metadata": {},
   "outputs": [
    {
     "data": {
      "text/plain": [
       "LatentDirichletAllocation()"
      ]
     },
     "execution_count": 23,
     "metadata": {},
     "output_type": "execute_result"
    }
   ],
   "source": [
    "# build lda model\n",
    "lda = LatentDirichletAllocation(n_components = K)\n",
    "lda.fit(corpus)"
   ]
  },
  {
   "cell_type": "code",
   "execution_count": 24,
   "id": "1532c3c9",
   "metadata": {},
   "outputs": [],
   "source": [
    "topics = lda.transform(corpus)"
   ]
  },
  {
   "cell_type": "code",
   "execution_count": 25,
   "id": "3c278f64",
   "metadata": {},
   "outputs": [
    {
     "data": {
      "text/plain": [
       "array([[0.53212086, 0.00416747, 0.00416771, ..., 0.00416705, 0.00416767,\n",
       "        0.18193814],\n",
       "       [0.18868668, 0.01428692, 0.01428627, ..., 0.01428716, 0.01428645,\n",
       "        0.69702068],\n",
       "       [0.00357163, 0.00357257, 0.00357162, ..., 0.96785461, 0.00357161,\n",
       "        0.00357163],\n",
       "       ...,\n",
       "       [0.00303045, 0.97272447, 0.00303075, ..., 0.00303103, 0.00303116,\n",
       "        0.00303046],\n",
       "       [0.00322623, 0.00322687, 0.05735878, ..., 0.00322637, 0.00322625,\n",
       "        0.00322657],\n",
       "       [0.00357163, 0.00357257, 0.00357162, ..., 0.96785461, 0.00357161,\n",
       "        0.00357163]])"
      ]
     },
     "execution_count": 25,
     "metadata": {},
     "output_type": "execute_result"
    }
   ],
   "source": [
    "topics"
   ]
  },
  {
   "cell_type": "code",
   "execution_count": 26,
   "id": "14096a53",
   "metadata": {},
   "outputs": [
    {
     "data": {
      "text/plain": [
       "(13828, 10)"
      ]
     },
     "execution_count": 26,
     "metadata": {},
     "output_type": "execute_result"
    }
   ],
   "source": [
    "topics.shape"
   ]
  },
  {
   "cell_type": "code",
   "execution_count": 27,
   "id": "fce93bf4",
   "metadata": {},
   "outputs": [
    {
     "data": {
      "text/plain": [
       "(6914, 10)"
      ]
     },
     "execution_count": 27,
     "metadata": {},
     "output_type": "execute_result"
    }
   ],
   "source": [
    "XYtr.shape"
   ]
  },
  {
   "cell_type": "code",
   "execution_count": 28,
   "id": "1ac2d76a",
   "metadata": {},
   "outputs": [],
   "source": [
    "test = pd.DataFrame.from_records(topics)"
   ]
  },
  {
   "cell_type": "code",
   "execution_count": 29,
   "id": "d99b2924",
   "metadata": {},
   "outputs": [
    {
     "data": {
      "text/html": [
       "<div>\n",
       "<style scoped>\n",
       "    .dataframe tbody tr th:only-of-type {\n",
       "        vertical-align: middle;\n",
       "    }\n",
       "\n",
       "    .dataframe tbody tr th {\n",
       "        vertical-align: top;\n",
       "    }\n",
       "\n",
       "    .dataframe thead th {\n",
       "        text-align: right;\n",
       "    }\n",
       "</style>\n",
       "<table border=\"1\" class=\"dataframe\">\n",
       "  <thead>\n",
       "    <tr style=\"text-align: right;\">\n",
       "      <th></th>\n",
       "      <th>0</th>\n",
       "      <th>1</th>\n",
       "      <th>2</th>\n",
       "      <th>3</th>\n",
       "      <th>4</th>\n",
       "      <th>5</th>\n",
       "      <th>6</th>\n",
       "      <th>7</th>\n",
       "      <th>8</th>\n",
       "      <th>9</th>\n",
       "    </tr>\n",
       "  </thead>\n",
       "  <tbody>\n",
       "    <tr>\n",
       "      <th>0</th>\n",
       "      <td>0.532121</td>\n",
       "      <td>0.004167</td>\n",
       "      <td>0.004168</td>\n",
       "      <td>0.076116</td>\n",
       "      <td>0.004168</td>\n",
       "      <td>0.184820</td>\n",
       "      <td>0.004167</td>\n",
       "      <td>0.004167</td>\n",
       "      <td>0.004168</td>\n",
       "      <td>0.181938</td>\n",
       "    </tr>\n",
       "    <tr>\n",
       "      <th>1</th>\n",
       "      <td>0.188687</td>\n",
       "      <td>0.014287</td>\n",
       "      <td>0.014286</td>\n",
       "      <td>0.014287</td>\n",
       "      <td>0.014286</td>\n",
       "      <td>0.014286</td>\n",
       "      <td>0.014286</td>\n",
       "      <td>0.014287</td>\n",
       "      <td>0.014286</td>\n",
       "      <td>0.697021</td>\n",
       "    </tr>\n",
       "    <tr>\n",
       "      <th>2</th>\n",
       "      <td>0.003572</td>\n",
       "      <td>0.003573</td>\n",
       "      <td>0.003572</td>\n",
       "      <td>0.003572</td>\n",
       "      <td>0.003572</td>\n",
       "      <td>0.003572</td>\n",
       "      <td>0.003572</td>\n",
       "      <td>0.967855</td>\n",
       "      <td>0.003572</td>\n",
       "      <td>0.003572</td>\n",
       "    </tr>\n",
       "  </tbody>\n",
       "</table>\n",
       "</div>"
      ],
      "text/plain": [
       "          0         1         2         3         4         5         6  \\\n",
       "0  0.532121  0.004167  0.004168  0.076116  0.004168  0.184820  0.004167   \n",
       "1  0.188687  0.014287  0.014286  0.014287  0.014286  0.014286  0.014286   \n",
       "2  0.003572  0.003573  0.003572  0.003572  0.003572  0.003572  0.003572   \n",
       "\n",
       "          7         8         9  \n",
       "0  0.004167  0.004168  0.181938  \n",
       "1  0.014287  0.014286  0.697021  \n",
       "2  0.967855  0.003572  0.003572  "
      ]
     },
     "execution_count": 29,
     "metadata": {},
     "output_type": "execute_result"
    }
   ],
   "source": [
    "test.head(3)"
   ]
  },
  {
   "cell_type": "code",
   "execution_count": null,
   "id": "ef00e0e1",
   "metadata": {},
   "outputs": [],
   "source": [
    "N = XYtr.shape[0]"
   ]
  },
  {
   "cell_type": "code",
   "execution_count": null,
   "id": "62fd53db",
   "metadata": {},
   "outputs": [],
   "source": [
    "fp = open('data/XYtr_ft.csv', 'w')\n",
    "fp.write('id')\n",
    "for k in range(K):\n",
    "    fp.write(',FT%04d' % k)\n",
    "\n",
    "fp.write('\\n')\n",
    "for i in range(N):\n",
    "    id = XYtr.loc[i,'id']\n",
    "    fp.write('%s' % id)\n",
    "    for k in range(K):\n",
    "        fp.write(',%f' % topics[i, k])\n",
    "    \n",
    "    fp.write('\\n')\n",
    "\n",
    "fp.close()    \n",
    "\n",
    "fp = open('data/Xte_ft.csv', 'w')\n",
    "fp.write('id')\n",
    "for k in range(K):\n",
    "    fp.write(',FT%04d' % k)\n",
    "\n",
    "fp.write('\\n')\n",
    "for i in range(N):\n",
    "    id = Xte.loc[i,'id']\n",
    "    fp.write('%s' % id)\n",
    "    for k in range(K):\n",
    "        fp.write(',%f' % topics[i + N, k])\n",
    "    \n",
    "    fp.write('\\n')\n",
    "\n",
    "fp.close()    "
   ]
  },
  {
   "cell_type": "code",
   "execution_count": null,
   "id": "5e66dc86",
   "metadata": {},
   "outputs": [],
   "source": []
  }
 ],
 "metadata": {
  "kernelspec": {
   "display_name": "Python 3 (ipykernel)",
   "language": "python",
   "name": "python3"
  },
  "language_info": {
   "codemirror_mode": {
    "name": "ipython",
    "version": 3
   },
   "file_extension": ".py",
   "mimetype": "text/x-python",
   "name": "python",
   "nbconvert_exporter": "python",
   "pygments_lexer": "ipython3",
   "version": "3.9.5"
  }
 },
 "nbformat": 4,
 "nbformat_minor": 5
}
