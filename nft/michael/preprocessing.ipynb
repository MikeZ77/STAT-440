{
 "cells": [
  {
   "cell_type": "code",
   "execution_count": 24,
   "id": "220b173d",
   "metadata": {},
   "outputs": [],
   "source": [
    "import pandas as pd\n",
    "import numpy as np"
   ]
  },
  {
   "cell_type": "code",
   "execution_count": 25,
   "id": "51b50add",
   "metadata": {},
   "outputs": [
    {
     "name": "stdout",
     "output_type": "stream",
     "text": [
      "<class 'pandas.core.frame.DataFrame'>\n",
      "RangeIndex: 6914 entries, 0 to 6913\n",
      "Data columns (total 10 columns):\n",
      " #   Column       Non-Null Count  Dtype  \n",
      "---  ------       --------------  -----  \n",
      " 0   id           6914 non-null   object \n",
      " 1   X.sales      6914 non-null   int64  \n",
      " 2   cdate        6914 non-null   object \n",
      " 3   description  6512 non-null   object \n",
      " 4   version      6746 non-null   object \n",
      " 5   symbol       5555 non-null   object \n",
      " 6   ext          6914 non-null   object \n",
      " 7   fee1         6696 non-null   float64\n",
      " 8   fee2         6705 non-null   float64\n",
      " 9   total        6914 non-null   float64\n",
      "dtypes: float64(3), int64(1), object(6)\n",
      "memory usage: 540.3+ KB\n",
      "None\n"
     ]
    }
   ],
   "source": [
    "# Load CSV to Dataframe\n",
    "PATH = '../data/'\n",
    "FILE = 'XYtr.csv'\n",
    "df_train = pd.read_csv(PATH + FILE)\n",
    "\n",
    "# So description, version, symbol, fee1, and fee2 have missing values (NaN)\n",
    "print(df_train.info())"
   ]
  },
  {
   "cell_type": "code",
   "execution_count": 26,
   "id": "1920f532",
   "metadata": {},
   "outputs": [
    {
     "name": "stdout",
     "output_type": "stream",
     "text": [
      "['3' 'None' 'unsupported' '4' nan '1' '2']\n",
      "<class 'pandas.core.frame.DataFrame'>\n",
      "RangeIndex: 6914 entries, 0 to 6913\n",
      "Data columns (total 10 columns):\n",
      " #   Column       Non-Null Count  Dtype  \n",
      "---  ------       --------------  -----  \n",
      " 0   id           6914 non-null   object \n",
      " 1   X.sales      6914 non-null   int64  \n",
      " 2   cdate        6914 non-null   object \n",
      " 3   description  6914 non-null   object \n",
      " 4   version      6914 non-null   object \n",
      " 5   symbol       6914 non-null   object \n",
      " 6   ext          6914 non-null   object \n",
      " 7   fee1         6914 non-null   float64\n",
      " 8   fee2         6914 non-null   float64\n",
      " 9   total        6914 non-null   float64\n",
      "dtypes: float64(3), int64(1), object(6)\n",
      "memory usage: 540.3+ KB\n",
      "None\n"
     ]
    }
   ],
   "source": [
    "'''\n",
    "Data Cleaning\n",
    "'''\n",
    "\n",
    "# description: use the token None to mean no description\n",
    "df_train['description'] = df_train['description'].fillna('None')\n",
    "\n",
    "# version: Has 'None' category. Set nan to 'None'. \n",
    "print(df_train['version'].unique())\n",
    "df_train['version'] = df_train['version'].fillna('None')\n",
    "\n",
    "# symbol: 5 digit symbols. Set to 00000 to represent None.\n",
    "# print(df_train['symbol'].unique())\n",
    "df_train['symbol'] = df_train['symbol'].fillna('00000')\n",
    "\n",
    "# fee1: Small number misssin. Fill with the mean.\n",
    "df_train['fee1'] = df_train['fee1'].fillna((df_train['fee1'].mean()))\n",
    "                                           \n",
    "# fee2: Small number misssin. Fill with the mean.\n",
    "df_train['fee2'] = df_train['fee2'].fillna((df_train['fee2'].mean()))\n",
    "\n",
    "print(df_train.info())"
   ]
  },
  {
   "cell_type": "code",
   "execution_count": 27,
   "id": "d4dc3414",
   "metadata": {},
   "outputs": [],
   "source": [
    "def encode_and_bind(original_dataframe, feature_to_encode):\n",
    "    dummies = pd.get_dummies(original_dataframe[[feature_to_encode]], drop_first=True)\n",
    "    res = pd.concat([original_dataframe, dummies], axis=1)\n",
    "    res = res.drop([feature_to_encode], axis=1)\n",
    "    return(res)\n",
    "\n",
    "\n",
    "# One-hot encode version\n",
    "df_train = encode_and_bind(df_train, 'version')\n",
    "\n",
    "# One-hot encode symbol\n",
    "df_train = encode_and_bind(df_train, 'symbol')\n",
    "\n",
    "# One-hot encode ext\n",
    "df_train = encode_and_bind(df_train, 'ext')"
   ]
  },
  {
   "cell_type": "code",
   "execution_count": null,
   "id": "5501de3a",
   "metadata": {},
   "outputs": [],
   "source": [
    "# TODO: text feature extraction\n"
   ]
  },
  {
   "cell_type": "code",
   "execution_count": null,
   "id": "2417b3fb",
   "metadata": {},
   "outputs": [],
   "source": [
    "# TODO: image feature extraction"
   ]
  },
  {
   "cell_type": "code",
   "execution_count": null,
   "id": "595a31d5",
   "metadata": {},
   "outputs": [],
   "source": [
    "# TODO: Write to new csv for model training"
   ]
  }
 ],
 "metadata": {
  "kernelspec": {
   "display_name": "Python 3 (ipykernel)",
   "language": "python",
   "name": "python3"
  },
  "language_info": {
   "codemirror_mode": {
    "name": "ipython",
    "version": 3
   },
   "file_extension": ".py",
   "mimetype": "text/x-python",
   "name": "python",
   "nbconvert_exporter": "python",
   "pygments_lexer": "ipython3",
   "version": "3.8.10"
  }
 },
 "nbformat": 4,
 "nbformat_minor": 5
}
