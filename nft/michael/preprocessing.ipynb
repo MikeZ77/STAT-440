{
 "cells": [
  {
   "cell_type": "code",
   "execution_count": 1,
   "id": "220b173d",
   "metadata": {},
   "outputs": [],
   "source": [
    "import pandas as pd\n",
    "import numpy as np\n",
    "import os\n",
    "from tqdm import tqdm\n",
    "# Text processing\n",
    "from sklearn.feature_extraction.text import CountVectorizer, TfidfVectorizer\n",
    "from sklearn.decomposition import LatentDirichletAllocation, TruncatedSVD\n",
    "# Image processing\n",
    "from skimage.io import imread, imshow\n",
    "from skimage.color import rgba2rgb\n",
    "from skimage.transform import resize\n",
    "from skimage.filters import sobel"
   ]
  },
  {
   "cell_type": "code",
   "execution_count": 2,
   "id": "51b50add",
   "metadata": {},
   "outputs": [
    {
     "name": "stdout",
     "output_type": "stream",
     "text": [
      "<class 'pandas.core.frame.DataFrame'>\n",
      "Index: 6914 entries, a44a5f4c5e13910205404271e750e7bc to 62defe67d57479ab0cd6d1ffb6525cbb\n",
      "Data columns (total 9 columns):\n",
      " #   Column       Non-Null Count  Dtype  \n",
      "---  ------       --------------  -----  \n",
      " 0   X.sales      6914 non-null   int64  \n",
      " 1   cdate        6914 non-null   object \n",
      " 2   description  6512 non-null   object \n",
      " 3   version      6746 non-null   object \n",
      " 4   symbol       5555 non-null   object \n",
      " 5   ext          6914 non-null   object \n",
      " 6   fee1         6696 non-null   float64\n",
      " 7   fee2         6705 non-null   float64\n",
      " 8   total        6914 non-null   float64\n",
      "dtypes: float64(3), int64(1), object(5)\n",
      "memory usage: 540.2+ KB\n",
      "None\n"
     ]
    }
   ],
   "source": [
    "# Load CSV to Dataframe\n",
    "PATH = '../data/'\n",
    "TRAIN_FILE = 'XYtr.csv'\n",
    "TEST_FILE = 'Xte.csv'\n",
    "IMAGE_FOLDER = '../data/images/images'\n",
    "df_train = pd.read_csv(PATH + TRAIN_FILE, index_col='id')\n",
    "df_test = pd.read_csv(PATH + TEST_FILE, index_col='id')\n",
    "\n",
    "# So description, version, symbol, fee1, and fee2 have missing values (NaN)\n",
    "print(df_train.info())"
   ]
  },
  {
   "cell_type": "code",
   "execution_count": 3,
   "id": "1920f532",
   "metadata": {},
   "outputs": [
    {
     "name": "stdout",
     "output_type": "stream",
     "text": [
      "<class 'pandas.core.frame.DataFrame'>\n",
      "Index: 6914 entries, a44a5f4c5e13910205404271e750e7bc to 62defe67d57479ab0cd6d1ffb6525cbb\n",
      "Data columns (total 9 columns):\n",
      " #   Column       Non-Null Count  Dtype  \n",
      "---  ------       --------------  -----  \n",
      " 0   X.sales      6914 non-null   int64  \n",
      " 1   cdate        6914 non-null   object \n",
      " 2   description  6914 non-null   object \n",
      " 3   version      6914 non-null   object \n",
      " 4   symbol       6914 non-null   object \n",
      " 5   ext          6914 non-null   object \n",
      " 6   fee1         6914 non-null   float64\n",
      " 7   fee2         6914 non-null   float64\n",
      " 8   total        6914 non-null   float64\n",
      "dtypes: float64(3), int64(1), object(5)\n",
      "memory usage: 540.2+ KB\n",
      "None\n",
      "<class 'pandas.core.frame.DataFrame'>\n",
      "Index: 6914 entries, 7e79f1a9cb10504dd2fc569d84f2a346 to 3b665129694904b2024dc7cd8230babe\n",
      "Data columns (total 8 columns):\n",
      " #   Column       Non-Null Count  Dtype  \n",
      "---  ------       --------------  -----  \n",
      " 0   X.sales      6914 non-null   int64  \n",
      " 1   cdate        6914 non-null   object \n",
      " 2   description  6914 non-null   object \n",
      " 3   version      6914 non-null   object \n",
      " 4   symbol       6914 non-null   object \n",
      " 5   ext          6914 non-null   object \n",
      " 6   fee1         6914 non-null   float64\n",
      " 7   fee2         6914 non-null   float64\n",
      "dtypes: float64(2), int64(1), object(5)\n",
      "memory usage: 486.1+ KB\n",
      "None\n"
     ]
    }
   ],
   "source": [
    "'''\n",
    "Data Cleaning\n",
    "'''\n",
    "\n",
    "# description: use the token None to mean no description\n",
    "df_train['description'] = df_train['description'].fillna('None')\n",
    "df_test['description'] = df_test['description'].fillna('None')\n",
    "\n",
    "# version: Has 'None' category. Set nan to 'None'. \n",
    "# print(df_test['version'].unique())\n",
    "df_train['version'] = df_train['version'].fillna('None')\n",
    "df_test['version'] = df_test['version'].fillna('None')\n",
    "\n",
    "# symbol: 5 digit symbols. Set to 00000 to represent None.\n",
    "# print(df_test['symbol'].unique())\n",
    "df_train['symbol'] = df_train['symbol'].fillna('00000')\n",
    "df_test['symbol'] = df_test['symbol'].fillna('00000')\n",
    "\n",
    "# fee1: Small number misssin. Fill with the mean.\n",
    "df_train['fee1'] = df_train['fee1'].fillna((df_train['fee1'].mean()))\n",
    "df_test['fee1'] = df_test['fee1'].fillna((df_test['fee1'].mean()))\n",
    "\n",
    "# fee2: Small number misssin. Fill with the mean.\n",
    "df_train['fee2'] = df_train['fee2'].fillna((df_train['fee2'].mean()))\n",
    "df_test['fee2'] = df_test['fee2'].fillna((df_test['fee2'].mean()))\n",
    "\n",
    "print(df_train.info())\n",
    "print(df_test.info())"
   ]
  },
  {
   "cell_type": "code",
   "execution_count": 4,
   "id": "d4dc3414",
   "metadata": {},
   "outputs": [
    {
     "name": "stdout",
     "output_type": "stream",
     "text": [
      "<class 'pandas.core.frame.DataFrame'>\n",
      "Index: 13828 entries, a44a5f4c5e13910205404271e750e7bc to 3b665129694904b2024dc7cd8230babe\n",
      "Columns: 587 entries, X.sales to ext_.png\n",
      "dtypes: float64(3), int64(1), object(2), uint8(581)\n",
      "memory usage: 8.4+ MB\n",
      "None\n"
     ]
    }
   ],
   "source": [
    "def encode_and_bind(original_dataframe, feature_to_encode):\n",
    "    dummies = pd.get_dummies(original_dataframe[[feature_to_encode]], drop_first=True)\n",
    "    res = pd.concat([original_dataframe, dummies], axis=1)\n",
    "    res = res.drop([feature_to_encode], axis=1)\n",
    "    return(res)\n",
    "\n",
    "# We need to combine the train and test sets so we can get the same number of features on each.\n",
    "train_size = len(df_train)\n",
    "test_size = len(df_test)\n",
    "\n",
    "df_train_test =  df_train.append(df_test)\n",
    "\n",
    "# One-hot encode version\n",
    "df_train_test = encode_and_bind(df_train_test, 'version')\n",
    "\n",
    "# One-hot encode symbol\n",
    "df_train_test = encode_and_bind(df_train_test, 'symbol')\n",
    "\n",
    "# One-hot encode ext\n",
    "df_train_test = encode_and_bind(df_train_test, 'ext')\n",
    "\n",
    "print(df_train_test.info())"
   ]
  },
  {
   "cell_type": "code",
   "execution_count": 5,
   "id": "5501de3a",
   "metadata": {},
   "outputs": [
    {
     "name": "stdout",
     "output_type": "stream",
     "text": [
      "(13828, 587)\n",
      "(13828, 14381)\n",
      "(13828, 14968)\n"
     ]
    }
   ],
   "source": [
    "def extract_text_features(method, df_train_test):\n",
    "    \n",
    "    # Create the corpus using the training and test data\n",
    "    description = df_train_test['description']\n",
    "    corpus = list(description)\n",
    "    vectorizer = CountVectorizer()\n",
    "    corpus = vectorizer.fit_transform(corpus)\n",
    "    features = vectorizer.get_feature_names_out()\n",
    "    \n",
    "    # Create a simple bag of words\n",
    "    if method == 'BOG':\n",
    "        sequences = list(description)\n",
    "        sequences = vectorizer.transform(sequences).toarray()\n",
    "        word_features = pd.DataFrame(sequences, columns=features, index=df_train_test.index)\n",
    "        print(df_train_test.shape)\n",
    "        print(word_features.shape)\n",
    "        df_with_text = pd.concat([df_train_test, word_features], axis=1)\n",
    "        return df_with_text\n",
    "\n",
    "\n",
    "df_train_test = extract_text_features('BOG', df_train_test)\n",
    "print(df_train_test.shape)\n"
   ]
  },
  {
   "cell_type": "code",
   "execution_count": null,
   "id": "2417b3fb",
   "metadata": {},
   "outputs": [
    {
     "name": "stdout",
     "output_type": "stream",
     "text": [
      "(13828, 14968)\n"
     ]
    },
    {
     "name": "stderr",
     "output_type": "stream",
     "text": [
      " 64%|████████████████████████████████████████████████████████████████▌                                    | 5671/8873 [07:14<03:36, 14.81it/s]"
     ]
    }
   ],
   "source": [
    "def image_text_features(method, df_train_test):\n",
    "    \n",
    "    '''\n",
    "    Setup image features.\n",
    "    '''\n",
    "    IMAGE_HEIGHT = 16\n",
    "    IMAGE_WIDTH = 16\n",
    "    indexes = list(range(len(df_train_test)))\n",
    "    image_features = ['pixel{}'.format(num) for num in range(IMAGE_HEIGHT*IMAGE_WIDTH)]\n",
    "    image_features_df = pd.DataFrame(0, index=indexes, columns=image_features)\n",
    "    image_features_df.index = df_train_test.index\n",
    "    \n",
    "    images = os.listdir(IMAGE_FOLDER)\n",
    "    for i in tqdm(range(len(images))):\n",
    "        image_file = images[i]\n",
    "        image_id = image_file.split('.')[0]\n",
    "        if method == 'EDGE':\n",
    "            image = imread('{}/{}'.format(IMAGE_FOLDER, image_file), as_gray=True)\n",
    "            height, width = image.shape\n",
    "            if height*width > 96*96: continue\n",
    "            image = resize(image, (IMAGE_HEIGHT, IMAGE_WIDTH))\n",
    "\n",
    "            edge_sobel = sobel(image)\n",
    "            edge_sobel = edge_sobel.reshape((-1, IMAGE_HEIGHT*IMAGE_WIDTH))\n",
    "            image_features_df.loc[image_id,:] = edge_sobel.tolist()[0]\n",
    "    \n",
    "    return df_train_test.join(image_features_df, how='left')    \n",
    "\n",
    "print(df_train_test.shape)\n",
    "df_train_test = image_text_features('EDGE', df_train_test)\n",
    "print(df_train_test.shape)\n"
   ]
  },
  {
   "cell_type": "code",
   "execution_count": null,
   "id": "595a31d5",
   "metadata": {},
   "outputs": [],
   "source": [
    "# TODO: Write to new csv for model training"
   ]
  }
 ],
 "metadata": {
  "kernelspec": {
   "display_name": "Python 3 (ipykernel)",
   "language": "python",
   "name": "python3"
  },
  "language_info": {
   "codemirror_mode": {
    "name": "ipython",
    "version": 3
   },
   "file_extension": ".py",
   "mimetype": "text/x-python",
   "name": "python",
   "nbconvert_exporter": "python",
   "pygments_lexer": "ipython3",
   "version": "3.8.10"
  }
 },
 "nbformat": 4,
 "nbformat_minor": 5
}
