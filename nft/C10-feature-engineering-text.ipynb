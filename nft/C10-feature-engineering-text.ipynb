{
 "cells": [
  {
   "cell_type": "code",
   "execution_count": 10,
   "id": "09539b93",
   "metadata": {},
   "outputs": [],
   "source": [
    "import pandas as pd\n",
    "import numpy as np\n",
    "from sklearn.feature_extraction.text import CountVectorizer\n",
    "from sklearn.decomposition import LatentDirichletAllocation\n",
    "\n",
    "# Read data\n",
    "\n",
    "XYtr = pd.read_csv('data/XYtr.csv')\n",
    "Xte = pd.read_csv('data/Xte.csv')"
   ]
  },
  {
   "cell_type": "code",
   "execution_count": 20,
   "id": "a7022d12",
   "metadata": {},
   "outputs": [
    {
     "data": {
      "text/plain": [
       "LatentDirichletAllocation()"
      ]
     },
     "execution_count": 20,
     "metadata": {},
     "output_type": "execute_result"
    }
   ],
   "source": [
    "# Make corpus and vocab\n",
    "\n",
    "K = 10\n",
    "XYtr['description'] = XYtr['description'].fillna(\"NAN\")\n",
    "Xte['description'] = Xte['description'].fillna(\"NAN\")\n",
    "corpus = list(XYtr['description'])+list(Xte['description'])\n",
    "vectorizer = CountVectorizer()\n",
    "corpus = vectorizer.fit_transform(corpus)\n",
    "lda = LatentDirichletAllocation(n_components = K)\n",
    "lda.fit(corpus)"
   ]
  },
  {
   "cell_type": "code",
   "execution_count": 21,
   "id": "1532c3c9",
   "metadata": {},
   "outputs": [],
   "source": [
    "topics = lda.transform(corpus)"
   ]
  },
  {
   "cell_type": "code",
   "execution_count": 22,
   "id": "ef00e0e1",
   "metadata": {},
   "outputs": [],
   "source": [
    "N = XYtr.shape[0]"
   ]
  },
  {
   "cell_type": "code",
   "execution_count": 23,
   "id": "62fd53db",
   "metadata": {},
   "outputs": [],
   "source": [
    "fp = open('data/XYtr_ft.csv', 'w')\n",
    "fp.write('id')\n",
    "for k in range(K):\n",
    "    fp.write(',FT%04d' % k)\n",
    "\n",
    "fp.write('\\n')\n",
    "for i in range(N):\n",
    "    id = XYtr.loc[i,'id']\n",
    "    fp.write('%s' % id)\n",
    "    for k in range(K):\n",
    "        fp.write(',%f' % topics[i, k])\n",
    "    \n",
    "    fp.write('\\n')\n",
    "\n",
    "fp.close()    \n",
    "\n",
    "fp = open('data/Xte_ft.csv', 'w')\n",
    "fp.write('id')\n",
    "for k in range(K):\n",
    "    fp.write(',FT%04d' % k)\n",
    "\n",
    "fp.write('\\n')\n",
    "for i in range(N):\n",
    "    id = Xte.loc[i,'id']\n",
    "    fp.write('%s' % id)\n",
    "    for k in range(K):\n",
    "        fp.write(',%f' % topics[i + N, k])\n",
    "    \n",
    "    fp.write('\\n')\n",
    "\n",
    "fp.close()    "
   ]
  },
  {
   "cell_type": "code",
   "execution_count": null,
   "id": "5e66dc86",
   "metadata": {},
   "outputs": [],
   "source": []
  }
 ],
 "metadata": {
  "kernelspec": {
   "display_name": "Python 3 (ipykernel)",
   "language": "python",
   "name": "python3"
  },
  "language_info": {
   "codemirror_mode": {
    "name": "ipython",
    "version": 3
   },
   "file_extension": ".py",
   "mimetype": "text/x-python",
   "name": "python",
   "nbconvert_exporter": "python",
   "pygments_lexer": "ipython3",
   "version": "3.9.7"
  }
 },
 "nbformat": 4,
 "nbformat_minor": 5
}
