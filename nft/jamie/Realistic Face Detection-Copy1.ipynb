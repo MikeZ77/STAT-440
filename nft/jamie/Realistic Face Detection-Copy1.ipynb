{
 "cells": [
  {
   "cell_type": "code",
   "execution_count": 1,
   "id": "422d40f6",
   "metadata": {},
   "outputs": [],
   "source": [
    "import numpy as np\n",
    "import cv2\n",
    "import matplotlib.pyplot as plt\n",
    "import time \n",
    "%matplotlib inline"
   ]
  },
  {
   "cell_type": "code",
   "execution_count": 2,
   "id": "cceef764",
   "metadata": {},
   "outputs": [],
   "source": [
    "# Code based on https://github.com/informramiz/Face-Detection-OpenCV\n",
    "def convertToRGB(img):\n",
    "    return cv2.cvtColor(img, cv2.COLOR_BGR2RGB)\n"
   ]
  },
  {
   "cell_type": "code",
   "execution_count": 31,
   "id": "6364c240",
   "metadata": {},
   "outputs": [],
   "source": [
    "# lbp_cascade_frontalface.xml from https://github.com/informramiz/Face-Detection-OpenCV/tree/master/data\n",
    "\n",
    "lbp_face_cascade = cv2.CascadeClassifier('lbpcascade_frontalface.xml')"
   ]
  },
  {
   "cell_type": "code",
   "execution_count": 32,
   "id": "dbd62d2c",
   "metadata": {},
   "outputs": [],
   "source": []
  },
  {
   "cell_type": "code",
   "execution_count": 33,
   "id": "edf2b248",
   "metadata": {},
   "outputs": [],
   "source": [
    "test1 = cv2.imread('1a04a7f31456c4759902ad791706c9f7.png')\n",
    "test2 = cv2.imread('2c8e3c03b9f5c336edb1f9c7efd5c3c4.png')"
   ]
  },
  {
   "cell_type": "code",
   "execution_count": 37,
   "id": "c98a5bd3",
   "metadata": {},
   "outputs": [],
   "source": [
    "def detect_faces(f_cascade, colored_img, scaleFactor = 1.1):\n",
    "    img_copy = np.copy(colored_img)\n",
    "    #convert the test image to gray image as opencv face detector expects gray images\n",
    "    gray = cv2.cvtColor(img_copy, cv2.COLOR_BGR2GRAY)\n",
    "    \n",
    "    #let's detect multiscale (some images may be closer to camera than others) images\n",
    "    faces = f_cascade.detectMultiScale(gray, scaleFactor=scaleFactor);\n",
    "    \n",
    "    print('Faces found: ', len(faces))\n",
    "    \n",
    "    #go over list of faces and draw them as rectangles on original colored img\n",
    "    for (x, y, w, h) in faces:\n",
    "        cv2.rectangle(img_copy, (x, y), (x+w, y+h), (0, 255, 0), 2)\n",
    "        \n",
    "    return img_copy"
   ]
  },
  {
   "cell_type": "code",
   "execution_count": 38,
   "id": "c1e912d0",
   "metadata": {},
   "outputs": [
    {
     "name": "stdout",
     "output_type": "stream",
     "text": [
      "Faces found:  0\n"
     ]
    },
    {
     "data": {
      "text/plain": [
       "<matplotlib.image.AxesImage at 0x7ff30ce93be0>"
      ]
     },
     "execution_count": 38,
     "metadata": {},
     "output_type": "execute_result"
    },
    {
     "data": {
      "image/png": "[encoded data removed]",
      "text/plain": [
       "<Figure size 432x288 with 1 Axes>"
      ]
     },
     "metadata": {
      "needs_background": "light"
     },
     "output_type": "display_data"
    }
   ],
   "source": [
    "\n",
    "#call our function to detect faces\n",
    "faces_detected_img = detect_faces(lbp_face_cascade, test1, scaleFactor=1.1 )\n",
    "\n",
    "#convert image to RGB and show image\n",
    "plt.imshow(convertToRGB(faces_detected_img))"
   ]
  },
  {
   "cell_type": "code",
   "execution_count": 39,
   "id": "72fb0b2f",
   "metadata": {},
   "outputs": [
    {
     "name": "stdout",
     "output_type": "stream",
     "text": [
      "Faces found:  0\n"
     ]
    },
    {
     "data": {
      "text/plain": [
       "<matplotlib.image.AxesImage at 0x7ff30cf52700>"
      ]
     },
     "execution_count": 39,
     "metadata": {},
     "output_type": "execute_result"
    },
    {
     "data": {
      "image/png": "[encoded data removed]",
      "text/plain": [
       "<Figure size 432x288 with 1 Axes>"
      ]
     },
     "metadata": {
      "needs_background": "light"
     },
     "output_type": "display_data"
    }
   ],
   "source": [
    "#call our function to detect faces\n",
    "faces_detected_img = detect_faces(lbp_face_cascade, test2)\n",
    "\n",
    "#convert image to RGB and show image\n",
    "plt.imshow(convertToRGB(faces_detected_img))"
   ]
  },
  {
   "cell_type": "code",
   "execution_count": null,
   "id": "208ff7c8",
   "metadata": {},
   "outputs": [],
   "source": []
  }
 ],
 "metadata": {
  "kernelspec": {
   "display_name": "Python 3 (ipykernel)",
   "language": "python",
   "name": "python3"
  },
  "language_info": {
   "codemirror_mode": {
    "name": "ipython",
    "version": 3
   },
   "file_extension": ".py",
   "mimetype": "text/x-python",
   "name": "python",
   "nbconvert_exporter": "python",
   "pygments_lexer": "ipython3",
   "version": "3.9.7"
  }
 },
 "nbformat": 4,
 "nbformat_minor": 5
}
