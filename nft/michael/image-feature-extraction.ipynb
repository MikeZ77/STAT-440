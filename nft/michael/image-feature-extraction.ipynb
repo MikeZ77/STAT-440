{
 "cells": [
  {
   "cell_type": "code",
   "execution_count": 27,
   "id": "9aca0deb",
   "metadata": {},
   "outputs": [],
   "source": [
    "import pandas as pd\n",
    "import numpy as np\n",
    "from skimage.io import imread, imshow\n",
    "from skimage.color import rgba2rgb\n",
    "from skimage.transform import resize\n",
    "import os\n",
    "import matplotlib.pyplot as plt\n",
    "%matplotlib inline\n",
    "\n",
    "'''\n",
    "This notebook is for exploring different image feature extraction techniques.\n",
    "'''\n",
    "IMAGE_FOLDER = '../data/images/images'"
   ]
  },
  {
   "cell_type": "code",
   "execution_count": 41,
   "id": "afc3eafa",
   "metadata": {},
   "outputs": [
    {
     "data": {
      "text/html": [
       "<div>\n",
       "<style scoped>\n",
       "    .dataframe tbody tr th:only-of-type {\n",
       "        vertical-align: middle;\n",
       "    }\n",
       "\n",
       "    .dataframe tbody tr th {\n",
       "        vertical-align: top;\n",
       "    }\n",
       "\n",
       "    .dataframe thead th {\n",
       "        text-align: right;\n",
       "    }\n",
       "</style>\n",
       "<table border=\"1\" class=\"dataframe\">\n",
       "  <thead>\n",
       "    <tr style=\"text-align: right;\">\n",
       "      <th></th>\n",
       "      <th>height</th>\n",
       "      <th>width</th>\n",
       "      <th>channels</th>\n",
       "    </tr>\n",
       "  </thead>\n",
       "  <tbody>\n",
       "    <tr>\n",
       "      <th>count</th>\n",
       "      <td>8873.000000</td>\n",
       "      <td>8873.000000</td>\n",
       "      <td>8873.000000</td>\n",
       "    </tr>\n",
       "    <tr>\n",
       "      <th>mean</th>\n",
       "      <td>26.235321</td>\n",
       "      <td>25.549532</td>\n",
       "      <td>3.597205</td>\n",
       "    </tr>\n",
       "    <tr>\n",
       "      <th>std</th>\n",
       "      <td>205.717365</td>\n",
       "      <td>203.828911</td>\n",
       "      <td>0.975027</td>\n",
       "    </tr>\n",
       "    <tr>\n",
       "      <th>min</th>\n",
       "      <td>4.000000</td>\n",
       "      <td>15.000000</td>\n",
       "      <td>0.000000</td>\n",
       "    </tr>\n",
       "    <tr>\n",
       "      <th>25%</th>\n",
       "      <td>15.000000</td>\n",
       "      <td>15.000000</td>\n",
       "      <td>4.000000</td>\n",
       "    </tr>\n",
       "    <tr>\n",
       "      <th>50%</th>\n",
       "      <td>15.000000</td>\n",
       "      <td>15.000000</td>\n",
       "      <td>4.000000</td>\n",
       "    </tr>\n",
       "    <tr>\n",
       "      <th>75%</th>\n",
       "      <td>15.000000</td>\n",
       "      <td>15.000000</td>\n",
       "      <td>4.000000</td>\n",
       "    </tr>\n",
       "    <tr>\n",
       "      <th>max</th>\n",
       "      <td>7200.000000</td>\n",
       "      <td>6810.000000</td>\n",
       "      <td>4.000000</td>\n",
       "    </tr>\n",
       "  </tbody>\n",
       "</table>\n",
       "</div>"
      ],
      "text/plain": [
       "            height        width     channels\n",
       "count  8873.000000  8873.000000  8873.000000\n",
       "mean     26.235321    25.549532     3.597205\n",
       "std     205.717365   203.828911     0.975027\n",
       "min       4.000000    15.000000     0.000000\n",
       "25%      15.000000    15.000000     4.000000\n",
       "50%      15.000000    15.000000     4.000000\n",
       "75%      15.000000    15.000000     4.000000\n",
       "max    7200.000000  6810.000000     4.000000"
      ]
     },
     "execution_count": 41,
     "metadata": {},
     "output_type": "execute_result"
    }
   ],
   "source": [
    "'''\n",
    "Iterate through the images to get their size. \n",
    "'''\n",
    "images = os.listdir(IMAGE_FOLDER)\n",
    "image_sizes = []\n",
    "for image_file in images:\n",
    "    image = imread('{}/{}'.format(IMAGE_FOLDER, image_file))\n",
    "    if len(image.shape) == 2:\n",
    "        width, height = image.shape\n",
    "        shape = (width, height, 0)\n",
    "    else:\n",
    "        shape = image.shape\n",
    "    width, height, channels = shape\n",
    "    image_sizes.append([width, height, channels])\n",
    "\n",
    "image_df = pd.DataFrame(image_sizes, columns=['height', 'width', 'channels'])\n",
    "image_df.describe()"
   ]
  },
  {
   "cell_type": "code",
   "execution_count": 46,
   "id": "4cdab89a",
   "metadata": {},
   "outputs": [
    {
     "name": "stdout",
     "output_type": "stream",
     "text": [
      "0.05916826327059619\n"
     ]
    }
   ],
   "source": [
    "'''\n",
    "Most of the images are 4 channel (RGBA). No important difference between RGB and RGBA.\n",
    "Indicator variable colored = 1/0  could be relevent to price.\n",
    "'''\n",
    "\n",
    "num_greyscale = len(image_df[image_df.channels == 0])\n",
    "print(num_greyscale/len(image_df))"
   ]
  },
  {
   "cell_type": "code",
   "execution_count": 47,
   "id": "856d5b97",
   "metadata": {},
   "outputs": [
    {
     "name": "stdout",
     "output_type": "stream",
     "text": [
      "(14, 15, 3)\n",
      "(14, 15, 3)\n"
     ]
    },
    {
     "data": {
      "text/plain": [
       "<matplotlib.image.AxesImage at 0x7f1887b2dbb0>"
      ]
     },
     "execution_count": 47,
     "metadata": {},
     "output_type": "execute_result"
    },
    {
     "data": {
      "image/png": "[encoded data removed]",
      "text/plain": [
       "<Figure size 432x288 with 1 Axes>"
      ]
     },
     "metadata": {
      "needs_background": "light"
     },
     "output_type": "display_data"
    }
   ],
   "source": [
    "sample_image = 'ffc14dfa2038d68cf4f67ad39906addd.gif'\n",
    "image = imread('{}/{}'.format(IMAGE_FOLDER, sample_image))\n",
    "image = rgba2rgb(image)\n",
    "print(image.shape)\n",
    "testimage = resize(image, (15, 15))\n",
    "print(image.shape)\n",
    "\n",
    "imshow(image)"
   ]
  },
  {
   "cell_type": "code",
   "execution_count": 48,
   "id": "c96f7fbb",
   "metadata": {},
   "outputs": [],
   "source": [
    "width, height, channels = image.shape\n",
    "mean_pixel_matrix = np.zeros((width, height))\n",
    "\n",
    "for w in range(width):\n",
    "    for h in range(height):\n",
    "        mean_pixel_matrix[w][h] = (image[w][h][0] + image[w][h][1] + image[w][h][2])/channels\n",
    "\n",
    "mean_pixel_matrix = mean_pixel_matrix.reshape(width * height, -1)\n"
   ]
  },
  {
   "cell_type": "code",
   "execution_count": null,
   "id": "dd0cb1c9",
   "metadata": {},
   "outputs": [],
   "source": []
  }
 ],
 "metadata": {
  "kernelspec": {
   "display_name": "Python 3 (ipykernel)",
   "language": "python",
   "name": "python3"
  },
  "language_info": {
   "codemirror_mode": {
    "name": "ipython",
    "version": 3
   },
   "file_extension": ".py",
   "mimetype": "text/x-python",
   "name": "python",
   "nbconvert_exporter": "python",
   "pygments_lexer": "ipython3",
   "version": "3.8.10"
  }
 },
 "nbformat": 4,
 "nbformat_minor": 5
}
