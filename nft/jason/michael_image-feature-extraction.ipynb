{
 "cells": [
  {
   "cell_type": "code",
   "execution_count": 52,
   "id": "9aca0deb",
   "metadata": {},
   "outputs": [],
   "source": [
    "import pandas as pd\n",
    "import numpy as np\n",
    "from skimage.io import imread, imshow\n",
    "from skimage.color import rgba2rgb\n",
    "from skimage.transform import resize\n",
    "from skimage.filters import sobel\n",
    "import os\n",
    "import matplotlib.pyplot as plt\n",
    "%matplotlib inline\n",
    "\n",
    "'''\n",
    "This notebook is for exploring different image feature extraction techniques.\n",
    "'''\n",
    "IMAGE_FOLDER = '../data/images/images'"
   ]
  },
  {
   "cell_type": "code",
   "execution_count": 3,
   "id": "afc3eafa",
   "metadata": {},
   "outputs": [
    {
     "data": {
      "text/html": [
       "<div>\n",
       "<style scoped>\n",
       "    .dataframe tbody tr th:only-of-type {\n",
       "        vertical-align: middle;\n",
       "    }\n",
       "\n",
       "    .dataframe tbody tr th {\n",
       "        vertical-align: top;\n",
       "    }\n",
       "\n",
       "    .dataframe thead th {\n",
       "        text-align: right;\n",
       "    }\n",
       "</style>\n",
       "<table border=\"1\" class=\"dataframe\">\n",
       "  <thead>\n",
       "    <tr style=\"text-align: right;\">\n",
       "      <th></th>\n",
       "      <th>height</th>\n",
       "      <th>width</th>\n",
       "      <th>channels</th>\n",
       "    </tr>\n",
       "  </thead>\n",
       "  <tbody>\n",
       "    <tr>\n",
       "      <th>count</th>\n",
       "      <td>8873.000000</td>\n",
       "      <td>8873.000000</td>\n",
       "      <td>8873.000000</td>\n",
       "    </tr>\n",
       "    <tr>\n",
       "      <th>mean</th>\n",
       "      <td>26.235321</td>\n",
       "      <td>25.549532</td>\n",
       "      <td>3.597205</td>\n",
       "    </tr>\n",
       "    <tr>\n",
       "      <th>std</th>\n",
       "      <td>205.717365</td>\n",
       "      <td>203.828911</td>\n",
       "      <td>0.975027</td>\n",
       "    </tr>\n",
       "    <tr>\n",
       "      <th>min</th>\n",
       "      <td>4.000000</td>\n",
       "      <td>15.000000</td>\n",
       "      <td>0.000000</td>\n",
       "    </tr>\n",
       "    <tr>\n",
       "      <th>25%</th>\n",
       "      <td>15.000000</td>\n",
       "      <td>15.000000</td>\n",
       "      <td>4.000000</td>\n",
       "    </tr>\n",
       "    <tr>\n",
       "      <th>50%</th>\n",
       "      <td>15.000000</td>\n",
       "      <td>15.000000</td>\n",
       "      <td>4.000000</td>\n",
       "    </tr>\n",
       "    <tr>\n",
       "      <th>75%</th>\n",
       "      <td>15.000000</td>\n",
       "      <td>15.000000</td>\n",
       "      <td>4.000000</td>\n",
       "    </tr>\n",
       "    <tr>\n",
       "      <th>max</th>\n",
       "      <td>7200.000000</td>\n",
       "      <td>6810.000000</td>\n",
       "      <td>4.000000</td>\n",
       "    </tr>\n",
       "  </tbody>\n",
       "</table>\n",
       "</div>"
      ],
      "text/plain": [
       "            height        width     channels\n",
       "count  8873.000000  8873.000000  8873.000000\n",
       "mean     26.235321    25.549532     3.597205\n",
       "std     205.717365   203.828911     0.975027\n",
       "min       4.000000    15.000000     0.000000\n",
       "25%      15.000000    15.000000     4.000000\n",
       "50%      15.000000    15.000000     4.000000\n",
       "75%      15.000000    15.000000     4.000000\n",
       "max    7200.000000  6810.000000     4.000000"
      ]
     },
     "execution_count": 3,
     "metadata": {},
     "output_type": "execute_result"
    }
   ],
   "source": [
    "'''\n",
    "Iterate through the images to get their size. \n",
    "'''\n",
    "images = os.listdir(IMAGE_FOLDER)\n",
    "image_sizes = []\n",
    "for image_file in images:\n",
    "    image = imread('{}/{}'.format(IMAGE_FOLDER, image_file))\n",
    "    if len(image.shape) == 2:\n",
    "        height, width  = image.shape\n",
    "        shape = (height, width, 0)\n",
    "    else:\n",
    "        shape = image.shape\n",
    "    height, width, channels = shape\n",
    "    image_sizes.append([height, width, channels])\n",
    "\n",
    "image_df = pd.DataFrame(image_sizes, columns=['height', 'width', 'channels'])\n",
    "image_df.describe()"
   ]
  },
  {
   "cell_type": "code",
   "execution_count": 36,
   "id": "4cdab89a",
   "metadata": {},
   "outputs": [
    {
     "name": "stdout",
     "output_type": "stream",
     "text": [
      "Percentage of greyscale: 0.05916826327059619\n",
      "Number fo large images: 44\n"
     ]
    }
   ],
   "source": [
    "'''\n",
    "Most of the images are 4 channel (RGBA). No important difference between RGB and RGBA.\n",
    "Indicator variable colored = 1/0  could be relevent to price.\n",
    "'''\n",
    "\n",
    "num_greyscale = len(image_df[image_df.channels == 0])\n",
    "print('Percentage of greyscale: {}'.format(num_greyscale/len(image_df)))\n",
    "\n",
    "large_images = len(image_df[(image_df.height > 200)|(image_df.width > 200)])\n",
    "print('Number fo large images: {}'.format(large_images))"
   ]
  },
  {
   "cell_type": "code",
   "execution_count": 38,
   "id": "7fdb6625",
   "metadata": {},
   "outputs": [
    {
     "data": {
      "image/png": "[encoded data removed]",
      "text/plain": [
       "<Figure size 432x288 with 1 Axes>"
      ]
     },
     "metadata": {
      "needs_background": "light"
     },
     "output_type": "display_data"
    }
   ],
   "source": [
    "plt.hist(image_df['height'].to_numpy(), bins=6000, alpha=0.5, label='height', density=True)\n",
    "plt.hist(image_df['width'].to_numpy(), bins=6000, alpha=0.5, label='width', density=True)\n",
    "plt.legend(loc='upper right')\n",
    "plt.xlim([0, 50])\n",
    "plt.show()"
   ]
  },
  {
   "cell_type": "code",
   "execution_count": 39,
   "id": "856d5b97",
   "metadata": {},
   "outputs": [
    {
     "name": "stdout",
     "output_type": "stream",
     "text": [
      "(14, 15, 3)\n",
      "(14, 15, 3)\n"
     ]
    },
    {
     "data": {
      "text/plain": [
       "<matplotlib.image.AxesImage at 0x7f3c62cd83a0>"
      ]
     },
     "execution_count": 39,
     "metadata": {},
     "output_type": "execute_result"
    },
    {
     "data": {
      "image/png": "[encoded data removed]",
      "text/plain": [
       "<Figure size 432x288 with 1 Axes>"
      ]
     },
     "metadata": {
      "needs_background": "light"
     },
     "output_type": "display_data"
    }
   ],
   "source": [
    "sample_image = 'ffc14dfa2038d68cf4f67ad39906addd.gif'\n",
    "image = imread('{}/{}'.format(IMAGE_FOLDER, sample_image))\n",
    "image = rgba2rgb(image)\n",
    "print(image.shape)\n",
    "testimage = resize(image, (15, 15))\n",
    "print(image.shape)\n",
    "\n",
    "imshow(image)"
   ]
  },
  {
   "cell_type": "code",
   "execution_count": 40,
   "id": "c96f7fbb",
   "metadata": {},
   "outputs": [],
   "source": [
    "'''\n",
    "FEATURE EXTRACTION: Mean RGB Value\n",
    "'''\n",
    "\n",
    "height, width, channels = image.shape\n",
    "mean_pixel_matrix = np.zeros((height, width))\n",
    "\n",
    "for h in range(height):\n",
    "    for w in range(width):\n",
    "        mean_pixel_matrix[h][w] = (image[h][w][0] + image[h][w][1] + image[h][w][2])/channels\n",
    "\n",
    "mean_pixel_matrix = mean_pixel_matrix.reshape(height * width, -1)\n"
   ]
  },
  {
   "cell_type": "code",
   "execution_count": 54,
   "id": "dd0cb1c9",
   "metadata": {},
   "outputs": [
    {
     "data": {
      "image/png": "[encoded data removed]",
      "text/plain": [
       "<Figure size 576x288 with 2 Axes>"
      ]
     },
     "metadata": {
      "needs_background": "light"
     },
     "output_type": "display_data"
    }
   ],
   "source": [
    "'''\n",
    "FEATURE EXTRACTION: Edges (Sobel edge detection)\n",
    "'''\n",
    "\n",
    "# Find an image we can use that has more distinguishable edges\n",
    "sample_image = 'fec874e713388b45ef26c4373aba16a5.jpg'\n",
    "image = imread('{}/{}'.format(IMAGE_FOLDER, sample_image), as_gray=True)\n",
    "\n",
    "edge_sobel = sobel(image)\n",
    "\n",
    "fig, axes = plt.subplots(ncols=2, sharex=True, sharey=True, figsize=(8, 4))\n",
    "axes[0].imshow(image, cmap=plt.cm.gray)\n",
    "axes[0].set_title('Original')\n",
    "\n",
    "axes[1].imshow(edge_sobel, cmap=plt.cm.gray)\n",
    "axes[1].set_title('Sobel Edge Detection')\n",
    "\n",
    "for ax in axes:\n",
    "    ax.axis('off')\n",
    "\n",
    "plt.tight_layout()\n",
    "plt.show()"
   ]
  },
  {
   "cell_type": "code",
   "execution_count": null,
   "id": "4c8eba78",
   "metadata": {},
   "outputs": [],
   "source": [
    "'''\n",
    "TODO: Object detection (Feature: count objects)\n",
    "'''"
   ]
  }
 ],
 "metadata": {
  "kernelspec": {
   "display_name": "Python 3 (ipykernel)",
   "language": "python",
   "name": "python3"
  },
  "language_info": {
   "codemirror_mode": {
    "name": "ipython",
    "version": 3
   },
   "file_extension": ".py",
   "mimetype": "text/x-python",
   "name": "python",
   "nbconvert_exporter": "python",
   "pygments_lexer": "ipython3",
   "version": "3.9.5"
  }
 },
 "nbformat": 4,
 "nbformat_minor": 5
}
