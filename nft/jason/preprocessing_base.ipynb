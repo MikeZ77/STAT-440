{
 "cells": [
  {
   "cell_type": "code",
   "execution_count": 1,
   "id": "220b173d",
   "metadata": {},
   "outputs": [],
   "source": [
    "import pandas as pd\n",
    "import numpy as np"
   ]
  },
  {
   "cell_type": "markdown",
   "id": "0b1d9438",
   "metadata": {},
   "source": [
    "### Read in training & test data"
   ]
  },
  {
   "cell_type": "code",
   "execution_count": 2,
   "id": "51b50add",
   "metadata": {},
   "outputs": [
    {
     "name": "stdout",
     "output_type": "stream",
     "text": [
      "<class 'pandas.core.frame.DataFrame'>\n",
      "RangeIndex: 6914 entries, 0 to 6913\n",
      "Data columns (total 10 columns):\n",
      " #   Column       Non-Null Count  Dtype  \n",
      "---  ------       --------------  -----  \n",
      " 0   id           6914 non-null   object \n",
      " 1   X.sales      6914 non-null   int64  \n",
      " 2   cdate        6914 non-null   object \n",
      " 3   description  6512 non-null   object \n",
      " 4   version      6746 non-null   object \n",
      " 5   symbol       5555 non-null   object \n",
      " 6   ext          6914 non-null   object \n",
      " 7   fee1         6696 non-null   float64\n",
      " 8   fee2         6705 non-null   float64\n",
      " 9   total        6914 non-null   float64\n",
      "dtypes: float64(3), int64(1), object(6)\n",
      "memory usage: 540.3+ KB\n",
      "None\n",
      "\n",
      "<class 'pandas.core.frame.DataFrame'>\n",
      "RangeIndex: 6914 entries, 0 to 6913\n",
      "Data columns (total 9 columns):\n",
      " #   Column       Non-Null Count  Dtype  \n",
      "---  ------       --------------  -----  \n",
      " 0   id           6914 non-null   object \n",
      " 1   X.sales      6914 non-null   int64  \n",
      " 2   cdate        6914 non-null   object \n",
      " 3   description  6537 non-null   object \n",
      " 4   version      6760 non-null   object \n",
      " 5   symbol       5532 non-null   object \n",
      " 6   ext          6914 non-null   object \n",
      " 7   fee1         6630 non-null   float64\n",
      " 8   fee2         6638 non-null   float64\n",
      "dtypes: float64(2), int64(1), object(6)\n",
      "memory usage: 486.3+ KB\n",
      "None\n"
     ]
    }
   ],
   "source": [
    "# Load CSV to Dataframe\n",
    "PATH = 'data/'\n",
    "FILE_train = 'XYtr.csv'\n",
    "FILE_test = 'Xte.csv'\n",
    "\n",
    "raw_train = pd.read_csv(PATH + FILE_train)\n",
    "raw_test = pd.read_csv(PATH + FILE_test)\n",
    "\n",
    "# Description, version, symbol, fee1, and fee2 have missing values (NaN)\n",
    "print(raw_train.info())\n",
    "print()\n",
    "print(raw_test.info())"
   ]
  },
  {
   "cell_type": "markdown",
   "id": "116a8809",
   "metadata": {},
   "source": [
    "### size of the dataframe"
   ]
  },
  {
   "cell_type": "code",
   "execution_count": 3,
   "id": "94119985",
   "metadata": {},
   "outputs": [
    {
     "name": "stdout",
     "output_type": "stream",
     "text": [
      "raw_train shape:  (6914, 10)\n",
      "raw_test shape:  (6914, 9)\n"
     ]
    }
   ],
   "source": [
    "print('raw_train shape: ', raw_train.shape)\n",
    "print('raw_test shape: ', raw_test.shape)"
   ]
  },
  {
   "cell_type": "markdown",
   "id": "1b4b28ea",
   "metadata": {},
   "source": [
    "### description"
   ]
  },
  {
   "cell_type": "code",
   "execution_count": 4,
   "id": "97dcb4f5",
   "metadata": {},
   "outputs": [
    {
     "name": "stdout",
     "output_type": "stream",
     "text": [
      "raw_train description missing values:  402\n",
      "raw_test description missing values:  377\n"
     ]
    }
   ],
   "source": [
    "print('raw_train description missing values: ', raw_train['description'].isnull().sum())\n",
    "print('raw_test description missing values: ', raw_test['description'].isnull().sum())"
   ]
  },
  {
   "cell_type": "markdown",
   "id": "815f30bc",
   "metadata": {},
   "source": [
    "### version"
   ]
  },
  {
   "cell_type": "code",
   "execution_count": 5,
   "id": "06e94f6f",
   "metadata": {},
   "outputs": [
    {
     "name": "stdout",
     "output_type": "stream",
     "text": [
      "raw_train version:  ['3' 'None' 'unsupported' '4' nan '1' '2']\n",
      "raw_test version:  ['3' '4' 'None' nan 'unsupported' '1' '2']\n"
     ]
    }
   ],
   "source": [
    "print('raw_train version: ', raw_train['version'].unique())\n",
    "print('raw_test version: ', raw_test['version'].unique())"
   ]
  },
  {
   "cell_type": "code",
   "execution_count": 6,
   "id": "3be90418",
   "metadata": {},
   "outputs": [
    {
     "name": "stdout",
     "output_type": "stream",
     "text": [
      "raw_train version missing values:  168\n",
      "raw_test version missing values:  154\n"
     ]
    }
   ],
   "source": [
    "print('raw_train version missing values: ', raw_train['version'].isnull().sum())\n",
    "print('raw_test version missing values: ', raw_test['version'].isnull().sum())"
   ]
  },
  {
   "cell_type": "markdown",
   "id": "18f83f6f",
   "metadata": {},
   "source": [
    "### symbol"
   ]
  },
  {
   "cell_type": "code",
   "execution_count": 7,
   "id": "54f9f965",
   "metadata": {},
   "outputs": [
    {
     "name": "stdout",
     "output_type": "stream",
     "text": [
      "raw_train symbol:  417\n",
      "raw_test symbol:  415\n"
     ]
    }
   ],
   "source": [
    "print('raw_train symbol: ', raw_train['symbol'].nunique())\n",
    "print('raw_test symbol: ', raw_test['symbol'].nunique())"
   ]
  },
  {
   "cell_type": "code",
   "execution_count": 8,
   "id": "80ef3671",
   "metadata": {},
   "outputs": [
    {
     "name": "stdout",
     "output_type": "stream",
     "text": [
      "raw_train symbol missing values:  1359\n",
      "raw_test symbol missing values:  1382\n"
     ]
    }
   ],
   "source": [
    "print('raw_train symbol missing values: ', raw_train['symbol'].isnull().sum())\n",
    "print('raw_test symbol missing values: ', raw_test['symbol'].isnull().sum())"
   ]
  },
  {
   "cell_type": "markdown",
   "id": "94edac07",
   "metadata": {},
   "source": [
    "### ext"
   ]
  },
  {
   "cell_type": "code",
   "execution_count": 9,
   "id": "2daa8759",
   "metadata": {},
   "outputs": [
    {
     "name": "stdout",
     "output_type": "stream",
     "text": [
      "raw_train ext:  ['.png' '.jpg' '.gif']\n",
      "raw_test ext:  ['.png' '.gif' '.jpg']\n"
     ]
    }
   ],
   "source": [
    "print('raw_train ext: ', raw_train['ext'].unique())\n",
    "print('raw_test ext: ', raw_test['ext'].unique())"
   ]
  },
  {
   "cell_type": "markdown",
   "id": "8bb84d40",
   "metadata": {},
   "source": [
    "### fee1"
   ]
  },
  {
   "cell_type": "code",
   "execution_count": 10,
   "id": "2a2c59e1",
   "metadata": {},
   "outputs": [
    {
     "name": "stdout",
     "output_type": "stream",
     "text": [
      "raw_train fee1 missing values:  218\n",
      "raw_test fee1 missing values:  284\n"
     ]
    }
   ],
   "source": [
    "print('raw_train fee1 missing values: ', raw_train['fee1'].isnull().sum())\n",
    "print('raw_test fee1 missing values: ', raw_test['fee1'].isnull().sum())"
   ]
  },
  {
   "cell_type": "markdown",
   "id": "14d5bfdd",
   "metadata": {},
   "source": [
    "### fee2"
   ]
  },
  {
   "cell_type": "code",
   "execution_count": 11,
   "id": "8ec3e444",
   "metadata": {},
   "outputs": [
    {
     "name": "stdout",
     "output_type": "stream",
     "text": [
      "raw_train fee2 missing values:  209\n",
      "raw_test fee2 missing values:  276\n"
     ]
    }
   ],
   "source": [
    "print('raw_train fee2 missing values: ', raw_train['fee2'].isnull().sum())\n",
    "print('raw_test fee2 missing values: ', raw_test['fee2'].isnull().sum())"
   ]
  },
  {
   "cell_type": "code",
   "execution_count": 12,
   "id": "0518aa62",
   "metadata": {},
   "outputs": [],
   "source": [
    "train_clean = raw_train.copy()\n",
    "test_clean = raw_test.copy()"
   ]
  },
  {
   "cell_type": "markdown",
   "id": "da8a0be8",
   "metadata": {},
   "source": [
    "### Data Cleaning for training"
   ]
  },
  {
   "cell_type": "code",
   "execution_count": 13,
   "id": "1920f532",
   "metadata": {},
   "outputs": [
    {
     "name": "stdout",
     "output_type": "stream",
     "text": [
      "<class 'pandas.core.frame.DataFrame'>\n",
      "RangeIndex: 6914 entries, 0 to 6913\n",
      "Data columns (total 10 columns):\n",
      " #   Column       Non-Null Count  Dtype  \n",
      "---  ------       --------------  -----  \n",
      " 0   id           6914 non-null   object \n",
      " 1   X.sales      6914 non-null   int64  \n",
      " 2   cdate        6914 non-null   object \n",
      " 3   description  6914 non-null   object \n",
      " 4   version      6914 non-null   object \n",
      " 5   symbol       6914 non-null   object \n",
      " 6   ext          6914 non-null   object \n",
      " 7   fee1         6914 non-null   float64\n",
      " 8   fee2         6914 non-null   float64\n",
      " 9   total        6914 non-null   float64\n",
      "dtypes: float64(3), int64(1), object(6)\n",
      "memory usage: 540.3+ KB\n",
      "None\n"
     ]
    }
   ],
   "source": [
    "# description: use the token None to mean no description\n",
    "train_clean['description'] = train_clean['description'].fillna('None')\n",
    "\n",
    "# version: Has 'None' category. Set nan to 'None'. \n",
    "#print(train_train['version'].unique())\n",
    "train_clean['version'] = train_clean['version'].fillna('None')\n",
    "\n",
    "# symbol: 5 digit symbols. Set to 00000 to represent None.\n",
    "# print(df_train['symbol'].unique())\n",
    "train_clean['symbol'] = train_clean['symbol'].fillna('00000')\n",
    "\n",
    "\n",
    "# fee1: Small number misssin. Fill with the mean.\n",
    "#df_train['fee1'] = df_train['fee1'].fillna((df_train['fee1'].mean()))\n",
    "# https://www.w3resource.com/python-exercises/pandas/missing-values/python-pandas-missing-values-exercise-14.php\n",
    "train_clean['fee1'].fillna(train_clean['fee1'].median(), inplace=True)\n",
    "                                           \n",
    "# fee2: Small number misssin. Fill with the mean.\n",
    "#df_train['fee2'] = df_train['fee2'].fillna((df_train['fee2'].mean()))\n",
    "train_clean['fee2'].fillna(train_clean['fee2'].median(), inplace=True)\n",
    "\n",
    "\n",
    "print(train_clean.info())"
   ]
  },
  {
   "cell_type": "markdown",
   "id": "41b0b1b6",
   "metadata": {},
   "source": [
    "### Data Cleaning for test"
   ]
  },
  {
   "cell_type": "code",
   "execution_count": 14,
   "id": "91c3a6bd",
   "metadata": {},
   "outputs": [
    {
     "name": "stdout",
     "output_type": "stream",
     "text": [
      "<class 'pandas.core.frame.DataFrame'>\n",
      "RangeIndex: 6914 entries, 0 to 6913\n",
      "Data columns (total 9 columns):\n",
      " #   Column       Non-Null Count  Dtype  \n",
      "---  ------       --------------  -----  \n",
      " 0   id           6914 non-null   object \n",
      " 1   X.sales      6914 non-null   int64  \n",
      " 2   cdate        6914 non-null   object \n",
      " 3   description  6914 non-null   object \n",
      " 4   version      6914 non-null   object \n",
      " 5   symbol       6914 non-null   object \n",
      " 6   ext          6914 non-null   object \n",
      " 7   fee1         6914 non-null   float64\n",
      " 8   fee2         6914 non-null   float64\n",
      "dtypes: float64(2), int64(1), object(6)\n",
      "memory usage: 486.3+ KB\n",
      "None\n"
     ]
    }
   ],
   "source": [
    "# description: use the token None to mean no description\n",
    "test_clean['description'] = test_clean['description'].fillna('None')\n",
    "\n",
    "# version: Has 'None' category. Set nan to 'None'. \n",
    "test_clean['version'] = test_clean['version'].fillna('None')\n",
    "\n",
    "# symbol: 5 digit symbols. Set to 00000 to represent None.\n",
    "test_clean['symbol'] = test_clean['symbol'].fillna('00000')\n",
    "\n",
    "# fee1: Small number misssin. Fill with the mean.\n",
    "test_clean['fee1'].fillna(test_clean['fee1'].median(), inplace=True)\n",
    "                                           \n",
    "# fee2: Small number misssin. Fill with the mean.\n",
    "test_clean['fee2'].fillna(test_clean['fee2'].median(), inplace=True)\n",
    "\n",
    "\n",
    "print(test_clean.info())"
   ]
  },
  {
   "cell_type": "markdown",
   "id": "50fb0bce",
   "metadata": {},
   "source": [
    "### Data preprocessing for training & test"
   ]
  },
  {
   "cell_type": "code",
   "execution_count": 15,
   "id": "64e9b53d",
   "metadata": {},
   "outputs": [],
   "source": [
    "train_processed = train_clean.copy()\n",
    "test_processed = test_clean.copy()"
   ]
  },
  {
   "cell_type": "code",
   "execution_count": 16,
   "id": "4744a669",
   "metadata": {},
   "outputs": [],
   "source": [
    "# cdate: change dates to float\n",
    "tr_date = train_processed['cdate']\n",
    "train_processed['cdate'] = pd.to_datetime(tr_date).values.astype(np.float64)/8.64e+13\n",
    "\n",
    "te_date = test_processed['cdate']\n",
    "test_processed['cdate'] = pd.to_datetime(te_date).values.astype(np.float64)/8.64e+13"
   ]
  },
  {
   "cell_type": "code",
   "execution_count": 17,
   "id": "53c92919",
   "metadata": {},
   "outputs": [],
   "source": [
    "# obtain unique values from each dataset\n",
    "train_symbols = set(train_processed['symbol'].unique())\n",
    "test_symbols = set(test_processed['symbol'].unique())\n",
    "\n",
    "# union all the values\n",
    "# https://stackoverflow.com/questions/52976664/python-differences-between-two-lists\n",
    "# # https://www.programiz.com/python-programming/methods/set/union\n",
    "all_symbols = train_symbols.union(test_symbols)\n",
    "\n",
    "# values not included in train set\n",
    "train_required_symbols = list(all_symbols - train_symbols)\n",
    "\n",
    "# values not included in test set\n",
    "test_required_symbols = list(all_symbols - test_symbols)"
   ]
  },
  {
   "cell_type": "code",
   "execution_count": 18,
   "id": "0197e2f0",
   "metadata": {},
   "outputs": [],
   "source": [
    "# one-hot encoding on version, symbol and ext\n",
    "train_processed = pd.get_dummies(train_processed, columns = ['version', 'ext', 'symbol'], drop_first = False, prefix = ['version', 'ext', 'symbol'])\n",
    "test_processed = pd.get_dummies(test_processed, columns = ['version', 'ext', 'symbol'], drop_first = False, prefix = ['version', 'ext', 'symbol'])"
   ]
  },
  {
   "cell_type": "code",
   "execution_count": 19,
   "id": "aa528fdb",
   "metadata": {},
   "outputs": [
    {
     "name": "stderr",
     "output_type": "stream",
     "text": [
      "/home/pop21/Documents/STAT-440/nft/jason/venv/lib/python3.9/site-packages/IPython/core/interactiveshell.py:3364: PerformanceWarning: DataFrame is highly fragmented.  This is usually the result of calling `frame.insert` many times, which has poor performance.  Consider joining all columns at once using pd.concat(axis=1) instead.  To get a de-fragmented frame, use `newframe = frame.copy()`\n",
      "  if (await self.run_code(code, result,  async_=asy)):\n"
     ]
    }
   ],
   "source": [
    "for train_syms in train_required_symbols:\n",
    "    train_processed.insert(train_processed.shape[1], str('symbol_') + train_syms, 0)\n",
    "train_base = train_processed.copy()"
   ]
  },
  {
   "cell_type": "code",
   "execution_count": 20,
   "id": "cd2bbd3c",
   "metadata": {},
   "outputs": [],
   "source": [
    "for test_syms in test_required_symbols:\n",
    "    test_processed.insert(test_processed.shape[1], str('symbol_') + test_syms, 0)\n",
    "test_base = test_processed.copy()"
   ]
  },
  {
   "cell_type": "code",
   "execution_count": 21,
   "id": "2aee7ff2",
   "metadata": {},
   "outputs": [],
   "source": [
    "train_base = train_processed.copy()"
   ]
  },
  {
   "cell_type": "code",
   "execution_count": 22,
   "id": "7dc26c55",
   "metadata": {},
   "outputs": [],
   "source": [
    "test_base = test_processed.copy()"
   ]
  },
  {
   "cell_type": "code",
   "execution_count": null,
   "id": "c1a51747",
   "metadata": {},
   "outputs": [],
   "source": []
  },
  {
   "cell_type": "code",
   "execution_count": null,
   "id": "5501de3a",
   "metadata": {},
   "outputs": [],
   "source": [
    "# TODO: text feature extraction"
   ]
  },
  {
   "cell_type": "code",
   "execution_count": null,
   "id": "2417b3fb",
   "metadata": {},
   "outputs": [],
   "source": [
    "# TODO: image feature extraction"
   ]
  },
  {
   "cell_type": "code",
   "execution_count": null,
   "id": "595a31d5",
   "metadata": {},
   "outputs": [],
   "source": [
    "# TODO: Write to new csv for model training"
   ]
  }
 ],
 "metadata": {
  "kernelspec": {
   "display_name": "Python 3 (ipykernel)",
   "language": "python",
   "name": "python3"
  },
  "language_info": {
   "codemirror_mode": {
    "name": "ipython",
    "version": 3
   },
   "file_extension": ".py",
   "mimetype": "text/x-python",
   "name": "python",
   "nbconvert_exporter": "python",
   "pygments_lexer": "ipython3",
   "version": "3.9.5"
  }
 },
 "nbformat": 4,
 "nbformat_minor": 5
}
