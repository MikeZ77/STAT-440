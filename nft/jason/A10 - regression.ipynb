{
 "cells": [
  {
   "cell_type": "code",
   "execution_count": 1,
   "id": "d1731176",
   "metadata": {},
   "outputs": [],
   "source": [
    "import pandas as pd\n",
    "import numpy as np\n",
    "\n",
    "# Read data\n",
    "\n",
    "XYtr = pd.read_csv('data/XYtr.csv')"
   ]
  },
  {
   "cell_type": "code",
   "execution_count": 2,
   "id": "017e7ee1",
   "metadata": {},
   "outputs": [
    {
     "data": {
      "text/plain": [
       "Index(['id', 'X.sales', 'cdate', 'description', 'version', 'symbol', 'ext',\n",
       "       'fee1', 'fee2', 'total'],\n",
       "      dtype='object')"
      ]
     },
     "execution_count": 2,
     "metadata": {},
     "output_type": "execute_result"
    }
   ],
   "source": [
    "XYtr.columns"
   ]
  },
  {
   "cell_type": "code",
   "execution_count": 3,
   "id": "8d3b6d4c",
   "metadata": {},
   "outputs": [
    {
     "data": {
      "text/plain": [
       "id              object\n",
       "X.sales          int64\n",
       "cdate           object\n",
       "description     object\n",
       "version         object\n",
       "symbol          object\n",
       "ext             object\n",
       "fee1           float64\n",
       "fee2           float64\n",
       "total          float64\n",
       "dtype: object"
      ]
     },
     "execution_count": 3,
     "metadata": {},
     "output_type": "execute_result"
    }
   ],
   "source": [
    "XYtr.dtypes"
   ]
  },
  {
   "cell_type": "code",
   "execution_count": 4,
   "id": "27eb6bbc",
   "metadata": {},
   "outputs": [
    {
     "data": {
      "text/plain": [
       "9.658152278739658"
      ]
     },
     "execution_count": 4,
     "metadata": {},
     "output_type": "execute_result"
    }
   ],
   "source": [
    "mu = np.mean(XYtr['total'])\n",
    "mu"
   ]
  },
  {
   "cell_type": "code",
   "execution_count": 5,
   "id": "a8406fb7",
   "metadata": {},
   "outputs": [],
   "source": [
    "pred = pd.read_csv('data/pred.csv')"
   ]
  },
  {
   "cell_type": "code",
   "execution_count": 6,
   "id": "2ee2e8bd",
   "metadata": {},
   "outputs": [
    {
     "data": {
      "text/plain": [
       "Index(['id', 'total'], dtype='object')"
      ]
     },
     "execution_count": 6,
     "metadata": {},
     "output_type": "execute_result"
    }
   ],
   "source": [
    "pred.columns"
   ]
  },
  {
   "cell_type": "code",
   "execution_count": 7,
   "id": "d479dcbb",
   "metadata": {},
   "outputs": [
    {
     "data": {
      "text/html": [
       "<div>\n",
       "<style scoped>\n",
       "    .dataframe tbody tr th:only-of-type {\n",
       "        vertical-align: middle;\n",
       "    }\n",
       "\n",
       "    .dataframe tbody tr th {\n",
       "        vertical-align: top;\n",
       "    }\n",
       "\n",
       "    .dataframe thead th {\n",
       "        text-align: right;\n",
       "    }\n",
       "</style>\n",
       "<table border=\"1\" class=\"dataframe\">\n",
       "  <thead>\n",
       "    <tr style=\"text-align: right;\">\n",
       "      <th></th>\n",
       "      <th>id</th>\n",
       "      <th>total</th>\n",
       "    </tr>\n",
       "  </thead>\n",
       "  <tbody>\n",
       "    <tr>\n",
       "      <th>0</th>\n",
       "      <td>7e79f1a9cb10504dd2fc569d84f2a346</td>\n",
       "      <td>0</td>\n",
       "    </tr>\n",
       "    <tr>\n",
       "      <th>1</th>\n",
       "      <td>4a2f52a31466509462042dacd3d66de7</td>\n",
       "      <td>0</td>\n",
       "    </tr>\n",
       "    <tr>\n",
       "      <th>2</th>\n",
       "      <td>f22f6ec19360a7bcc7e0f6c76912c88b</td>\n",
       "      <td>0</td>\n",
       "    </tr>\n",
       "    <tr>\n",
       "      <th>3</th>\n",
       "      <td>6382e9933644b1751511264ec8194ef5</td>\n",
       "      <td>0</td>\n",
       "    </tr>\n",
       "    <tr>\n",
       "      <th>4</th>\n",
       "      <td>638c2f2961777b10009d7fdebae561bc</td>\n",
       "      <td>0</td>\n",
       "    </tr>\n",
       "    <tr>\n",
       "      <th>...</th>\n",
       "      <td>...</td>\n",
       "      <td>...</td>\n",
       "    </tr>\n",
       "    <tr>\n",
       "      <th>6909</th>\n",
       "      <td>62eb6ce056e943070967d8835a204551</td>\n",
       "      <td>0</td>\n",
       "    </tr>\n",
       "    <tr>\n",
       "      <th>6910</th>\n",
       "      <td>6a5a9ef25ea4889cef2b14a272ba958c</td>\n",
       "      <td>0</td>\n",
       "    </tr>\n",
       "    <tr>\n",
       "      <th>6911</th>\n",
       "      <td>6c8edfdb7aec834d73e4b8d36ec0736d</td>\n",
       "      <td>0</td>\n",
       "    </tr>\n",
       "    <tr>\n",
       "      <th>6912</th>\n",
       "      <td>c4618bb91765903dad4451933ee396ea</td>\n",
       "      <td>0</td>\n",
       "    </tr>\n",
       "    <tr>\n",
       "      <th>6913</th>\n",
       "      <td>3b665129694904b2024dc7cd8230babe</td>\n",
       "      <td>0</td>\n",
       "    </tr>\n",
       "  </tbody>\n",
       "</table>\n",
       "<p>6914 rows × 2 columns</p>\n",
       "</div>"
      ],
      "text/plain": [
       "                                    id  total\n",
       "0     7e79f1a9cb10504dd2fc569d84f2a346      0\n",
       "1     4a2f52a31466509462042dacd3d66de7      0\n",
       "2     f22f6ec19360a7bcc7e0f6c76912c88b      0\n",
       "3     6382e9933644b1751511264ec8194ef5      0\n",
       "4     638c2f2961777b10009d7fdebae561bc      0\n",
       "...                                ...    ...\n",
       "6909  62eb6ce056e943070967d8835a204551      0\n",
       "6910  6a5a9ef25ea4889cef2b14a272ba958c      0\n",
       "6911  6c8edfdb7aec834d73e4b8d36ec0736d      0\n",
       "6912  c4618bb91765903dad4451933ee396ea      0\n",
       "6913  3b665129694904b2024dc7cd8230babe      0\n",
       "\n",
       "[6914 rows x 2 columns]"
      ]
     },
     "execution_count": 7,
     "metadata": {},
     "output_type": "execute_result"
    }
   ],
   "source": [
    "# Predict mean\n",
    "pred0 = pred.copy()\n",
    "pred0"
   ]
  },
  {
   "cell_type": "code",
   "execution_count": 8,
   "id": "a60b61ba",
   "metadata": {},
   "outputs": [
    {
     "data": {
      "text/html": [
       "<div>\n",
       "<style scoped>\n",
       "    .dataframe tbody tr th:only-of-type {\n",
       "        vertical-align: middle;\n",
       "    }\n",
       "\n",
       "    .dataframe tbody tr th {\n",
       "        vertical-align: top;\n",
       "    }\n",
       "\n",
       "    .dataframe thead th {\n",
       "        text-align: right;\n",
       "    }\n",
       "</style>\n",
       "<table border=\"1\" class=\"dataframe\">\n",
       "  <thead>\n",
       "    <tr style=\"text-align: right;\">\n",
       "      <th></th>\n",
       "      <th>id</th>\n",
       "      <th>total</th>\n",
       "    </tr>\n",
       "  </thead>\n",
       "  <tbody>\n",
       "    <tr>\n",
       "      <th>0</th>\n",
       "      <td>7e79f1a9cb10504dd2fc569d84f2a346</td>\n",
       "      <td>9.658152</td>\n",
       "    </tr>\n",
       "    <tr>\n",
       "      <th>1</th>\n",
       "      <td>4a2f52a31466509462042dacd3d66de7</td>\n",
       "      <td>9.658152</td>\n",
       "    </tr>\n",
       "    <tr>\n",
       "      <th>2</th>\n",
       "      <td>f22f6ec19360a7bcc7e0f6c76912c88b</td>\n",
       "      <td>9.658152</td>\n",
       "    </tr>\n",
       "    <tr>\n",
       "      <th>3</th>\n",
       "      <td>6382e9933644b1751511264ec8194ef5</td>\n",
       "      <td>9.658152</td>\n",
       "    </tr>\n",
       "    <tr>\n",
       "      <th>4</th>\n",
       "      <td>638c2f2961777b10009d7fdebae561bc</td>\n",
       "      <td>9.658152</td>\n",
       "    </tr>\n",
       "    <tr>\n",
       "      <th>...</th>\n",
       "      <td>...</td>\n",
       "      <td>...</td>\n",
       "    </tr>\n",
       "    <tr>\n",
       "      <th>6909</th>\n",
       "      <td>62eb6ce056e943070967d8835a204551</td>\n",
       "      <td>9.658152</td>\n",
       "    </tr>\n",
       "    <tr>\n",
       "      <th>6910</th>\n",
       "      <td>6a5a9ef25ea4889cef2b14a272ba958c</td>\n",
       "      <td>9.658152</td>\n",
       "    </tr>\n",
       "    <tr>\n",
       "      <th>6911</th>\n",
       "      <td>6c8edfdb7aec834d73e4b8d36ec0736d</td>\n",
       "      <td>9.658152</td>\n",
       "    </tr>\n",
       "    <tr>\n",
       "      <th>6912</th>\n",
       "      <td>c4618bb91765903dad4451933ee396ea</td>\n",
       "      <td>9.658152</td>\n",
       "    </tr>\n",
       "    <tr>\n",
       "      <th>6913</th>\n",
       "      <td>3b665129694904b2024dc7cd8230babe</td>\n",
       "      <td>9.658152</td>\n",
       "    </tr>\n",
       "  </tbody>\n",
       "</table>\n",
       "<p>6914 rows × 2 columns</p>\n",
       "</div>"
      ],
      "text/plain": [
       "                                    id     total\n",
       "0     7e79f1a9cb10504dd2fc569d84f2a346  9.658152\n",
       "1     4a2f52a31466509462042dacd3d66de7  9.658152\n",
       "2     f22f6ec19360a7bcc7e0f6c76912c88b  9.658152\n",
       "3     6382e9933644b1751511264ec8194ef5  9.658152\n",
       "4     638c2f2961777b10009d7fdebae561bc  9.658152\n",
       "...                                ...       ...\n",
       "6909  62eb6ce056e943070967d8835a204551  9.658152\n",
       "6910  6a5a9ef25ea4889cef2b14a272ba958c  9.658152\n",
       "6911  6c8edfdb7aec834d73e4b8d36ec0736d  9.658152\n",
       "6912  c4618bb91765903dad4451933ee396ea  9.658152\n",
       "6913  3b665129694904b2024dc7cd8230babe  9.658152\n",
       "\n",
       "[6914 rows x 2 columns]"
      ]
     },
     "execution_count": 8,
     "metadata": {},
     "output_type": "execute_result"
    }
   ],
   "source": [
    "pred0['total'] = mu\n",
    "pred0"
   ]
  },
  {
   "cell_type": "code",
   "execution_count": null,
   "id": "628618a4",
   "metadata": {},
   "outputs": [],
   "source": [
    "#pred0.to_csv('data/pred0.csv', index = False)"
   ]
  },
  {
   "cell_type": "code",
   "execution_count": 9,
   "id": "3f520ef5",
   "metadata": {},
   "outputs": [
    {
     "data": {
      "text/plain": [
       "0       2019-04-26\n",
       "1       2020-10-26\n",
       "2       2019-04-26\n",
       "3       2019-04-26\n",
       "4       2019-04-26\n",
       "           ...    \n",
       "6909    2020-11-27\n",
       "6910    2019-04-26\n",
       "6911    2019-05-08\n",
       "6912    2021-06-12\n",
       "6913    2020-10-09\n",
       "Name: cdate, Length: 6914, dtype: object"
      ]
     },
     "execution_count": 9,
     "metadata": {},
     "output_type": "execute_result"
    }
   ],
   "source": [
    "# Convert date to numeric, extract numeric columns\n",
    "cdate = XYtr['cdate']\n",
    "cdate"
   ]
  },
  {
   "cell_type": "code",
   "execution_count": 10,
   "id": "638422dc",
   "metadata": {},
   "outputs": [
    {
     "data": {
      "text/plain": [
       "0       18012.0\n",
       "1       18561.0\n",
       "2       18012.0\n",
       "3       18012.0\n",
       "4       18012.0\n",
       "         ...   \n",
       "6909    18593.0\n",
       "6910    18012.0\n",
       "6911    18024.0\n",
       "6912    18790.0\n",
       "6913    18544.0\n",
       "Name: cdate, Length: 6914, dtype: float64"
      ]
     },
     "execution_count": 10,
     "metadata": {},
     "output_type": "execute_result"
    }
   ],
   "source": [
    "XYtr1 = XYtr.copy() # from stackoverflow\n",
    "# in days from jan 01 1970 to present date but does not include end date in calculation\n",
    "XYtr1['cdate'] = pd.to_datetime(cdate).values.astype(np.float64)/8.64e+13\n",
    "XYtr1['cdate']"
   ]
  },
  {
   "cell_type": "code",
   "execution_count": 11,
   "id": "736c5e76",
   "metadata": {},
   "outputs": [],
   "source": [
    "Ytr1 = XYtr1['total'].copy()\n",
    "Xtr1 = XYtr1[['X.sales', 'cdate', 'fee1', 'fee2']].copy()"
   ]
  },
  {
   "cell_type": "code",
   "execution_count": 12,
   "id": "188269a1",
   "metadata": {},
   "outputs": [
    {
     "data": {
      "text/html": [
       "<div>\n",
       "<style scoped>\n",
       "    .dataframe tbody tr th:only-of-type {\n",
       "        vertical-align: middle;\n",
       "    }\n",
       "\n",
       "    .dataframe tbody tr th {\n",
       "        vertical-align: top;\n",
       "    }\n",
       "\n",
       "    .dataframe thead th {\n",
       "        text-align: right;\n",
       "    }\n",
       "</style>\n",
       "<table border=\"1\" class=\"dataframe\">\n",
       "  <thead>\n",
       "    <tr style=\"text-align: right;\">\n",
       "      <th></th>\n",
       "      <th>X.sales</th>\n",
       "      <th>cdate</th>\n",
       "      <th>fee1</th>\n",
       "      <th>fee2</th>\n",
       "    </tr>\n",
       "  </thead>\n",
       "  <tbody>\n",
       "    <tr>\n",
       "      <th>0</th>\n",
       "      <td>1</td>\n",
       "      <td>18012.0</td>\n",
       "      <td>250.0</td>\n",
       "      <td>500.0</td>\n",
       "    </tr>\n",
       "    <tr>\n",
       "      <th>1</th>\n",
       "      <td>42</td>\n",
       "      <td>18561.0</td>\n",
       "      <td>250.0</td>\n",
       "      <td>500.0</td>\n",
       "    </tr>\n",
       "    <tr>\n",
       "      <th>2</th>\n",
       "      <td>3</td>\n",
       "      <td>18012.0</td>\n",
       "      <td>750.0</td>\n",
       "      <td>1000.0</td>\n",
       "    </tr>\n",
       "    <tr>\n",
       "      <th>3</th>\n",
       "      <td>4</td>\n",
       "      <td>18012.0</td>\n",
       "      <td>750.0</td>\n",
       "      <td>1000.0</td>\n",
       "    </tr>\n",
       "    <tr>\n",
       "      <th>4</th>\n",
       "      <td>1</td>\n",
       "      <td>18012.0</td>\n",
       "      <td>300.0</td>\n",
       "      <td>550.0</td>\n",
       "    </tr>\n",
       "    <tr>\n",
       "      <th>...</th>\n",
       "      <td>...</td>\n",
       "      <td>...</td>\n",
       "      <td>...</td>\n",
       "      <td>...</td>\n",
       "    </tr>\n",
       "    <tr>\n",
       "      <th>6909</th>\n",
       "      <td>3</td>\n",
       "      <td>18593.0</td>\n",
       "      <td>750.0</td>\n",
       "      <td>1000.0</td>\n",
       "    </tr>\n",
       "    <tr>\n",
       "      <th>6910</th>\n",
       "      <td>2</td>\n",
       "      <td>18012.0</td>\n",
       "      <td>750.0</td>\n",
       "      <td>1000.0</td>\n",
       "    </tr>\n",
       "    <tr>\n",
       "      <th>6911</th>\n",
       "      <td>2</td>\n",
       "      <td>18024.0</td>\n",
       "      <td>0.0</td>\n",
       "      <td>250.0</td>\n",
       "    </tr>\n",
       "    <tr>\n",
       "      <th>6912</th>\n",
       "      <td>2</td>\n",
       "      <td>18790.0</td>\n",
       "      <td>200.0</td>\n",
       "      <td>450.0</td>\n",
       "    </tr>\n",
       "    <tr>\n",
       "      <th>6913</th>\n",
       "      <td>4</td>\n",
       "      <td>18544.0</td>\n",
       "      <td>1000.0</td>\n",
       "      <td>1250.0</td>\n",
       "    </tr>\n",
       "  </tbody>\n",
       "</table>\n",
       "<p>6914 rows × 4 columns</p>\n",
       "</div>"
      ],
      "text/plain": [
       "      X.sales    cdate    fee1    fee2\n",
       "0           1  18012.0   250.0   500.0\n",
       "1          42  18561.0   250.0   500.0\n",
       "2           3  18012.0   750.0  1000.0\n",
       "3           4  18012.0   750.0  1000.0\n",
       "4           1  18012.0   300.0   550.0\n",
       "...       ...      ...     ...     ...\n",
       "6909        3  18593.0   750.0  1000.0\n",
       "6910        2  18012.0   750.0  1000.0\n",
       "6911        2  18024.0     0.0   250.0\n",
       "6912        2  18790.0   200.0   450.0\n",
       "6913        4  18544.0  1000.0  1250.0\n",
       "\n",
       "[6914 rows x 4 columns]"
      ]
     },
     "execution_count": 12,
     "metadata": {},
     "output_type": "execute_result"
    }
   ],
   "source": [
    "Xtr1"
   ]
  },
  {
   "cell_type": "code",
   "execution_count": 13,
   "id": "6016c3f2",
   "metadata": {},
   "outputs": [
    {
     "data": {
      "text/plain": [
       "0        0.055\n",
       "1       75.000\n",
       "2        0.158\n",
       "3        1.990\n",
       "4        1.000\n",
       "         ...  \n",
       "6909     0.550\n",
       "6910     0.100\n",
       "6911     0.966\n",
       "6912     0.170\n",
       "6913     0.100\n",
       "Name: total, Length: 6914, dtype: float64"
      ]
     },
     "execution_count": 13,
     "metadata": {},
     "output_type": "execute_result"
    }
   ],
   "source": [
    "Ytr1"
   ]
  },
  {
   "cell_type": "code",
   "execution_count": 14,
   "id": "625cad88",
   "metadata": {},
   "outputs": [
    {
     "name": "stdout",
     "output_type": "stream",
     "text": [
      "0.055\n",
      "0.055\n",
      "0.0\n",
      "0.055\n"
     ]
    }
   ],
   "source": [
    "print(Ytr1[0])\n",
    "print(XYtr1.iloc[0, -1])\n",
    "Ytr1[0] = 0\n",
    "print(Ytr1[0])\n",
    "print(XYtr1.iloc[0, -1])"
   ]
  },
  {
   "cell_type": "code",
   "execution_count": 15,
   "id": "b5e27c4c",
   "metadata": {},
   "outputs": [
    {
     "data": {
      "text/plain": [
       "X.sales      int64\n",
       "cdate      float64\n",
       "fee1       float64\n",
       "fee2       float64\n",
       "dtype: object"
      ]
     },
     "execution_count": 15,
     "metadata": {},
     "output_type": "execute_result"
    }
   ],
   "source": [
    "Xtr1.dtypes"
   ]
  },
  {
   "cell_type": "code",
   "execution_count": 16,
   "id": "023d9e6b",
   "metadata": {},
   "outputs": [],
   "source": [
    "Xtr1 = Xtr1.astype(np.float64)"
   ]
  },
  {
   "cell_type": "code",
   "execution_count": 17,
   "id": "39869b71",
   "metadata": {},
   "outputs": [
    {
     "data": {
      "text/plain": [
       "X.sales    float64\n",
       "cdate      float64\n",
       "fee1       float64\n",
       "fee2       float64\n",
       "dtype: object"
      ]
     },
     "execution_count": 17,
     "metadata": {},
     "output_type": "execute_result"
    }
   ],
   "source": [
    "Xtr1.dtypes"
   ]
  },
  {
   "cell_type": "code",
   "execution_count": 18,
   "id": "b04060c2",
   "metadata": {},
   "outputs": [],
   "source": [
    "Xtr1 = Xtr1.fillna(0)"
   ]
  },
  {
   "cell_type": "code",
   "execution_count": 19,
   "id": "0f91f34f",
   "metadata": {},
   "outputs": [],
   "source": [
    "# Linear regression\n",
    "\n",
    "from sklearn.linear_model import LinearRegression\n",
    "\n",
    "model = LinearRegression().fit(Xtr1, Ytr1)"
   ]
  },
  {
   "cell_type": "code",
   "execution_count": null,
   "id": "6a8d2288",
   "metadata": {},
   "outputs": [],
   "source": [
    "#model1 = LinearRegression().fit(Xtr1, Ytr1)"
   ]
  },
  {
   "cell_type": "code",
   "execution_count": 20,
   "id": "a28df706",
   "metadata": {},
   "outputs": [],
   "source": [
    "Xte = pd.read_csv('data/Xte.csv')"
   ]
  },
  {
   "cell_type": "code",
   "execution_count": 21,
   "id": "e380d3e9",
   "metadata": {},
   "outputs": [],
   "source": [
    "Xte1 = Xte.copy()\n",
    "Xte1['cdate'] = pd.to_datetime(Xte1['cdate']).values.astype(np.float64)/8.64e+13"
   ]
  },
  {
   "cell_type": "code",
   "execution_count": 22,
   "id": "8795df8f",
   "metadata": {},
   "outputs": [],
   "source": [
    "Xte1 = Xte1[['X.sales', 'cdate', 'fee1', 'fee2']].copy()"
   ]
  },
  {
   "cell_type": "code",
   "execution_count": 23,
   "id": "c453c2a0",
   "metadata": {},
   "outputs": [
    {
     "data": {
      "text/plain": [
       "X.sales      int64\n",
       "cdate      float64\n",
       "fee1       float64\n",
       "fee2       float64\n",
       "dtype: object"
      ]
     },
     "execution_count": 23,
     "metadata": {},
     "output_type": "execute_result"
    }
   ],
   "source": [
    "Xte1.dtypes"
   ]
  },
  {
   "cell_type": "code",
   "execution_count": 24,
   "id": "c39f1d5e",
   "metadata": {},
   "outputs": [],
   "source": [
    "Xte1 = Xte1.astype(np.float64)"
   ]
  },
  {
   "cell_type": "code",
   "execution_count": 25,
   "id": "dbe1cb40",
   "metadata": {},
   "outputs": [],
   "source": [
    "Xte1 = Xte1.fillna(0)"
   ]
  },
  {
   "cell_type": "code",
   "execution_count": 26,
   "id": "992194e9",
   "metadata": {},
   "outputs": [],
   "source": [
    "pred1 = pred0.copy()\n",
    "pred1['total'] = model.predict(Xte1)"
   ]
  },
  {
   "cell_type": "code",
   "execution_count": 28,
   "id": "97b889bf",
   "metadata": {},
   "outputs": [],
   "source": [
    "#pred1.to_csv('data/pred1.csv', index = False)"
   ]
  },
  {
   "cell_type": "code",
   "execution_count": null,
   "id": "a9ea6137",
   "metadata": {},
   "outputs": [],
   "source": [
    "mu2 = np.median(XYtr['total'])\n",
    "pred2 = pred0.copy()\n",
    "pred2['total'] = mu2\n",
    "pred2.to_csv('data/pred2.csv', index = False)"
   ]
  },
  {
   "cell_type": "code",
   "execution_count": 29,
   "id": "b2505326",
   "metadata": {},
   "outputs": [],
   "source": [
    "# https://datascience.stackexchange.com/questions/37941/what-is-the-difference-between-sgd-classifier-and-the-logisitc-regression\n",
    "from sklearn.preprocessing import StandardScaler\n",
    "scaler = StandardScaler()\n",
    "Xtr3 = scaler.fit_transform(Xtr1)\n",
    "Xte3 = scaler.transform(Xte1)"
   ]
  },
  {
   "cell_type": "code",
   "execution_count": 30,
   "id": "3845287a",
   "metadata": {},
   "outputs": [],
   "source": [
    "# https://datascience.stackexchange.com/questions/37941/what-is-the-difference-between-sgd-classifier-and-the-logisitc-regression\n",
    "#from sklearn.preprocessing import StandardScaler\n",
    "#scaler = StandardScaler()\n",
    "from sklearn.linear_model import SGDRegressor\n",
    "model3 = SGDRegressor(loss = 'epsilon_insensitive', alpha = 0, epsilon = 0).fit(Xtr3, Ytr1)"
   ]
  },
  {
   "cell_type": "code",
   "execution_count": 31,
   "id": "97c811d8",
   "metadata": {},
   "outputs": [],
   "source": [
    "pred3 = pred0.copy()\n",
    "pred3['total'] = model3.predict(Xte3)\n",
    "#pred3.to_csv('data/pred3.csv', index = False)"
   ]
  },
  {
   "cell_type": "code",
   "execution_count": 32,
   "id": "f4bc5969",
   "metadata": {},
   "outputs": [
    {
     "data": {
      "text/html": [
       "<div>\n",
       "<style scoped>\n",
       "    .dataframe tbody tr th:only-of-type {\n",
       "        vertical-align: middle;\n",
       "    }\n",
       "\n",
       "    .dataframe tbody tr th {\n",
       "        vertical-align: top;\n",
       "    }\n",
       "\n",
       "    .dataframe thead th {\n",
       "        text-align: right;\n",
       "    }\n",
       "</style>\n",
       "<table border=\"1\" class=\"dataframe\">\n",
       "  <thead>\n",
       "    <tr style=\"text-align: right;\">\n",
       "      <th></th>\n",
       "      <th>id</th>\n",
       "      <th>total</th>\n",
       "    </tr>\n",
       "  </thead>\n",
       "  <tbody>\n",
       "    <tr>\n",
       "      <th>0</th>\n",
       "      <td>7e79f1a9cb10504dd2fc569d84f2a346</td>\n",
       "      <td>0.101528</td>\n",
       "    </tr>\n",
       "    <tr>\n",
       "      <th>1</th>\n",
       "      <td>4a2f52a31466509462042dacd3d66de7</td>\n",
       "      <td>0.083324</td>\n",
       "    </tr>\n",
       "    <tr>\n",
       "      <th>2</th>\n",
       "      <td>f22f6ec19360a7bcc7e0f6c76912c88b</td>\n",
       "      <td>0.051799</td>\n",
       "    </tr>\n",
       "    <tr>\n",
       "      <th>3</th>\n",
       "      <td>6382e9933644b1751511264ec8194ef5</td>\n",
       "      <td>0.074719</td>\n",
       "    </tr>\n",
       "    <tr>\n",
       "      <th>4</th>\n",
       "      <td>638c2f2961777b10009d7fdebae561bc</td>\n",
       "      <td>0.083324</td>\n",
       "    </tr>\n",
       "    <tr>\n",
       "      <th>...</th>\n",
       "      <td>...</td>\n",
       "      <td>...</td>\n",
       "    </tr>\n",
       "    <tr>\n",
       "      <th>6909</th>\n",
       "      <td>62eb6ce056e943070967d8835a204551</td>\n",
       "      <td>0.235460</td>\n",
       "    </tr>\n",
       "    <tr>\n",
       "      <th>6910</th>\n",
       "      <td>6a5a9ef25ea4889cef2b14a272ba958c</td>\n",
       "      <td>0.040783</td>\n",
       "    </tr>\n",
       "    <tr>\n",
       "      <th>6911</th>\n",
       "      <td>6c8edfdb7aec834d73e4b8d36ec0736d</td>\n",
       "      <td>0.168408</td>\n",
       "    </tr>\n",
       "    <tr>\n",
       "      <th>6912</th>\n",
       "      <td>c4618bb91765903dad4451933ee396ea</td>\n",
       "      <td>0.083324</td>\n",
       "    </tr>\n",
       "    <tr>\n",
       "      <th>6913</th>\n",
       "      <td>3b665129694904b2024dc7cd8230babe</td>\n",
       "      <td>0.168314</td>\n",
       "    </tr>\n",
       "  </tbody>\n",
       "</table>\n",
       "<p>6914 rows × 2 columns</p>\n",
       "</div>"
      ],
      "text/plain": [
       "                                    id     total\n",
       "0     7e79f1a9cb10504dd2fc569d84f2a346  0.101528\n",
       "1     4a2f52a31466509462042dacd3d66de7  0.083324\n",
       "2     f22f6ec19360a7bcc7e0f6c76912c88b  0.051799\n",
       "3     6382e9933644b1751511264ec8194ef5  0.074719\n",
       "4     638c2f2961777b10009d7fdebae561bc  0.083324\n",
       "...                                ...       ...\n",
       "6909  62eb6ce056e943070967d8835a204551  0.235460\n",
       "6910  6a5a9ef25ea4889cef2b14a272ba958c  0.040783\n",
       "6911  6c8edfdb7aec834d73e4b8d36ec0736d  0.168408\n",
       "6912  c4618bb91765903dad4451933ee396ea  0.083324\n",
       "6913  3b665129694904b2024dc7cd8230babe  0.168314\n",
       "\n",
       "[6914 rows x 2 columns]"
      ]
     },
     "execution_count": 32,
     "metadata": {},
     "output_type": "execute_result"
    }
   ],
   "source": [
    "pred3"
   ]
  },
  {
   "cell_type": "code",
   "execution_count": 33,
   "id": "5e30181c",
   "metadata": {},
   "outputs": [
    {
     "data": {
      "text/plain": [
       "5.842400134214882e-16"
      ]
     },
     "execution_count": 33,
     "metadata": {},
     "output_type": "execute_result"
    }
   ],
   "source": [
    "np.mean(Xtr3[:,1])"
   ]
  }
 ],
 "metadata": {
  "kernelspec": {
   "display_name": "Python 3 (ipykernel)",
   "language": "python",
   "name": "python3"
  },
  "language_info": {
   "codemirror_mode": {
    "name": "ipython",
    "version": 3
   },
   "file_extension": ".py",
   "mimetype": "text/x-python",
   "name": "python",
   "nbconvert_exporter": "python",
   "pygments_lexer": "ipython3",
   "version": "3.9.5"
  }
 },
 "nbformat": 4,
 "nbformat_minor": 5
}
